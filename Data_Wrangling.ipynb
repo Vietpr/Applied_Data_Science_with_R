{
  "cells": [
    {
      "cell_type": "markdown",
      "metadata": {
        "id": "7e4ad531-56bd-4436-a745-967c8e9088e1"
      },
      "source": [
        "<h1>Data Wrangling with Tidyverse</h1>\n"
      ]
    },
    {
      "cell_type": "markdown",
      "metadata": {
        "id": "d9638dc8-0860-40aa-aaba-a392458c880a"
      },
      "source": [
        "### Table of Contents:\n",
        "* [1. Missing Values and Formatting](#missing_values)\n",
        "    * [1.1 Identify Missing Values](#identify_missing_values)\n",
        "    * [1.2 Handle Missing Values](#handle_missing_values)\n",
        "    * [1.3 Correct Data Format](#correct_data_format)\n",
        "* [2. Data Normalization](#data_normalization)\n",
        "    * [2.1 Simple Scaling](#simple_scale)\n",
        "    * [2.2 Min-max](#min_max)\n",
        "    * [2.3 Standardization (Z-score)](#data_standardization)\n",
        "* [4. Binning](#binning)\n",
        "* [5. Indicator Variable](#indicator)\n"
      ]
    },
    {
      "cell_type": "markdown",
      "metadata": {
        "id": "87889b50-7d65-44b3-8156-d2d3ece60ed9"
      },
      "source": [
        "## Load Libraries and Data\n"
      ]
    },
    {
      "cell_type": "markdown",
      "metadata": {
        "id": "c231d66d-a4fb-4630-8041-3c2808e50827"
      },
      "source": [
        "First, load the tidyverse library.\n"
      ]
    },
    {
      "cell_type": "code",
      "execution_count": null,
      "metadata": {
        "id": "765cfbeb-970b-4476-b0a8-707aefed5011",
        "outputId": "3f1d918a-28a9-425f-f1a4-fc0ecddd3c6d",
        "colab": {
          "base_uri": "https://localhost:8080/"
        }
      },
      "outputs": [
        {
          "output_type": "stream",
          "name": "stderr",
          "text": [
            "Installing package into ‘/usr/local/lib/R/site-library’\n",
            "(as ‘lib’ is unspecified)\n",
            "\n",
            "── \u001b[1mAttaching core tidyverse packages\u001b[22m ──────────────────────── tidyverse 2.0.0 ──\n",
            "\u001b[32m✔\u001b[39m \u001b[34mdplyr    \u001b[39m 1.1.4     \u001b[32m✔\u001b[39m \u001b[34mreadr    \u001b[39m 2.1.5\n",
            "\u001b[32m✔\u001b[39m \u001b[34mforcats  \u001b[39m 1.0.0     \u001b[32m✔\u001b[39m \u001b[34mstringr  \u001b[39m 1.5.1\n",
            "\u001b[32m✔\u001b[39m \u001b[34mggplot2  \u001b[39m 3.4.4     \u001b[32m✔\u001b[39m \u001b[34mtibble   \u001b[39m 3.2.1\n",
            "\u001b[32m✔\u001b[39m \u001b[34mlubridate\u001b[39m 1.9.3     \u001b[32m✔\u001b[39m \u001b[34mtidyr    \u001b[39m 1.3.1\n",
            "\u001b[32m✔\u001b[39m \u001b[34mpurrr    \u001b[39m 1.0.2     \n",
            "── \u001b[1mConflicts\u001b[22m ────────────────────────────────────────── tidyverse_conflicts() ──\n",
            "\u001b[31m✖\u001b[39m \u001b[34mpurrr\u001b[39m::\u001b[32m%||%()\u001b[39m   masks \u001b[34mbase\u001b[39m::%||%()\n",
            "\u001b[31m✖\u001b[39m \u001b[34mdplyr\u001b[39m::\u001b[32mfilter()\u001b[39m masks \u001b[34mstats\u001b[39m::filter()\n",
            "\u001b[31m✖\u001b[39m \u001b[34mdplyr\u001b[39m::\u001b[32mlag()\u001b[39m    masks \u001b[34mstats\u001b[39m::lag()\n",
            "\u001b[36mℹ\u001b[39m Use the conflicted package (\u001b[3m\u001b[34m<http://conflicted.r-lib.org/>\u001b[39m\u001b[23m) to force all conflicts to become errors\n"
          ]
        }
      ],
      "source": [
        "# Load tidyverse\n",
        "install.packages(\"tidyverse\")\n",
        "library(tidyverse)"
      ]
    },
    {
      "cell_type": "markdown",
      "metadata": {
        "id": "5428dc02-ceb6-467f-b653-c1575c723896"
      },
      "source": [
        "The original Airline dataset is hosted on <a href=\"https://developer.ibm.com/exchanges/data/all/airline/?utm_medium=Exinfluencer&utm_source=Exinfluencer&utm_content=000026UJ&utm_term=10006555&utm_id=NA-SkillsNetwork-Channel-SkillsNetworkCoursesIBMDA0151ENSkillsNetwork926-2022-01-01\">IBM Data Asset eXchange</a>. This sample dataset can be found <a href=\"https://dax-cdn.cdn.appdomain.cloud/dax-airline/1.0.1/lax_to_jfk.tar.gz\">here</a>.  We will be using a subset of the original dataset, which contains just LAX to JFK flights, throughout this course.\n",
        "\n",
        "Now using the subset dataset link, you can load it and store as a dataframe `sub_airline`:\n"
      ]
    },
    {
      "cell_type": "code",
      "execution_count": null,
      "metadata": {
        "id": "62fc2e2c-89e0-4781-a0b3-26d74c7792d3",
        "colab": {
          "base_uri": "https://localhost:8080/"
        },
        "outputId": "b30fba1a-901c-4f2d-a85e-8506584b2b9d"
      },
      "outputs": [
        {
          "output_type": "stream",
          "name": "stderr",
          "text": [
            "Warning message in untar2(tarfile, files, list, exdir, restore_times):\n",
            "“using pax extended headers”\n"
          ]
        }
      ],
      "source": [
        "# url where the data is located\n",
        "url <- \"https://dax-cdn.cdn.appdomain.cloud/dax-airline/1.0.1/lax_to_jfk.tar.gz\"\n",
        "\n",
        "# download the file\n",
        "download.file(url, destfile = \"lax_to_jfk.tar.gz\")\n",
        "\n",
        "# untar the file so we can get the csv only\n",
        "# if you run this on your local machine, then can remove tar = \"internal\"\n",
        "untar(\"lax_to_jfk.tar.gz\", tar = \"internal\")\n",
        "\n",
        "# read_csv only\n",
        "sub_airline <- read_csv(\"lax_to_jfk/lax_to_jfk.csv\",\n",
        "                     col_types = cols('DivDistance' = col_number(),\n",
        "                                      'DivArrDelay' = col_number()))"
      ]
    },
    {
      "cell_type": "markdown",
      "metadata": {
        "id": "a1ba77ec-3046-4679-b0d4-2666668a4cf3"
      },
      "source": [
        "<a id=\"missing_values\"></a>\n",
        "## 1. Missing Values and Formatting\n",
        "\n",
        "Now that we have the data loaded, let's first take a look at the data using the method `head()`.\n"
      ]
    },
    {
      "cell_type": "code",
      "execution_count": null,
      "metadata": {
        "id": "944b9243-82ba-4a34-a66e-008824086548",
        "outputId": "de7edaf8-4c00-4d55-d7d3-5f83c4e54101",
        "colab": {
          "base_uri": "https://localhost:8080/",
          "height": 306
        }
      },
      "outputs": [
        {
          "output_type": "display_data",
          "data": {
            "text/html": [
              "<table class=\"dataframe\">\n",
              "<caption>A tibble: 6 × 21</caption>\n",
              "<thead>\n",
              "\t<tr><th scope=col>Month</th><th scope=col>DayOfWeek</th><th scope=col>FlightDate</th><th scope=col>Reporting_Airline</th><th scope=col>Origin</th><th scope=col>Dest</th><th scope=col>CRSDepTime</th><th scope=col>CRSArrTime</th><th scope=col>DepTime</th><th scope=col>ArrTime</th><th scope=col>⋯</th><th scope=col>ArrDelayMinutes</th><th scope=col>CarrierDelay</th><th scope=col>WeatherDelay</th><th scope=col>NASDelay</th><th scope=col>SecurityDelay</th><th scope=col>LateAircraftDelay</th><th scope=col>DepDelay</th><th scope=col>DepDelayMinutes</th><th scope=col>DivDistance</th><th scope=col>DivArrDelay</th></tr>\n",
              "\t<tr><th scope=col>&lt;dbl&gt;</th><th scope=col>&lt;dbl&gt;</th><th scope=col>&lt;date&gt;</th><th scope=col>&lt;chr&gt;</th><th scope=col>&lt;chr&gt;</th><th scope=col>&lt;chr&gt;</th><th scope=col>&lt;chr&gt;</th><th scope=col>&lt;chr&gt;</th><th scope=col>&lt;chr&gt;</th><th scope=col>&lt;chr&gt;</th><th scope=col>⋯</th><th scope=col>&lt;dbl&gt;</th><th scope=col>&lt;dbl&gt;</th><th scope=col>&lt;dbl&gt;</th><th scope=col>&lt;dbl&gt;</th><th scope=col>&lt;dbl&gt;</th><th scope=col>&lt;dbl&gt;</th><th scope=col>&lt;dbl&gt;</th><th scope=col>&lt;dbl&gt;</th><th scope=col>&lt;dbl&gt;</th><th scope=col>&lt;dbl&gt;</th></tr>\n",
              "</thead>\n",
              "<tbody>\n",
              "\t<tr><td> 3</td><td>5</td><td>2003-03-28</td><td>UA</td><td>LAX</td><td>JFK</td><td>2210</td><td>0615</td><td>2209</td><td>0617</td><td>⋯</td><td>2</td><td>NA</td><td>NA</td><td>NA</td><td>NA</td><td>NA</td><td>-1</td><td>0</td><td>NA</td><td>NA</td></tr>\n",
              "\t<tr><td>11</td><td>4</td><td>2018-11-29</td><td>AS</td><td>LAX</td><td>JFK</td><td>1045</td><td>1912</td><td>1049</td><td>1851</td><td>⋯</td><td>0</td><td>NA</td><td>NA</td><td>NA</td><td>NA</td><td>NA</td><td> 4</td><td>4</td><td>NA</td><td>NA</td></tr>\n",
              "\t<tr><td> 8</td><td>5</td><td>2015-08-28</td><td>UA</td><td>LAX</td><td>JFK</td><td>0805</td><td>1634</td><td>0757</td><td>1620</td><td>⋯</td><td>0</td><td>NA</td><td>NA</td><td>NA</td><td>NA</td><td>NA</td><td>-8</td><td>0</td><td>NA</td><td>NA</td></tr>\n",
              "\t<tr><td> 4</td><td>7</td><td>2003-04-20</td><td>DL</td><td>LAX</td><td>JFK</td><td>2205</td><td>0619</td><td>2212</td><td>0616</td><td>⋯</td><td>0</td><td>NA</td><td>NA</td><td>NA</td><td>NA</td><td>NA</td><td> 7</td><td>7</td><td>NA</td><td>NA</td></tr>\n",
              "\t<tr><td>11</td><td>3</td><td>2005-11-30</td><td>UA</td><td>LAX</td><td>JFK</td><td>0840</td><td>1653</td><td>0836</td><td>1640</td><td>⋯</td><td>0</td><td>NA</td><td>NA</td><td>NA</td><td>NA</td><td>NA</td><td>-4</td><td>0</td><td>NA</td><td>NA</td></tr>\n",
              "\t<tr><td> 4</td><td>1</td><td>1992-04-06</td><td>UA</td><td>LAX</td><td>JFK</td><td>1450</td><td>2308</td><td>1452</td><td>2248</td><td>⋯</td><td>0</td><td>NA</td><td>NA</td><td>NA</td><td>NA</td><td>NA</td><td> 2</td><td>2</td><td>NA</td><td>NA</td></tr>\n",
              "</tbody>\n",
              "</table>\n"
            ],
            "text/markdown": "\nA tibble: 6 × 21\n\n| Month &lt;dbl&gt; | DayOfWeek &lt;dbl&gt; | FlightDate &lt;date&gt; | Reporting_Airline &lt;chr&gt; | Origin &lt;chr&gt; | Dest &lt;chr&gt; | CRSDepTime &lt;chr&gt; | CRSArrTime &lt;chr&gt; | DepTime &lt;chr&gt; | ArrTime &lt;chr&gt; | ⋯ ⋯ | ArrDelayMinutes &lt;dbl&gt; | CarrierDelay &lt;dbl&gt; | WeatherDelay &lt;dbl&gt; | NASDelay &lt;dbl&gt; | SecurityDelay &lt;dbl&gt; | LateAircraftDelay &lt;dbl&gt; | DepDelay &lt;dbl&gt; | DepDelayMinutes &lt;dbl&gt; | DivDistance &lt;dbl&gt; | DivArrDelay &lt;dbl&gt; |\n|---|---|---|---|---|---|---|---|---|---|---|---|---|---|---|---|---|---|---|---|---|\n|  3 | 5 | 2003-03-28 | UA | LAX | JFK | 2210 | 0615 | 2209 | 0617 | ⋯ | 2 | NA | NA | NA | NA | NA | -1 | 0 | NA | NA |\n| 11 | 4 | 2018-11-29 | AS | LAX | JFK | 1045 | 1912 | 1049 | 1851 | ⋯ | 0 | NA | NA | NA | NA | NA |  4 | 4 | NA | NA |\n|  8 | 5 | 2015-08-28 | UA | LAX | JFK | 0805 | 1634 | 0757 | 1620 | ⋯ | 0 | NA | NA | NA | NA | NA | -8 | 0 | NA | NA |\n|  4 | 7 | 2003-04-20 | DL | LAX | JFK | 2205 | 0619 | 2212 | 0616 | ⋯ | 0 | NA | NA | NA | NA | NA |  7 | 7 | NA | NA |\n| 11 | 3 | 2005-11-30 | UA | LAX | JFK | 0840 | 1653 | 0836 | 1640 | ⋯ | 0 | NA | NA | NA | NA | NA | -4 | 0 | NA | NA |\n|  4 | 1 | 1992-04-06 | UA | LAX | JFK | 1450 | 2308 | 1452 | 2248 | ⋯ | 0 | NA | NA | NA | NA | NA |  2 | 2 | NA | NA |\n\n",
            "text/latex": "A tibble: 6 × 21\n\\begin{tabular}{lllllllllllllllllllll}\n Month & DayOfWeek & FlightDate & Reporting\\_Airline & Origin & Dest & CRSDepTime & CRSArrTime & DepTime & ArrTime & ⋯ & ArrDelayMinutes & CarrierDelay & WeatherDelay & NASDelay & SecurityDelay & LateAircraftDelay & DepDelay & DepDelayMinutes & DivDistance & DivArrDelay\\\\\n <dbl> & <dbl> & <date> & <chr> & <chr> & <chr> & <chr> & <chr> & <chr> & <chr> & ⋯ & <dbl> & <dbl> & <dbl> & <dbl> & <dbl> & <dbl> & <dbl> & <dbl> & <dbl> & <dbl>\\\\\n\\hline\n\t  3 & 5 & 2003-03-28 & UA & LAX & JFK & 2210 & 0615 & 2209 & 0617 & ⋯ & 2 & NA & NA & NA & NA & NA & -1 & 0 & NA & NA\\\\\n\t 11 & 4 & 2018-11-29 & AS & LAX & JFK & 1045 & 1912 & 1049 & 1851 & ⋯ & 0 & NA & NA & NA & NA & NA &  4 & 4 & NA & NA\\\\\n\t  8 & 5 & 2015-08-28 & UA & LAX & JFK & 0805 & 1634 & 0757 & 1620 & ⋯ & 0 & NA & NA & NA & NA & NA & -8 & 0 & NA & NA\\\\\n\t  4 & 7 & 2003-04-20 & DL & LAX & JFK & 2205 & 0619 & 2212 & 0616 & ⋯ & 0 & NA & NA & NA & NA & NA &  7 & 7 & NA & NA\\\\\n\t 11 & 3 & 2005-11-30 & UA & LAX & JFK & 0840 & 1653 & 0836 & 1640 & ⋯ & 0 & NA & NA & NA & NA & NA & -4 & 0 & NA & NA\\\\\n\t  4 & 1 & 1992-04-06 & UA & LAX & JFK & 1450 & 2308 & 1452 & 2248 & ⋯ & 0 & NA & NA & NA & NA & NA &  2 & 2 & NA & NA\\\\\n\\end{tabular}\n",
            "text/plain": [
              "  Month DayOfWeek FlightDate Reporting_Airline Origin Dest CRSDepTime\n",
              "1  3    5         2003-03-28 UA                LAX    JFK  2210      \n",
              "2 11    4         2018-11-29 AS                LAX    JFK  1045      \n",
              "3  8    5         2015-08-28 UA                LAX    JFK  0805      \n",
              "4  4    7         2003-04-20 DL                LAX    JFK  2205      \n",
              "5 11    3         2005-11-30 UA                LAX    JFK  0840      \n",
              "6  4    1         1992-04-06 UA                LAX    JFK  1450      \n",
              "  CRSArrTime DepTime ArrTime ⋯ ArrDelayMinutes CarrierDelay WeatherDelay\n",
              "1 0615       2209    0617    ⋯ 2               NA           NA          \n",
              "2 1912       1049    1851    ⋯ 0               NA           NA          \n",
              "3 1634       0757    1620    ⋯ 0               NA           NA          \n",
              "4 0619       2212    0616    ⋯ 0               NA           NA          \n",
              "5 1653       0836    1640    ⋯ 0               NA           NA          \n",
              "6 2308       1452    2248    ⋯ 0               NA           NA          \n",
              "  NASDelay SecurityDelay LateAircraftDelay DepDelay DepDelayMinutes DivDistance\n",
              "1 NA       NA            NA                -1       0               NA         \n",
              "2 NA       NA            NA                 4       4               NA         \n",
              "3 NA       NA            NA                -8       0               NA         \n",
              "4 NA       NA            NA                 7       7               NA         \n",
              "5 NA       NA            NA                -4       0               NA         \n",
              "6 NA       NA            NA                 2       2               NA         \n",
              "  DivArrDelay\n",
              "1 NA         \n",
              "2 NA         \n",
              "3 NA         \n",
              "4 NA         \n",
              "5 NA         \n",
              "6 NA         "
            ]
          },
          "metadata": {}
        }
      ],
      "source": [
        "head(sub_airline)"
      ]
    },
    {
      "cell_type": "markdown",
      "metadata": {
        "id": "bcAqobHYRsGY"
      },
      "source": [
        "#### A tibble: 6 × 21\n",
        "  Month DayOfWeek FlightDate Reporting_Airline Origin Dest  CRSDepTime CRSArrTime DepTime ArrTime\n",
        "  <dbl>     <dbl> <date>     <chr>             <chr>  <chr> <chr>      <chr>      <chr>   <chr>  \n",
        "1     3         5 2003-03-28 UA                LAX    JFK   2210       0615       2209    0617   \n",
        "2    11         4 2018-11-29 AS                LAX    JFK   1045       1912       1049    1851   \n",
        "3     8         5 2015-08-28 UA                LAX    JFK   0805       1634       0757    1620   \n",
        "4     4         7 2003-04-20 DL                LAX    JFK   2205       0619       2212    0616   \n",
        "5    11         3 2005-11-30 UA                LAX    JFK   0840       1653       0836    1640   \n",
        "6     4         1 1992-04-06 UA                LAX    JFK   1450       2308       1452    2248   \n",
        "# ℹ 11 more variables: ArrDelay <dbl>, ArrDelayMinutes <dbl>, CarrierDelay <dbl>, WeatherDelay <dbl>,\n",
        "#   NASDelay <dbl>, SecurityDelay <dbl>, LateAircraftDelay <dbl>, DepDelay <dbl>,\n",
        "#   DepDelayMinutes <dbl>, DivDistance <dbl>, DivArrDelay <dbl>"
      ]
    },
    {
      "cell_type": "markdown",
      "metadata": {
        "id": "11dddf5d-71c5-4208-b1e2-32a0332575bd"
      },
      "source": [
        "As we can see, several NA (not available) appeared in the dataframe; those are missing values which may hinder our further analysis.\n",
        "So, how do we identify all those missing values and deal with them?\n",
        "\n",
        "In the following sections, we will go over the steps for working with missing data:\n",
        "- Identify missing data\n",
        "- Deal with missing data\n",
        "- Correct data format\n"
      ]
    },
    {
      "cell_type": "markdown",
      "metadata": {
        "id": "262d99bc-293d-4af1-9f1f-c95cb42662f1"
      },
      "source": [
        "<a id=\"identify_missing_values\"></a>\n",
        "### 1.1 Identify Missing Malues\n",
        "\n",
        "In R, there are some special symbols to represent special cases in data:\n",
        "* `NA`: missing values are represented by the symbol `NA` (not available), it is a special symbol in R. Note, that `\"NA\"` (a string) is not the same as `NA`.\n",
        "* `NaN`: Impossible values (e.g., dividing by zero) are represented by the symbol `NaN` (not a number).\n",
        "\n",
        "The missing values in airline dataset are already represented with R's `NA` symbol. We use R's built-in (also called **base R**) functions to identify these missing values. There are two methods to detect missing data:\n",
        "<ol>\n",
        "    <li><code>is.na(x)</code>: x can be a vector or list, this method returns a vector of TRUE or FALSE depending if the according element in x is <code>NA</code> or not. For example <code>is.na(c(1, NA))</code> returns <code>FALSE TRUE</code></li>\n",
        "    <li><code>anyNA(x, recursive = FALSE)</code>: x can be a vector or list, this method returns TRUE if x contains any NAs and FALSE otherwise. For example <code>is.na(c(1, NA))</code> returns <code>TRUE</code></li>\n",
        "</ol>\n"
      ]
    },
    {
      "cell_type": "code",
      "execution_count": null,
      "metadata": {
        "id": "664469c1-d760-43e0-b7de-23892a2d6dec",
        "colab": {
          "base_uri": "https://localhost:8080/",
          "height": 52
        },
        "outputId": "6a87e615-e4f2-4189-f1b7-9e7c57fbcb20"
      },
      "outputs": [
        {
          "output_type": "display_data",
          "data": {
            "text/html": [
              "<style>\n",
              ".list-inline {list-style: none; margin:0; padding: 0}\n",
              ".list-inline>li {display: inline-block}\n",
              ".list-inline>li:not(:last-child)::after {content: \"\\00b7\"; padding: 0 .5ex}\n",
              "</style>\n",
              "<ol class=list-inline><li>FALSE</li><li>TRUE</li></ol>\n"
            ],
            "text/markdown": "1. FALSE\n2. TRUE\n\n\n",
            "text/latex": "\\begin{enumerate*}\n\\item FALSE\n\\item TRUE\n\\end{enumerate*}\n",
            "text/plain": [
              "[1] FALSE  TRUE"
            ]
          },
          "metadata": {}
        },
        {
          "output_type": "display_data",
          "data": {
            "text/html": [
              "<style>\n",
              ".list-inline {list-style: none; margin:0; padding: 0}\n",
              ".list-inline>li {display: inline-block}\n",
              ".list-inline>li:not(:last-child)::after {content: \"\\00b7\"; padding: 0 .5ex}\n",
              "</style>\n",
              "<ol class=list-inline><li>FALSE</li><li>FALSE</li></ol>\n"
            ],
            "text/markdown": "1. FALSE\n2. FALSE\n\n\n",
            "text/latex": "\\begin{enumerate*}\n\\item FALSE\n\\item FALSE\n\\end{enumerate*}\n",
            "text/plain": [
              "[1] FALSE FALSE"
            ]
          },
          "metadata": {}
        }
      ],
      "source": [
        "is.na(c(1, NA))        #> FALSE  TRUE\n",
        "is.na(paste(c(1, NA))) #> FALSE FALSE"
      ]
    },
    {
      "cell_type": "markdown",
      "metadata": {
        "id": "f4c34deb-e378-4ae3-9663-c907975c5ef4"
      },
      "source": [
        "Again, the output for `is.na()` is a vector of logical values where`TRUE` stands for missing value, while `FALSE` stands for not missing value.\n"
      ]
    },
    {
      "cell_type": "code",
      "execution_count": null,
      "metadata": {
        "id": "ae1dae63-9a04-4360-97a6-0ebb1f8fb3d8",
        "colab": {
          "base_uri": "https://localhost:8080/",
          "height": 34
        },
        "outputId": "6e94e544-ea76-4998-9d6d-b984300bafc2"
      },
      "outputs": [
        {
          "output_type": "display_data",
          "data": {
            "text/html": [
              "TRUE"
            ],
            "text/markdown": "TRUE",
            "text/latex": "TRUE",
            "text/plain": [
              "[1] TRUE"
            ]
          },
          "metadata": {}
        }
      ],
      "source": [
        "anyNA(c(1, NA))"
      ]
    },
    {
      "cell_type": "markdown",
      "metadata": {
        "id": "9ce869ef-ebc3-4574-81a2-452a538da2d0"
      },
      "source": [
        "The output for `anyNA()` is a vector of logical values where `TRUE` stands for at least one missing value in the vector, while `FALSE` stands for no missing values in the vector.\n"
      ]
    },
    {
      "cell_type": "markdown",
      "metadata": {
        "id": "2ef43ad8-e46f-408f-b06c-4209c9ad07d4"
      },
      "source": [
        "#### Counting Missing Values\n",
        "    \n",
        "We can quickly figure out the number of missing values in each column. As mentioned above, when using the function `is.na()`, `TRUE` represents a missing value while `FALSE` is otherwise.  The method  `sum()`  counts the number of `TRUE` values.\n",
        "    \n",
        "Let's check how many missing values in `CarrierDelay` column and also check how many missing values in each column:\n"
      ]
    },
    {
      "cell_type": "code",
      "execution_count": null,
      "metadata": {
        "id": "dd525a51-d153-4138-9b6d-fd5e64955cb7",
        "colab": {
          "base_uri": "https://localhost:8080/",
          "height": 147
        },
        "outputId": "908f39e8-67f2-40f0-a086-c75da94a4628"
      },
      "outputs": [
        {
          "output_type": "display_data",
          "data": {
            "text/html": [
              "<table class=\"dataframe\">\n",
              "<caption>A tibble: 1 × 1</caption>\n",
              "<thead>\n",
              "\t<tr><th scope=col>count</th></tr>\n",
              "\t<tr><th scope=col>&lt;int&gt;</th></tr>\n",
              "</thead>\n",
              "<tbody>\n",
              "\t<tr><td>2486</td></tr>\n",
              "</tbody>\n",
              "</table>\n"
            ],
            "text/markdown": "\nA tibble: 1 × 1\n\n| count &lt;int&gt; |\n|---|\n| 2486 |\n\n",
            "text/latex": "A tibble: 1 × 1\n\\begin{tabular}{l}\n count\\\\\n <int>\\\\\n\\hline\n\t 2486\\\\\n\\end{tabular}\n",
            "text/plain": [
              "  count\n",
              "1 2486 "
            ]
          },
          "metadata": {}
        }
      ],
      "source": [
        "# counting missing values\n",
        "sub_airline %>%\n",
        "  summarize(count = sum(is.na(CarrierDelay)))"
      ]
    },
    {
      "cell_type": "markdown",
      "metadata": {
        "id": "b15ae813-b34d-4759-abf6-2a723c1f6092"
      },
      "source": [
        "We can use `purrr::map()` to count missing values in each of the columns.\n",
        "\n",
        "`map()` essentially maps (applies) a function or formula to each given element.\n",
        "In the code below, it is mapping a *formula*, `~sum(is.na(.))`, that sums the NAs to every column in `sub_airline`. Since it is using a *formula*, you will also notice two special operators dot `.` and tilde `~`:\n",
        "* The tilde `~` separates the left side of a formula with the right side. Normally formulas are two-sided like `y ~ x`, in this case in `map()`, the formula gets converted to a function so it only needs the right side.\n",
        "* The dot `.` refers to each column in the dataset. If you view the documentation with `?map`, you can see that you use `.` when the function takes in just one parameter (a column in this case).\n",
        "\n",
        "See `?formula` and `?map` for more information.\n"
      ]
    },
    {
      "cell_type": "code",
      "execution_count": null,
      "metadata": {
        "id": "bf15d685-80f6-4b0b-9a39-88bbf866b875",
        "colab": {
          "base_uri": "https://localhost:8080/",
          "height": 774
        },
        "outputId": "5ee63f4f-8796-4b24-c2fb-a65843b29179"
      },
      "outputs": [
        {
          "output_type": "display_data",
          "data": {
            "text/html": [
              "<dl>\n",
              "\t<dt>$Month</dt>\n",
              "\t\t<dd>0</dd>\n",
              "\t<dt>$DayOfWeek</dt>\n",
              "\t\t<dd>0</dd>\n",
              "\t<dt>$FlightDate</dt>\n",
              "\t\t<dd>0</dd>\n",
              "\t<dt>$Reporting_Airline</dt>\n",
              "\t\t<dd>0</dd>\n",
              "\t<dt>$Origin</dt>\n",
              "\t\t<dd>0</dd>\n",
              "\t<dt>$Dest</dt>\n",
              "\t\t<dd>0</dd>\n",
              "\t<dt>$CRSDepTime</dt>\n",
              "\t\t<dd>0</dd>\n",
              "\t<dt>$CRSArrTime</dt>\n",
              "\t\t<dd>0</dd>\n",
              "\t<dt>$DepTime</dt>\n",
              "\t\t<dd>0</dd>\n",
              "\t<dt>$ArrTime</dt>\n",
              "\t\t<dd>0</dd>\n",
              "\t<dt>$ArrDelay</dt>\n",
              "\t\t<dd>0</dd>\n",
              "\t<dt>$ArrDelayMinutes</dt>\n",
              "\t\t<dd>0</dd>\n",
              "\t<dt>$CarrierDelay</dt>\n",
              "\t\t<dd>2486</dd>\n",
              "\t<dt>$WeatherDelay</dt>\n",
              "\t\t<dd>2486</dd>\n",
              "\t<dt>$NASDelay</dt>\n",
              "\t\t<dd>2486</dd>\n",
              "\t<dt>$SecurityDelay</dt>\n",
              "\t\t<dd>2486</dd>\n",
              "\t<dt>$LateAircraftDelay</dt>\n",
              "\t\t<dd>2486</dd>\n",
              "\t<dt>$DepDelay</dt>\n",
              "\t\t<dd>0</dd>\n",
              "\t<dt>$DepDelayMinutes</dt>\n",
              "\t\t<dd>0</dd>\n",
              "\t<dt>$DivDistance</dt>\n",
              "\t\t<dd>2855</dd>\n",
              "\t<dt>$DivArrDelay</dt>\n",
              "\t\t<dd>2855</dd>\n",
              "</dl>\n"
            ],
            "text/markdown": "$Month\n:   0\n$DayOfWeek\n:   0\n$FlightDate\n:   0\n$Reporting_Airline\n:   0\n$Origin\n:   0\n$Dest\n:   0\n$CRSDepTime\n:   0\n$CRSArrTime\n:   0\n$DepTime\n:   0\n$ArrTime\n:   0\n$ArrDelay\n:   0\n$ArrDelayMinutes\n:   0\n$CarrierDelay\n:   2486\n$WeatherDelay\n:   2486\n$NASDelay\n:   2486\n$SecurityDelay\n:   2486\n$LateAircraftDelay\n:   2486\n$DepDelay\n:   0\n$DepDelayMinutes\n:   0\n$DivDistance\n:   2855\n$DivArrDelay\n:   2855\n\n\n",
            "text/latex": "\\begin{description}\n\\item[\\$Month] 0\n\\item[\\$DayOfWeek] 0\n\\item[\\$FlightDate] 0\n\\item[\\$Reporting\\_Airline] 0\n\\item[\\$Origin] 0\n\\item[\\$Dest] 0\n\\item[\\$CRSDepTime] 0\n\\item[\\$CRSArrTime] 0\n\\item[\\$DepTime] 0\n\\item[\\$ArrTime] 0\n\\item[\\$ArrDelay] 0\n\\item[\\$ArrDelayMinutes] 0\n\\item[\\$CarrierDelay] 2486\n\\item[\\$WeatherDelay] 2486\n\\item[\\$NASDelay] 2486\n\\item[\\$SecurityDelay] 2486\n\\item[\\$LateAircraftDelay] 2486\n\\item[\\$DepDelay] 0\n\\item[\\$DepDelayMinutes] 0\n\\item[\\$DivDistance] 2855\n\\item[\\$DivArrDelay] 2855\n\\end{description}\n",
            "text/plain": [
              "$Month\n",
              "[1] 0\n",
              "\n",
              "$DayOfWeek\n",
              "[1] 0\n",
              "\n",
              "$FlightDate\n",
              "[1] 0\n",
              "\n",
              "$Reporting_Airline\n",
              "[1] 0\n",
              "\n",
              "$Origin\n",
              "[1] 0\n",
              "\n",
              "$Dest\n",
              "[1] 0\n",
              "\n",
              "$CRSDepTime\n",
              "[1] 0\n",
              "\n",
              "$CRSArrTime\n",
              "[1] 0\n",
              "\n",
              "$DepTime\n",
              "[1] 0\n",
              "\n",
              "$ArrTime\n",
              "[1] 0\n",
              "\n",
              "$ArrDelay\n",
              "[1] 0\n",
              "\n",
              "$ArrDelayMinutes\n",
              "[1] 0\n",
              "\n",
              "$CarrierDelay\n",
              "[1] 2486\n",
              "\n",
              "$WeatherDelay\n",
              "[1] 2486\n",
              "\n",
              "$NASDelay\n",
              "[1] 2486\n",
              "\n",
              "$SecurityDelay\n",
              "[1] 2486\n",
              "\n",
              "$LateAircraftDelay\n",
              "[1] 2486\n",
              "\n",
              "$DepDelay\n",
              "[1] 0\n",
              "\n",
              "$DepDelayMinutes\n",
              "[1] 0\n",
              "\n",
              "$DivDistance\n",
              "[1] 2855\n",
              "\n",
              "$DivArrDelay\n",
              "[1] 2855\n"
            ]
          },
          "metadata": {}
        }
      ],
      "source": [
        "map(sub_airline, ~sum(is.na(.)))"
      ]
    },
    {
      "cell_type": "code",
      "execution_count": null,
      "metadata": {
        "id": "14d1cdac-7ba7-4a3b-a8c9-55053ff72f5d",
        "colab": {
          "base_uri": "https://localhost:8080/",
          "height": 34
        },
        "outputId": "ea1f4285-833d-4a04-fa16-937a9a924f14"
      },
      "outputs": [
        {
          "output_type": "display_data",
          "data": {
            "text/html": [
              "<style>\n",
              ".list-inline {list-style: none; margin:0; padding: 0}\n",
              ".list-inline>li {display: inline-block}\n",
              ".list-inline>li:not(:last-child)::after {content: \"\\00b7\"; padding: 0 .5ex}\n",
              "</style>\n",
              "<ol class=list-inline><li>2855</li><li>21</li></ol>\n"
            ],
            "text/markdown": "1. 2855\n2. 21\n\n\n",
            "text/latex": "\\begin{enumerate*}\n\\item 2855\n\\item 21\n\\end{enumerate*}\n",
            "text/plain": [
              "[1] 2855   21"
            ]
          },
          "metadata": {}
        }
      ],
      "source": [
        "# Check dimensions of the dataset\n",
        "dim(sub_airline)"
      ]
    },
    {
      "cell_type": "markdown",
      "metadata": {
        "id": "f12dbb67-c28e-4423-9d55-0d0b20b781d4"
      },
      "source": [
        "Based on the summary above, \"CarrierDelay\", \"WeatherDelay\", \"NASDelay\", \"SecurityDelay\" and \"LateAircraftDelay\" columns have 2486 rows of missing data, while \"DivDistance\" and \"DivArrDelay\" columns have 2855 rows of missing data. All other columns do not have missing data.\n",
        "<ol>\n",
        "    <li>\"CarrierDelay\": 2486 missing data</li>\n",
        "    <li>\"WeatherDelay\": 2486 missing data</li>\n",
        "    <li>\"NASDelay\": 2486 missing data</li>\n",
        "    <li>\"SecurityDelay\" : 2486 missing data</li>\n",
        "    <li>\"LateAircraftDelay\": 2486 missing data</li>\n",
        "    <li>\"DivDistance\": 2855 missing data</li>\n",
        "    <li>\"DivArrDelay\": 2855 missing data</li>\n",
        "</ol>\n"
      ]
    },
    {
      "cell_type": "markdown",
      "metadata": {
        "id": "b22c5114-02d6-4fbd-b495-c48afcbf471e"
      },
      "source": [
        "<a id=\"handle_missing_values\"></a>\n",
        "### 1.2 Handle Missing Data\n",
        "**How to deal with missing data?**\n",
        "\n",
        "<ol>\n",
        "    <li>Drop data<br>\n",
        "        a. Drop the whole column<br>\n",
        "        b. Drop the whole row\n",
        "    </li>\n",
        "    <li>Replace data<br>\n",
        "        a. Replace it by mean<br>\n",
        "        b. Replace it by frequency<br>\n",
        "        c. Replace it based on other functions\n",
        "    </li>\n",
        "</ol>\n"
      ]
    },
    {
      "cell_type": "markdown",
      "metadata": {
        "id": "cea67a5c-f6ee-491c-99f2-0efaf8c6506c"
      },
      "source": [
        "Generally, you should not blindly drop NAs. However if an entire column or almost the entire column contains NAs, then it may be a good idea to leave it out. In our dataset, columns `DivDistance` and `DivArrDelay` are nearly all empty so we will drop them entirely.\n",
        "\n",
        "**Drop the whole column:**\n",
        "<ul>\n",
        "    <li>\"DivDistance\": 2855 missing data</li>\n",
        "    <li>\"DivArrDelay\": 2855 missing data</li>\n",
        "</ul>\n"
      ]
    },
    {
      "cell_type": "code",
      "execution_count": null,
      "metadata": {
        "id": "be6c053b-3b48-41ef-b720-8de53639712e",
        "colab": {
          "base_uri": "https://localhost:8080/",
          "height": 323
        },
        "outputId": "dcc5912f-4520-421d-9176-a79655eecf1f"
      },
      "outputs": [
        {
          "output_type": "display_data",
          "data": {
            "text/html": [
              "<style>\n",
              ".list-inline {list-style: none; margin:0; padding: 0}\n",
              ".list-inline>li {display: inline-block}\n",
              ".list-inline>li:not(:last-child)::after {content: \"\\00b7\"; padding: 0 .5ex}\n",
              "</style>\n",
              "<ol class=list-inline><li>2855</li><li>19</li></ol>\n"
            ],
            "text/markdown": "1. 2855\n2. 19\n\n\n",
            "text/latex": "\\begin{enumerate*}\n\\item 2855\n\\item 19\n\\end{enumerate*}\n",
            "text/plain": [
              "[1] 2855   19"
            ]
          },
          "metadata": {}
        },
        {
          "output_type": "display_data",
          "data": {
            "text/html": [
              "<table class=\"dataframe\">\n",
              "<caption>A tibble: 6 × 19</caption>\n",
              "<thead>\n",
              "\t<tr><th scope=col>Month</th><th scope=col>DayOfWeek</th><th scope=col>FlightDate</th><th scope=col>Reporting_Airline</th><th scope=col>Origin</th><th scope=col>Dest</th><th scope=col>CRSDepTime</th><th scope=col>CRSArrTime</th><th scope=col>DepTime</th><th scope=col>ArrTime</th><th scope=col>ArrDelay</th><th scope=col>ArrDelayMinutes</th><th scope=col>CarrierDelay</th><th scope=col>WeatherDelay</th><th scope=col>NASDelay</th><th scope=col>SecurityDelay</th><th scope=col>LateAircraftDelay</th><th scope=col>DepDelay</th><th scope=col>DepDelayMinutes</th></tr>\n",
              "\t<tr><th scope=col>&lt;dbl&gt;</th><th scope=col>&lt;dbl&gt;</th><th scope=col>&lt;date&gt;</th><th scope=col>&lt;chr&gt;</th><th scope=col>&lt;chr&gt;</th><th scope=col>&lt;chr&gt;</th><th scope=col>&lt;chr&gt;</th><th scope=col>&lt;chr&gt;</th><th scope=col>&lt;chr&gt;</th><th scope=col>&lt;chr&gt;</th><th scope=col>&lt;dbl&gt;</th><th scope=col>&lt;dbl&gt;</th><th scope=col>&lt;dbl&gt;</th><th scope=col>&lt;dbl&gt;</th><th scope=col>&lt;dbl&gt;</th><th scope=col>&lt;dbl&gt;</th><th scope=col>&lt;dbl&gt;</th><th scope=col>&lt;dbl&gt;</th><th scope=col>&lt;dbl&gt;</th></tr>\n",
              "</thead>\n",
              "<tbody>\n",
              "\t<tr><td> 3</td><td>5</td><td>2003-03-28</td><td>UA</td><td>LAX</td><td>JFK</td><td>2210</td><td>0615</td><td>2209</td><td>0617</td><td>  2</td><td>2</td><td>NA</td><td>NA</td><td>NA</td><td>NA</td><td>NA</td><td>-1</td><td>0</td></tr>\n",
              "\t<tr><td>11</td><td>4</td><td>2018-11-29</td><td>AS</td><td>LAX</td><td>JFK</td><td>1045</td><td>1912</td><td>1049</td><td>1851</td><td>-21</td><td>0</td><td>NA</td><td>NA</td><td>NA</td><td>NA</td><td>NA</td><td> 4</td><td>4</td></tr>\n",
              "\t<tr><td> 8</td><td>5</td><td>2015-08-28</td><td>UA</td><td>LAX</td><td>JFK</td><td>0805</td><td>1634</td><td>0757</td><td>1620</td><td>-14</td><td>0</td><td>NA</td><td>NA</td><td>NA</td><td>NA</td><td>NA</td><td>-8</td><td>0</td></tr>\n",
              "\t<tr><td> 4</td><td>7</td><td>2003-04-20</td><td>DL</td><td>LAX</td><td>JFK</td><td>2205</td><td>0619</td><td>2212</td><td>0616</td><td> -3</td><td>0</td><td>NA</td><td>NA</td><td>NA</td><td>NA</td><td>NA</td><td> 7</td><td>7</td></tr>\n",
              "\t<tr><td>11</td><td>3</td><td>2005-11-30</td><td>UA</td><td>LAX</td><td>JFK</td><td>0840</td><td>1653</td><td>0836</td><td>1640</td><td>-13</td><td>0</td><td>NA</td><td>NA</td><td>NA</td><td>NA</td><td>NA</td><td>-4</td><td>0</td></tr>\n",
              "\t<tr><td> 4</td><td>1</td><td>1992-04-06</td><td>UA</td><td>LAX</td><td>JFK</td><td>1450</td><td>2308</td><td>1452</td><td>2248</td><td>-20</td><td>0</td><td>NA</td><td>NA</td><td>NA</td><td>NA</td><td>NA</td><td> 2</td><td>2</td></tr>\n",
              "</tbody>\n",
              "</table>\n"
            ],
            "text/markdown": "\nA tibble: 6 × 19\n\n| Month &lt;dbl&gt; | DayOfWeek &lt;dbl&gt; | FlightDate &lt;date&gt; | Reporting_Airline &lt;chr&gt; | Origin &lt;chr&gt; | Dest &lt;chr&gt; | CRSDepTime &lt;chr&gt; | CRSArrTime &lt;chr&gt; | DepTime &lt;chr&gt; | ArrTime &lt;chr&gt; | ArrDelay &lt;dbl&gt; | ArrDelayMinutes &lt;dbl&gt; | CarrierDelay &lt;dbl&gt; | WeatherDelay &lt;dbl&gt; | NASDelay &lt;dbl&gt; | SecurityDelay &lt;dbl&gt; | LateAircraftDelay &lt;dbl&gt; | DepDelay &lt;dbl&gt; | DepDelayMinutes &lt;dbl&gt; |\n|---|---|---|---|---|---|---|---|---|---|---|---|---|---|---|---|---|---|---|\n|  3 | 5 | 2003-03-28 | UA | LAX | JFK | 2210 | 0615 | 2209 | 0617 |   2 | 2 | NA | NA | NA | NA | NA | -1 | 0 |\n| 11 | 4 | 2018-11-29 | AS | LAX | JFK | 1045 | 1912 | 1049 | 1851 | -21 | 0 | NA | NA | NA | NA | NA |  4 | 4 |\n|  8 | 5 | 2015-08-28 | UA | LAX | JFK | 0805 | 1634 | 0757 | 1620 | -14 | 0 | NA | NA | NA | NA | NA | -8 | 0 |\n|  4 | 7 | 2003-04-20 | DL | LAX | JFK | 2205 | 0619 | 2212 | 0616 |  -3 | 0 | NA | NA | NA | NA | NA |  7 | 7 |\n| 11 | 3 | 2005-11-30 | UA | LAX | JFK | 0840 | 1653 | 0836 | 1640 | -13 | 0 | NA | NA | NA | NA | NA | -4 | 0 |\n|  4 | 1 | 1992-04-06 | UA | LAX | JFK | 1450 | 2308 | 1452 | 2248 | -20 | 0 | NA | NA | NA | NA | NA |  2 | 2 |\n\n",
            "text/latex": "A tibble: 6 × 19\n\\begin{tabular}{lllllllllllllllllll}\n Month & DayOfWeek & FlightDate & Reporting\\_Airline & Origin & Dest & CRSDepTime & CRSArrTime & DepTime & ArrTime & ArrDelay & ArrDelayMinutes & CarrierDelay & WeatherDelay & NASDelay & SecurityDelay & LateAircraftDelay & DepDelay & DepDelayMinutes\\\\\n <dbl> & <dbl> & <date> & <chr> & <chr> & <chr> & <chr> & <chr> & <chr> & <chr> & <dbl> & <dbl> & <dbl> & <dbl> & <dbl> & <dbl> & <dbl> & <dbl> & <dbl>\\\\\n\\hline\n\t  3 & 5 & 2003-03-28 & UA & LAX & JFK & 2210 & 0615 & 2209 & 0617 &   2 & 2 & NA & NA & NA & NA & NA & -1 & 0\\\\\n\t 11 & 4 & 2018-11-29 & AS & LAX & JFK & 1045 & 1912 & 1049 & 1851 & -21 & 0 & NA & NA & NA & NA & NA &  4 & 4\\\\\n\t  8 & 5 & 2015-08-28 & UA & LAX & JFK & 0805 & 1634 & 0757 & 1620 & -14 & 0 & NA & NA & NA & NA & NA & -8 & 0\\\\\n\t  4 & 7 & 2003-04-20 & DL & LAX & JFK & 2205 & 0619 & 2212 & 0616 &  -3 & 0 & NA & NA & NA & NA & NA &  7 & 7\\\\\n\t 11 & 3 & 2005-11-30 & UA & LAX & JFK & 0840 & 1653 & 0836 & 1640 & -13 & 0 & NA & NA & NA & NA & NA & -4 & 0\\\\\n\t  4 & 1 & 1992-04-06 & UA & LAX & JFK & 1450 & 2308 & 1452 & 2248 & -20 & 0 & NA & NA & NA & NA & NA &  2 & 2\\\\\n\\end{tabular}\n",
            "text/plain": [
              "  Month DayOfWeek FlightDate Reporting_Airline Origin Dest CRSDepTime\n",
              "1  3    5         2003-03-28 UA                LAX    JFK  2210      \n",
              "2 11    4         2018-11-29 AS                LAX    JFK  1045      \n",
              "3  8    5         2015-08-28 UA                LAX    JFK  0805      \n",
              "4  4    7         2003-04-20 DL                LAX    JFK  2205      \n",
              "5 11    3         2005-11-30 UA                LAX    JFK  0840      \n",
              "6  4    1         1992-04-06 UA                LAX    JFK  1450      \n",
              "  CRSArrTime DepTime ArrTime ArrDelay ArrDelayMinutes CarrierDelay WeatherDelay\n",
              "1 0615       2209    0617      2      2               NA           NA          \n",
              "2 1912       1049    1851    -21      0               NA           NA          \n",
              "3 1634       0757    1620    -14      0               NA           NA          \n",
              "4 0619       2212    0616     -3      0               NA           NA          \n",
              "5 1653       0836    1640    -13      0               NA           NA          \n",
              "6 2308       1452    2248    -20      0               NA           NA          \n",
              "  NASDelay SecurityDelay LateAircraftDelay DepDelay DepDelayMinutes\n",
              "1 NA       NA            NA                -1       0              \n",
              "2 NA       NA            NA                 4       4              \n",
              "3 NA       NA            NA                -8       0              \n",
              "4 NA       NA            NA                 7       7              \n",
              "5 NA       NA            NA                -4       0              \n",
              "6 NA       NA            NA                 2       2              "
            ]
          },
          "metadata": {}
        }
      ],
      "source": [
        "drop_na_cols <- sub_airline %>% select(-DivDistance, -DivArrDelay)\n",
        "dim(drop_na_cols)\n",
        "head(drop_na_cols)"
      ]
    },
    {
      "cell_type": "markdown",
      "metadata": {
        "id": "b943d32d-8f7f-4cdd-9d67-c645b09168da"
      },
      "source": [
        "**Drop the whole row:**\n",
        "<ul>\n",
        "    <li>\"CarrierDelay\": 2486 missing data</li>\n",
        "    <li>\"WeatherDelay\": 2486 missing data</li>\n",
        "    <li>\"NASDelay\": 2486 missing data</li>\n",
        "    <li>\"SecurityDelay\" : 2486 missing data</li>\n",
        "    <li>\"LateAircraftDelay\": 2486 missing data</li>   \n",
        "</ul>\n",
        "\n",
        "We see `CarrierDelay`, `WeatherDelay`, `NASDelay`, `SecurityDelay`, `LateAircraftDelay` have the same amount of missing values from the summary. By dropping the missing values in one column will also solve the missing value issues in the others.\n"
      ]
    },
    {
      "cell_type": "code",
      "execution_count": null,
      "metadata": {
        "id": "ad3443d9-7518-4e62-b2ce-717b5fd6789e",
        "colab": {
          "base_uri": "https://localhost:8080/",
          "height": 323
        },
        "outputId": "fe248fb8-0ffa-4fc3-c0f9-1fa2fdc6ccdf"
      },
      "outputs": [
        {
          "output_type": "display_data",
          "data": {
            "text/html": [
              "<style>\n",
              ".list-inline {list-style: none; margin:0; padding: 0}\n",
              ".list-inline>li {display: inline-block}\n",
              ".list-inline>li:not(:last-child)::after {content: \"\\00b7\"; padding: 0 .5ex}\n",
              "</style>\n",
              "<ol class=list-inline><li>369</li><li>19</li></ol>\n"
            ],
            "text/markdown": "1. 369\n2. 19\n\n\n",
            "text/latex": "\\begin{enumerate*}\n\\item 369\n\\item 19\n\\end{enumerate*}\n",
            "text/plain": [
              "[1] 369  19"
            ]
          },
          "metadata": {}
        },
        {
          "output_type": "display_data",
          "data": {
            "text/html": [
              "<table class=\"dataframe\">\n",
              "<caption>A tibble: 6 × 19</caption>\n",
              "<thead>\n",
              "\t<tr><th scope=col>Month</th><th scope=col>DayOfWeek</th><th scope=col>FlightDate</th><th scope=col>Reporting_Airline</th><th scope=col>Origin</th><th scope=col>Dest</th><th scope=col>CRSDepTime</th><th scope=col>CRSArrTime</th><th scope=col>DepTime</th><th scope=col>ArrTime</th><th scope=col>ArrDelay</th><th scope=col>ArrDelayMinutes</th><th scope=col>CarrierDelay</th><th scope=col>WeatherDelay</th><th scope=col>NASDelay</th><th scope=col>SecurityDelay</th><th scope=col>LateAircraftDelay</th><th scope=col>DepDelay</th><th scope=col>DepDelayMinutes</th></tr>\n",
              "\t<tr><th scope=col>&lt;dbl&gt;</th><th scope=col>&lt;dbl&gt;</th><th scope=col>&lt;date&gt;</th><th scope=col>&lt;chr&gt;</th><th scope=col>&lt;chr&gt;</th><th scope=col>&lt;chr&gt;</th><th scope=col>&lt;chr&gt;</th><th scope=col>&lt;chr&gt;</th><th scope=col>&lt;chr&gt;</th><th scope=col>&lt;chr&gt;</th><th scope=col>&lt;dbl&gt;</th><th scope=col>&lt;dbl&gt;</th><th scope=col>&lt;dbl&gt;</th><th scope=col>&lt;dbl&gt;</th><th scope=col>&lt;dbl&gt;</th><th scope=col>&lt;dbl&gt;</th><th scope=col>&lt;dbl&gt;</th><th scope=col>&lt;dbl&gt;</th><th scope=col>&lt;dbl&gt;</th></tr>\n",
              "</thead>\n",
              "<tbody>\n",
              "\t<tr><td> 8</td><td>5</td><td>2018-08-03</td><td>B6</td><td>LAX</td><td>JFK</td><td>0013</td><td>0839</td><td>0034</td><td>0913</td><td>34</td><td>34</td><td>11</td><td>0</td><td>23</td><td>0</td><td> 0</td><td>21</td><td>21</td></tr>\n",
              "\t<tr><td> 6</td><td>4</td><td>2006-06-01</td><td>AA</td><td>LAX</td><td>JFK</td><td>1515</td><td>2332</td><td>1507</td><td>2353</td><td>21</td><td>21</td><td> 0</td><td>0</td><td>21</td><td>0</td><td> 0</td><td>-8</td><td> 0</td></tr>\n",
              "\t<tr><td> 1</td><td>7</td><td>2007-01-28</td><td>UA</td><td>LAX</td><td>JFK</td><td>0845</td><td>1656</td><td>0838</td><td>1713</td><td>17</td><td>17</td><td> 0</td><td>0</td><td>17</td><td>0</td><td> 0</td><td>-7</td><td> 0</td></tr>\n",
              "\t<tr><td> 6</td><td>5</td><td>2013-06-28</td><td>AA</td><td>LAX</td><td>JFK</td><td>1200</td><td>2045</td><td>1328</td><td>2220</td><td>95</td><td>95</td><td> 5</td><td>0</td><td> 7</td><td>0</td><td>83</td><td>88</td><td>88</td></tr>\n",
              "\t<tr><td> 9</td><td>1</td><td>2010-09-27</td><td>DL</td><td>LAX</td><td>JFK</td><td>1330</td><td>2208</td><td>1426</td><td>2316</td><td>68</td><td>68</td><td> 0</td><td>0</td><td>68</td><td>0</td><td> 0</td><td>56</td><td>56</td></tr>\n",
              "\t<tr><td>10</td><td>3</td><td>2005-10-12</td><td>AA</td><td>LAX</td><td>JFK</td><td>0930</td><td>1755</td><td>0958</td><td>1823</td><td>28</td><td>28</td><td> 0</td><td>0</td><td>28</td><td>0</td><td> 0</td><td>28</td><td>28</td></tr>\n",
              "</tbody>\n",
              "</table>\n"
            ],
            "text/markdown": "\nA tibble: 6 × 19\n\n| Month &lt;dbl&gt; | DayOfWeek &lt;dbl&gt; | FlightDate &lt;date&gt; | Reporting_Airline &lt;chr&gt; | Origin &lt;chr&gt; | Dest &lt;chr&gt; | CRSDepTime &lt;chr&gt; | CRSArrTime &lt;chr&gt; | DepTime &lt;chr&gt; | ArrTime &lt;chr&gt; | ArrDelay &lt;dbl&gt; | ArrDelayMinutes &lt;dbl&gt; | CarrierDelay &lt;dbl&gt; | WeatherDelay &lt;dbl&gt; | NASDelay &lt;dbl&gt; | SecurityDelay &lt;dbl&gt; | LateAircraftDelay &lt;dbl&gt; | DepDelay &lt;dbl&gt; | DepDelayMinutes &lt;dbl&gt; |\n|---|---|---|---|---|---|---|---|---|---|---|---|---|---|---|---|---|---|---|\n|  8 | 5 | 2018-08-03 | B6 | LAX | JFK | 0013 | 0839 | 0034 | 0913 | 34 | 34 | 11 | 0 | 23 | 0 |  0 | 21 | 21 |\n|  6 | 4 | 2006-06-01 | AA | LAX | JFK | 1515 | 2332 | 1507 | 2353 | 21 | 21 |  0 | 0 | 21 | 0 |  0 | -8 |  0 |\n|  1 | 7 | 2007-01-28 | UA | LAX | JFK | 0845 | 1656 | 0838 | 1713 | 17 | 17 |  0 | 0 | 17 | 0 |  0 | -7 |  0 |\n|  6 | 5 | 2013-06-28 | AA | LAX | JFK | 1200 | 2045 | 1328 | 2220 | 95 | 95 |  5 | 0 |  7 | 0 | 83 | 88 | 88 |\n|  9 | 1 | 2010-09-27 | DL | LAX | JFK | 1330 | 2208 | 1426 | 2316 | 68 | 68 |  0 | 0 | 68 | 0 |  0 | 56 | 56 |\n| 10 | 3 | 2005-10-12 | AA | LAX | JFK | 0930 | 1755 | 0958 | 1823 | 28 | 28 |  0 | 0 | 28 | 0 |  0 | 28 | 28 |\n\n",
            "text/latex": "A tibble: 6 × 19\n\\begin{tabular}{lllllllllllllllllll}\n Month & DayOfWeek & FlightDate & Reporting\\_Airline & Origin & Dest & CRSDepTime & CRSArrTime & DepTime & ArrTime & ArrDelay & ArrDelayMinutes & CarrierDelay & WeatherDelay & NASDelay & SecurityDelay & LateAircraftDelay & DepDelay & DepDelayMinutes\\\\\n <dbl> & <dbl> & <date> & <chr> & <chr> & <chr> & <chr> & <chr> & <chr> & <chr> & <dbl> & <dbl> & <dbl> & <dbl> & <dbl> & <dbl> & <dbl> & <dbl> & <dbl>\\\\\n\\hline\n\t  8 & 5 & 2018-08-03 & B6 & LAX & JFK & 0013 & 0839 & 0034 & 0913 & 34 & 34 & 11 & 0 & 23 & 0 &  0 & 21 & 21\\\\\n\t  6 & 4 & 2006-06-01 & AA & LAX & JFK & 1515 & 2332 & 1507 & 2353 & 21 & 21 &  0 & 0 & 21 & 0 &  0 & -8 &  0\\\\\n\t  1 & 7 & 2007-01-28 & UA & LAX & JFK & 0845 & 1656 & 0838 & 1713 & 17 & 17 &  0 & 0 & 17 & 0 &  0 & -7 &  0\\\\\n\t  6 & 5 & 2013-06-28 & AA & LAX & JFK & 1200 & 2045 & 1328 & 2220 & 95 & 95 &  5 & 0 &  7 & 0 & 83 & 88 & 88\\\\\n\t  9 & 1 & 2010-09-27 & DL & LAX & JFK & 1330 & 2208 & 1426 & 2316 & 68 & 68 &  0 & 0 & 68 & 0 &  0 & 56 & 56\\\\\n\t 10 & 3 & 2005-10-12 & AA & LAX & JFK & 0930 & 1755 & 0958 & 1823 & 28 & 28 &  0 & 0 & 28 & 0 &  0 & 28 & 28\\\\\n\\end{tabular}\n",
            "text/plain": [
              "  Month DayOfWeek FlightDate Reporting_Airline Origin Dest CRSDepTime\n",
              "1  8    5         2018-08-03 B6                LAX    JFK  0013      \n",
              "2  6    4         2006-06-01 AA                LAX    JFK  1515      \n",
              "3  1    7         2007-01-28 UA                LAX    JFK  0845      \n",
              "4  6    5         2013-06-28 AA                LAX    JFK  1200      \n",
              "5  9    1         2010-09-27 DL                LAX    JFK  1330      \n",
              "6 10    3         2005-10-12 AA                LAX    JFK  0930      \n",
              "  CRSArrTime DepTime ArrTime ArrDelay ArrDelayMinutes CarrierDelay WeatherDelay\n",
              "1 0839       0034    0913    34       34              11           0           \n",
              "2 2332       1507    2353    21       21               0           0           \n",
              "3 1656       0838    1713    17       17               0           0           \n",
              "4 2045       1328    2220    95       95               5           0           \n",
              "5 2208       1426    2316    68       68               0           0           \n",
              "6 1755       0958    1823    28       28               0           0           \n",
              "  NASDelay SecurityDelay LateAircraftDelay DepDelay DepDelayMinutes\n",
              "1 23       0              0                21       21             \n",
              "2 21       0              0                -8        0             \n",
              "3 17       0              0                -7        0             \n",
              "4  7       0             83                88       88             \n",
              "5 68       0              0                56       56             \n",
              "6 28       0              0                28       28             "
            ]
          },
          "metadata": {}
        }
      ],
      "source": [
        "# Drop the missing values\n",
        "drop_na_rows <- drop_na_cols %>% drop_na(CarrierDelay)\n",
        "dim(drop_na_rows)\n",
        "head(drop_na_rows)"
      ]
    },
    {
      "cell_type": "markdown",
      "metadata": {
        "id": "3b2ef472-7594-4a4f-ba43-ac8c924f5662"
      },
      "source": [
        "We have some freedom in choosing which method to replace data; however, some methods may seem more reasonable than others. In this scenario, we would like to replace missing values with 0.\n",
        "\n",
        "**Convert NA to 0**\n",
        "\n",
        "In the airline dataset, missing data for the different types of delay corresponds to no delay. So, we can replace these NAs with 0 in this case.\n",
        "To do this we use the function:\n",
        " <pre>tidyr::replace_na(data, replace, ...)</pre>\n",
        "\n",
        "The columns that corresponds with types of delays are CarrierDelay, WeatherDelay, NASDelay, SecurityDelay, and LateAircraftDelay. For example\n",
        "if `CarrierDelay = NA` then this means there is no delay in Carrier, so the delay in minutes can be changed to 0 or `CarrierDelay = 0`. Let's transform these columns and see the result:\n"
      ]
    },
    {
      "cell_type": "code",
      "execution_count": null,
      "metadata": {
        "id": "7dccf5d8-4a21-4e26-a22c-a6a3d9213e42",
        "colab": {
          "base_uri": "https://localhost:8080/",
          "height": 306
        },
        "outputId": "c437b7e1-bcdd-45d2-b175-590f58e32e82"
      },
      "outputs": [
        {
          "output_type": "display_data",
          "data": {
            "text/html": [
              "<table class=\"dataframe\">\n",
              "<caption>A tibble: 6 × 19</caption>\n",
              "<thead>\n",
              "\t<tr><th scope=col>Month</th><th scope=col>DayOfWeek</th><th scope=col>FlightDate</th><th scope=col>Reporting_Airline</th><th scope=col>Origin</th><th scope=col>Dest</th><th scope=col>CRSDepTime</th><th scope=col>CRSArrTime</th><th scope=col>DepTime</th><th scope=col>ArrTime</th><th scope=col>ArrDelay</th><th scope=col>ArrDelayMinutes</th><th scope=col>CarrierDelay</th><th scope=col>WeatherDelay</th><th scope=col>NASDelay</th><th scope=col>SecurityDelay</th><th scope=col>LateAircraftDelay</th><th scope=col>DepDelay</th><th scope=col>DepDelayMinutes</th></tr>\n",
              "\t<tr><th scope=col>&lt;dbl&gt;</th><th scope=col>&lt;dbl&gt;</th><th scope=col>&lt;date&gt;</th><th scope=col>&lt;chr&gt;</th><th scope=col>&lt;chr&gt;</th><th scope=col>&lt;chr&gt;</th><th scope=col>&lt;chr&gt;</th><th scope=col>&lt;chr&gt;</th><th scope=col>&lt;chr&gt;</th><th scope=col>&lt;chr&gt;</th><th scope=col>&lt;dbl&gt;</th><th scope=col>&lt;dbl&gt;</th><th scope=col>&lt;dbl&gt;</th><th scope=col>&lt;dbl&gt;</th><th scope=col>&lt;dbl&gt;</th><th scope=col>&lt;dbl&gt;</th><th scope=col>&lt;dbl&gt;</th><th scope=col>&lt;dbl&gt;</th><th scope=col>&lt;dbl&gt;</th></tr>\n",
              "</thead>\n",
              "<tbody>\n",
              "\t<tr><td> 8</td><td>5</td><td>2018-08-03</td><td>B6</td><td>LAX</td><td>JFK</td><td>0013</td><td>0839</td><td>0034</td><td>0913</td><td>34</td><td>34</td><td>11</td><td>0</td><td>23</td><td>0</td><td> 0</td><td>21</td><td>21</td></tr>\n",
              "\t<tr><td> 6</td><td>4</td><td>2006-06-01</td><td>AA</td><td>LAX</td><td>JFK</td><td>1515</td><td>2332</td><td>1507</td><td>2353</td><td>21</td><td>21</td><td> 0</td><td>0</td><td>21</td><td>0</td><td> 0</td><td>-8</td><td> 0</td></tr>\n",
              "\t<tr><td> 1</td><td>7</td><td>2007-01-28</td><td>UA</td><td>LAX</td><td>JFK</td><td>0845</td><td>1656</td><td>0838</td><td>1713</td><td>17</td><td>17</td><td> 0</td><td>0</td><td>17</td><td>0</td><td> 0</td><td>-7</td><td> 0</td></tr>\n",
              "\t<tr><td> 6</td><td>5</td><td>2013-06-28</td><td>AA</td><td>LAX</td><td>JFK</td><td>1200</td><td>2045</td><td>1328</td><td>2220</td><td>95</td><td>95</td><td> 5</td><td>0</td><td> 7</td><td>0</td><td>83</td><td>88</td><td>88</td></tr>\n",
              "\t<tr><td> 9</td><td>1</td><td>2010-09-27</td><td>DL</td><td>LAX</td><td>JFK</td><td>1330</td><td>2208</td><td>1426</td><td>2316</td><td>68</td><td>68</td><td> 0</td><td>0</td><td>68</td><td>0</td><td> 0</td><td>56</td><td>56</td></tr>\n",
              "\t<tr><td>10</td><td>3</td><td>2005-10-12</td><td>AA</td><td>LAX</td><td>JFK</td><td>0930</td><td>1755</td><td>0958</td><td>1823</td><td>28</td><td>28</td><td> 0</td><td>0</td><td>28</td><td>0</td><td> 0</td><td>28</td><td>28</td></tr>\n",
              "</tbody>\n",
              "</table>\n"
            ],
            "text/markdown": "\nA tibble: 6 × 19\n\n| Month &lt;dbl&gt; | DayOfWeek &lt;dbl&gt; | FlightDate &lt;date&gt; | Reporting_Airline &lt;chr&gt; | Origin &lt;chr&gt; | Dest &lt;chr&gt; | CRSDepTime &lt;chr&gt; | CRSArrTime &lt;chr&gt; | DepTime &lt;chr&gt; | ArrTime &lt;chr&gt; | ArrDelay &lt;dbl&gt; | ArrDelayMinutes &lt;dbl&gt; | CarrierDelay &lt;dbl&gt; | WeatherDelay &lt;dbl&gt; | NASDelay &lt;dbl&gt; | SecurityDelay &lt;dbl&gt; | LateAircraftDelay &lt;dbl&gt; | DepDelay &lt;dbl&gt; | DepDelayMinutes &lt;dbl&gt; |\n|---|---|---|---|---|---|---|---|---|---|---|---|---|---|---|---|---|---|---|\n|  8 | 5 | 2018-08-03 | B6 | LAX | JFK | 0013 | 0839 | 0034 | 0913 | 34 | 34 | 11 | 0 | 23 | 0 |  0 | 21 | 21 |\n|  6 | 4 | 2006-06-01 | AA | LAX | JFK | 1515 | 2332 | 1507 | 2353 | 21 | 21 |  0 | 0 | 21 | 0 |  0 | -8 |  0 |\n|  1 | 7 | 2007-01-28 | UA | LAX | JFK | 0845 | 1656 | 0838 | 1713 | 17 | 17 |  0 | 0 | 17 | 0 |  0 | -7 |  0 |\n|  6 | 5 | 2013-06-28 | AA | LAX | JFK | 1200 | 2045 | 1328 | 2220 | 95 | 95 |  5 | 0 |  7 | 0 | 83 | 88 | 88 |\n|  9 | 1 | 2010-09-27 | DL | LAX | JFK | 1330 | 2208 | 1426 | 2316 | 68 | 68 |  0 | 0 | 68 | 0 |  0 | 56 | 56 |\n| 10 | 3 | 2005-10-12 | AA | LAX | JFK | 0930 | 1755 | 0958 | 1823 | 28 | 28 |  0 | 0 | 28 | 0 |  0 | 28 | 28 |\n\n",
            "text/latex": "A tibble: 6 × 19\n\\begin{tabular}{lllllllllllllllllll}\n Month & DayOfWeek & FlightDate & Reporting\\_Airline & Origin & Dest & CRSDepTime & CRSArrTime & DepTime & ArrTime & ArrDelay & ArrDelayMinutes & CarrierDelay & WeatherDelay & NASDelay & SecurityDelay & LateAircraftDelay & DepDelay & DepDelayMinutes\\\\\n <dbl> & <dbl> & <date> & <chr> & <chr> & <chr> & <chr> & <chr> & <chr> & <chr> & <dbl> & <dbl> & <dbl> & <dbl> & <dbl> & <dbl> & <dbl> & <dbl> & <dbl>\\\\\n\\hline\n\t  8 & 5 & 2018-08-03 & B6 & LAX & JFK & 0013 & 0839 & 0034 & 0913 & 34 & 34 & 11 & 0 & 23 & 0 &  0 & 21 & 21\\\\\n\t  6 & 4 & 2006-06-01 & AA & LAX & JFK & 1515 & 2332 & 1507 & 2353 & 21 & 21 &  0 & 0 & 21 & 0 &  0 & -8 &  0\\\\\n\t  1 & 7 & 2007-01-28 & UA & LAX & JFK & 0845 & 1656 & 0838 & 1713 & 17 & 17 &  0 & 0 & 17 & 0 &  0 & -7 &  0\\\\\n\t  6 & 5 & 2013-06-28 & AA & LAX & JFK & 1200 & 2045 & 1328 & 2220 & 95 & 95 &  5 & 0 &  7 & 0 & 83 & 88 & 88\\\\\n\t  9 & 1 & 2010-09-27 & DL & LAX & JFK & 1330 & 2208 & 1426 & 2316 & 68 & 68 &  0 & 0 & 68 & 0 &  0 & 56 & 56\\\\\n\t 10 & 3 & 2005-10-12 & AA & LAX & JFK & 0930 & 1755 & 0958 & 1823 & 28 & 28 &  0 & 0 & 28 & 0 &  0 & 28 & 28\\\\\n\\end{tabular}\n",
            "text/plain": [
              "  Month DayOfWeek FlightDate Reporting_Airline Origin Dest CRSDepTime\n",
              "1  8    5         2018-08-03 B6                LAX    JFK  0013      \n",
              "2  6    4         2006-06-01 AA                LAX    JFK  1515      \n",
              "3  1    7         2007-01-28 UA                LAX    JFK  0845      \n",
              "4  6    5         2013-06-28 AA                LAX    JFK  1200      \n",
              "5  9    1         2010-09-27 DL                LAX    JFK  1330      \n",
              "6 10    3         2005-10-12 AA                LAX    JFK  0930      \n",
              "  CRSArrTime DepTime ArrTime ArrDelay ArrDelayMinutes CarrierDelay WeatherDelay\n",
              "1 0839       0034    0913    34       34              11           0           \n",
              "2 2332       1507    2353    21       21               0           0           \n",
              "3 1656       0838    1713    17       17               0           0           \n",
              "4 2045       1328    2220    95       95               5           0           \n",
              "5 2208       1426    2316    68       68               0           0           \n",
              "6 1755       0958    1823    28       28               0           0           \n",
              "  NASDelay SecurityDelay LateAircraftDelay DepDelay DepDelayMinutes\n",
              "1 23       0              0                21       21             \n",
              "2 21       0              0                -8        0             \n",
              "3 17       0              0                -7        0             \n",
              "4  7       0             83                88       88             \n",
              "5 68       0              0                56       56             \n",
              "6 28       0              0                28       28             "
            ]
          },
          "metadata": {}
        }
      ],
      "source": [
        "# Replace the missing values in five columns\n",
        "replace_na <- drop_na_rows %>% replace_na(list(CarrierDelay = 0,\n",
        "                                              WeatherDelay = 0,\n",
        "                                              NASDelay = 0,\n",
        "                                              SecurityDelay = 0,\n",
        "                                              LateAircraftDelay = 0))\n",
        "head(replace_na)"
      ]
    },
    {
      "cell_type": "markdown",
      "metadata": {
        "id": "ca652e15-3504-44c3-b91c-cc1f1c054db8"
      },
      "source": [
        "<div class=\"alert alert-danger alertdanger\" style=\"margin-top: 20px\">\n",
        "<h1> Question  #1: </h1>\n",
        "\n",
        "<b>According to the example above, let's try to replace NA in \"CarrierDelay\" column by the mean value.</b>\n",
        "</div>\n"
      ]
    },
    {
      "cell_type": "code",
      "execution_count": null,
      "metadata": {
        "id": "81a5e8ce-63bb-43ee-aa7d-c059a0c6a8bf",
        "colab": {
          "base_uri": "https://localhost:8080/",
          "height": 1000
        },
        "outputId": "ce9c4a45-cf7b-4665-f9f4-84d94f5ec1f8"
      },
      "outputs": [
        {
          "output_type": "display_data",
          "data": {
            "text/html": [
              "<table class=\"dataframe\">\n",
              "<caption>A spec_tbl_df: 2855 × 21</caption>\n",
              "<thead>\n",
              "\t<tr><th scope=col>Month</th><th scope=col>DayOfWeek</th><th scope=col>FlightDate</th><th scope=col>Reporting_Airline</th><th scope=col>Origin</th><th scope=col>Dest</th><th scope=col>CRSDepTime</th><th scope=col>CRSArrTime</th><th scope=col>DepTime</th><th scope=col>ArrTime</th><th scope=col>⋯</th><th scope=col>ArrDelayMinutes</th><th scope=col>CarrierDelay</th><th scope=col>WeatherDelay</th><th scope=col>NASDelay</th><th scope=col>SecurityDelay</th><th scope=col>LateAircraftDelay</th><th scope=col>DepDelay</th><th scope=col>DepDelayMinutes</th><th scope=col>DivDistance</th><th scope=col>DivArrDelay</th></tr>\n",
              "\t<tr><th scope=col>&lt;dbl&gt;</th><th scope=col>&lt;dbl&gt;</th><th scope=col>&lt;date&gt;</th><th scope=col>&lt;chr&gt;</th><th scope=col>&lt;chr&gt;</th><th scope=col>&lt;chr&gt;</th><th scope=col>&lt;chr&gt;</th><th scope=col>&lt;chr&gt;</th><th scope=col>&lt;chr&gt;</th><th scope=col>&lt;chr&gt;</th><th scope=col>⋯</th><th scope=col>&lt;dbl&gt;</th><th scope=col>&lt;dbl&gt;</th><th scope=col>&lt;dbl&gt;</th><th scope=col>&lt;dbl&gt;</th><th scope=col>&lt;dbl&gt;</th><th scope=col>&lt;dbl&gt;</th><th scope=col>&lt;dbl&gt;</th><th scope=col>&lt;dbl&gt;</th><th scope=col>&lt;dbl&gt;</th><th scope=col>&lt;dbl&gt;</th></tr>\n",
              "</thead>\n",
              "<tbody>\n",
              "\t<tr><td> 3</td><td>5</td><td>2003-03-28</td><td>UA    </td><td>LAX</td><td>JFK</td><td>2210</td><td>0615</td><td>2209</td><td>0617</td><td>⋯</td><td>  2</td><td>18.04878</td><td>NA</td><td>NA</td><td>NA</td><td>NA</td><td> -1</td><td>  0</td><td>NA</td><td>NA</td></tr>\n",
              "\t<tr><td>11</td><td>4</td><td>2018-11-29</td><td>AS    </td><td>LAX</td><td>JFK</td><td>1045</td><td>1912</td><td>1049</td><td>1851</td><td>⋯</td><td>  0</td><td>18.04878</td><td>NA</td><td>NA</td><td>NA</td><td>NA</td><td>  4</td><td>  4</td><td>NA</td><td>NA</td></tr>\n",
              "\t<tr><td> 8</td><td>5</td><td>2015-08-28</td><td>UA    </td><td>LAX</td><td>JFK</td><td>0805</td><td>1634</td><td>0757</td><td>1620</td><td>⋯</td><td>  0</td><td>18.04878</td><td>NA</td><td>NA</td><td>NA</td><td>NA</td><td> -8</td><td>  0</td><td>NA</td><td>NA</td></tr>\n",
              "\t<tr><td> 4</td><td>7</td><td>2003-04-20</td><td>DL    </td><td>LAX</td><td>JFK</td><td>2205</td><td>0619</td><td>2212</td><td>0616</td><td>⋯</td><td>  0</td><td>18.04878</td><td>NA</td><td>NA</td><td>NA</td><td>NA</td><td>  7</td><td>  7</td><td>NA</td><td>NA</td></tr>\n",
              "\t<tr><td>11</td><td>3</td><td>2005-11-30</td><td>UA    </td><td>LAX</td><td>JFK</td><td>0840</td><td>1653</td><td>0836</td><td>1640</td><td>⋯</td><td>  0</td><td>18.04878</td><td>NA</td><td>NA</td><td>NA</td><td>NA</td><td> -4</td><td>  0</td><td>NA</td><td>NA</td></tr>\n",
              "\t<tr><td> 4</td><td>1</td><td>1992-04-06</td><td>UA    </td><td>LAX</td><td>JFK</td><td>1450</td><td>2308</td><td>1452</td><td>2248</td><td>⋯</td><td>  0</td><td>18.04878</td><td>NA</td><td>NA</td><td>NA</td><td>NA</td><td>  2</td><td>  2</td><td>NA</td><td>NA</td></tr>\n",
              "\t<tr><td>12</td><td>1</td><td>2012-12-03</td><td>VX    </td><td>LAX</td><td>JFK</td><td>1040</td><td>1900</td><td>1038</td><td>1901</td><td>⋯</td><td>  1</td><td>18.04878</td><td>NA</td><td>NA</td><td>NA</td><td>NA</td><td> -2</td><td>  0</td><td>NA</td><td>NA</td></tr>\n",
              "\t<tr><td>12</td><td>3</td><td>2004-12-01</td><td>HP    </td><td>LAX</td><td>JFK</td><td>2200</td><td>0613</td><td>2158</td><td>0533</td><td>⋯</td><td>  0</td><td>18.04878</td><td>NA</td><td>NA</td><td>NA</td><td>NA</td><td> -2</td><td>  0</td><td>NA</td><td>NA</td></tr>\n",
              "\t<tr><td> 2</td><td>4</td><td>1997-02-13</td><td>UA    </td><td>LAX</td><td>JFK</td><td>0800</td><td>1615</td><td>0802</td><td>1640</td><td>⋯</td><td> 25</td><td>18.04878</td><td>NA</td><td>NA</td><td>NA</td><td>NA</td><td>  2</td><td>  2</td><td>NA</td><td>NA</td></tr>\n",
              "\t<tr><td> 3</td><td>4</td><td>2016-03-10</td><td>DL    </td><td>LAX</td><td>JFK</td><td>2245</td><td>0712</td><td>2300</td><td>0719</td><td>⋯</td><td>  7</td><td>18.04878</td><td>NA</td><td>NA</td><td>NA</td><td>NA</td><td> 15</td><td> 15</td><td>NA</td><td>NA</td></tr>\n",
              "\t<tr><td>10</td><td>4</td><td>1999-10-14</td><td>AA    </td><td>LAX</td><td>JFK</td><td>2300</td><td>0717</td><td>2302</td><td>0722</td><td>⋯</td><td>  5</td><td>18.04878</td><td>NA</td><td>NA</td><td>NA</td><td>NA</td><td>  2</td><td>  2</td><td>NA</td><td>NA</td></tr>\n",
              "\t<tr><td> 8</td><td>5</td><td>2018-08-03</td><td>B6    </td><td>LAX</td><td>JFK</td><td>0013</td><td>0839</td><td>0034</td><td>0913</td><td>⋯</td><td> 34</td><td>11.00000</td><td> 0</td><td>23</td><td> 0</td><td> 0</td><td> 21</td><td> 21</td><td>NA</td><td>NA</td></tr>\n",
              "\t<tr><td> 6</td><td>4</td><td>2006-06-01</td><td>AA    </td><td>LAX</td><td>JFK</td><td>1515</td><td>2332</td><td>1507</td><td>2353</td><td>⋯</td><td> 21</td><td> 0.00000</td><td> 0</td><td>21</td><td> 0</td><td> 0</td><td> -8</td><td>  0</td><td>NA</td><td>NA</td></tr>\n",
              "\t<tr><td> 2</td><td>3</td><td>1999-02-03</td><td>AA    </td><td>LAX</td><td>JFK</td><td>0700</td><td>1508</td><td>0658</td><td>1448</td><td>⋯</td><td>  0</td><td>18.04878</td><td>NA</td><td>NA</td><td>NA</td><td>NA</td><td> -2</td><td>  0</td><td>NA</td><td>NA</td></tr>\n",
              "\t<tr><td> 8</td><td>7</td><td>1995-08-27</td><td>AA    </td><td>LAX</td><td>JFK</td><td>0900</td><td>1715</td><td>0859</td><td>1729</td><td>⋯</td><td> 14</td><td>18.04878</td><td>NA</td><td>NA</td><td>NA</td><td>NA</td><td> -1</td><td>  0</td><td>NA</td><td>NA</td></tr>\n",
              "\t<tr><td> 3</td><td>6</td><td>1990-03-31</td><td>PA (1)</td><td>LAX</td><td>JFK</td><td>0830</td><td>1640</td><td>1505</td><td>0402</td><td>⋯</td><td>682</td><td>18.04878</td><td>NA</td><td>NA</td><td>NA</td><td>NA</td><td>395</td><td>395</td><td>NA</td><td>NA</td></tr>\n",
              "\t<tr><td> 6</td><td>4</td><td>1996-06-13</td><td>AA    </td><td>LAX</td><td>JFK</td><td>0700</td><td>1507</td><td>0659</td><td>1511</td><td>⋯</td><td>  4</td><td>18.04878</td><td>NA</td><td>NA</td><td>NA</td><td>NA</td><td> -1</td><td>  0</td><td>NA</td><td>NA</td></tr>\n",
              "\t<tr><td> 7</td><td>4</td><td>2003-07-24</td><td>AA    </td><td>LAX</td><td>JFK</td><td>2315</td><td>0736</td><td>2311</td><td>0735</td><td>⋯</td><td>  0</td><td>18.04878</td><td>NA</td><td>NA</td><td>NA</td><td>NA</td><td> -4</td><td>  0</td><td>NA</td><td>NA</td></tr>\n",
              "\t<tr><td>12</td><td>5</td><td>2018-12-07</td><td>AS    </td><td>LAX</td><td>JFK</td><td>1530</td><td>2357</td><td>1511</td><td>2305</td><td>⋯</td><td>  0</td><td>18.04878</td><td>NA</td><td>NA</td><td>NA</td><td>NA</td><td>-19</td><td>  0</td><td>NA</td><td>NA</td></tr>\n",
              "\t<tr><td> 1</td><td>4</td><td>1996-01-25</td><td>DL    </td><td>LAX</td><td>JFK</td><td>2300</td><td>0703</td><td>2300</td><td>0641</td><td>⋯</td><td>  0</td><td>18.04878</td><td>NA</td><td>NA</td><td>NA</td><td>NA</td><td>  0</td><td>  0</td><td>NA</td><td>NA</td></tr>\n",
              "\t<tr><td> 7</td><td>2</td><td>1992-07-21</td><td>AA    </td><td>LAX</td><td>JFK</td><td>2300</td><td>0708</td><td>2259</td><td>0658</td><td>⋯</td><td>  0</td><td>18.04878</td><td>NA</td><td>NA</td><td>NA</td><td>NA</td><td> -1</td><td>  0</td><td>NA</td><td>NA</td></tr>\n",
              "\t<tr><td> 8</td><td>3</td><td>1990-08-29</td><td>TW    </td><td>LAX</td><td>JFK</td><td>1600</td><td>0003</td><td>1603</td><td>0015</td><td>⋯</td><td> 12</td><td>18.04878</td><td>NA</td><td>NA</td><td>NA</td><td>NA</td><td>  3</td><td>  3</td><td>NA</td><td>NA</td></tr>\n",
              "\t<tr><td> 4</td><td>1</td><td>2016-04-11</td><td>DL    </td><td>LAX</td><td>JFK</td><td>1255</td><td>2130</td><td>1248</td><td>2111</td><td>⋯</td><td>  0</td><td>18.04878</td><td>NA</td><td>NA</td><td>NA</td><td>NA</td><td> -7</td><td>  0</td><td>NA</td><td>NA</td></tr>\n",
              "\t<tr><td> 1</td><td>7</td><td>2007-01-28</td><td>UA    </td><td>LAX</td><td>JFK</td><td>0845</td><td>1656</td><td>0838</td><td>1713</td><td>⋯</td><td> 17</td><td> 0.00000</td><td> 0</td><td>17</td><td> 0</td><td> 0</td><td> -7</td><td>  0</td><td>NA</td><td>NA</td></tr>\n",
              "\t<tr><td> 1</td><td>2</td><td>2000-01-18</td><td>UA    </td><td>LAX</td><td>JFK</td><td>0800</td><td>1609</td><td>0812</td><td>1606</td><td>⋯</td><td>  0</td><td>18.04878</td><td>NA</td><td>NA</td><td>NA</td><td>NA</td><td> 12</td><td> 12</td><td>NA</td><td>NA</td></tr>\n",
              "\t<tr><td> 6</td><td>5</td><td>2013-06-28</td><td>AA    </td><td>LAX</td><td>JFK</td><td>1200</td><td>2045</td><td>1328</td><td>2220</td><td>⋯</td><td> 95</td><td> 5.00000</td><td> 0</td><td> 7</td><td> 0</td><td>83</td><td> 88</td><td> 88</td><td>NA</td><td>NA</td></tr>\n",
              "\t<tr><td> 9</td><td>4</td><td>2015-09-03</td><td>AA    </td><td>LAX</td><td>JFK</td><td>1515</td><td>2359</td><td>1511</td><td>2337</td><td>⋯</td><td>  0</td><td>18.04878</td><td>NA</td><td>NA</td><td>NA</td><td>NA</td><td> -4</td><td>  0</td><td>NA</td><td>NA</td></tr>\n",
              "\t<tr><td> 5</td><td>4</td><td>1997-05-15</td><td>UA    </td><td>LAX</td><td>JFK</td><td>1300</td><td>2124</td><td>1300</td><td>2129</td><td>⋯</td><td>  5</td><td>18.04878</td><td>NA</td><td>NA</td><td>NA</td><td>NA</td><td>  0</td><td>  0</td><td>NA</td><td>NA</td></tr>\n",
              "\t<tr><td> 8</td><td>2</td><td>2010-08-24</td><td>DL    </td><td>LAX</td><td>JFK</td><td>0800</td><td>1630</td><td>0800</td><td>1634</td><td>⋯</td><td>  4</td><td>18.04878</td><td>NA</td><td>NA</td><td>NA</td><td>NA</td><td>  0</td><td>  0</td><td>NA</td><td>NA</td></tr>\n",
              "\t<tr><td>11</td><td>4</td><td>1999-11-25</td><td>TW    </td><td>LAX</td><td>JFK</td><td>1230</td><td>2038</td><td>1229</td><td>2050</td><td>⋯</td><td> 12</td><td>18.04878</td><td>NA</td><td>NA</td><td>NA</td><td>NA</td><td> -1</td><td>  0</td><td>NA</td><td>NA</td></tr>\n",
              "\t<tr><td>⋮</td><td>⋮</td><td>⋮</td><td>⋮</td><td>⋮</td><td>⋮</td><td>⋮</td><td>⋮</td><td>⋮</td><td>⋮</td><td>⋱</td><td>⋮</td><td>⋮</td><td>⋮</td><td>⋮</td><td>⋮</td><td>⋮</td><td>⋮</td><td>⋮</td><td>⋮</td><td>⋮</td></tr>\n",
              "\t<tr><td> 9</td><td>1</td><td>1997-09-22</td><td>DL</td><td>LAX</td><td>JFK</td><td>0940</td><td>1755</td><td>0951</td><td>1759</td><td>⋯</td><td> 4</td><td>18.04878</td><td>NA</td><td>NA</td><td>NA</td><td>NA</td><td>11</td><td>11</td><td>NA</td><td>NA</td></tr>\n",
              "\t<tr><td> 8</td><td>2</td><td>2001-08-28</td><td>UA</td><td>LAX</td><td>JFK</td><td>1625</td><td>0040</td><td>1621</td><td>0026</td><td>⋯</td><td> 0</td><td>18.04878</td><td>NA</td><td>NA</td><td>NA</td><td>NA</td><td>-4</td><td> 0</td><td>NA</td><td>NA</td></tr>\n",
              "\t<tr><td> 4</td><td>1</td><td>2016-04-04</td><td>DL</td><td>LAX</td><td>JFK</td><td>0610</td><td>1438</td><td>0604</td><td>1413</td><td>⋯</td><td> 0</td><td>18.04878</td><td>NA</td><td>NA</td><td>NA</td><td>NA</td><td>-6</td><td> 0</td><td>NA</td><td>NA</td></tr>\n",
              "\t<tr><td> 5</td><td>5</td><td>1995-05-26</td><td>UA</td><td>LAX</td><td>JFK</td><td>0825</td><td>1653</td><td>0833</td><td>1635</td><td>⋯</td><td> 0</td><td>18.04878</td><td>NA</td><td>NA</td><td>NA</td><td>NA</td><td> 8</td><td> 8</td><td>NA</td><td>NA</td></tr>\n",
              "\t<tr><td> 3</td><td>4</td><td>2010-03-18</td><td>DL</td><td>LAX</td><td>JFK</td><td>1240</td><td>2107</td><td>1238</td><td>2110</td><td>⋯</td><td> 3</td><td>18.04878</td><td>NA</td><td>NA</td><td>NA</td><td>NA</td><td>-2</td><td> 0</td><td>NA</td><td>NA</td></tr>\n",
              "\t<tr><td> 2</td><td>6</td><td>1995-02-11</td><td>AA</td><td>LAX</td><td>JFK</td><td>0800</td><td>1615</td><td>0801</td><td>1549</td><td>⋯</td><td> 0</td><td>18.04878</td><td>NA</td><td>NA</td><td>NA</td><td>NA</td><td> 1</td><td> 1</td><td>NA</td><td>NA</td></tr>\n",
              "\t<tr><td> 3</td><td>6</td><td>2004-03-27</td><td>DL</td><td>LAX</td><td>JFK</td><td>2200</td><td>0604</td><td>2215</td><td>0634</td><td>⋯</td><td>30</td><td>15.00000</td><td> 0</td><td>15</td><td> 0</td><td> 0</td><td>15</td><td>15</td><td>NA</td><td>NA</td></tr>\n",
              "\t<tr><td> 3</td><td>7</td><td>2020-03-01</td><td>AA</td><td>LAX</td><td>JFK</td><td>1700</td><td>0115</td><td>1733</td><td>0203</td><td>⋯</td><td>48</td><td>33.00000</td><td> 0</td><td>15</td><td> 0</td><td> 0</td><td>33</td><td>33</td><td>NA</td><td>NA</td></tr>\n",
              "\t<tr><td> 2</td><td>3</td><td>2016-02-17</td><td>AA</td><td>LAX</td><td>JFK</td><td>1330</td><td>2153</td><td>1326</td><td>2131</td><td>⋯</td><td> 0</td><td>18.04878</td><td>NA</td><td>NA</td><td>NA</td><td>NA</td><td>-4</td><td> 0</td><td>NA</td><td>NA</td></tr>\n",
              "\t<tr><td>12</td><td>2</td><td>1998-12-01</td><td>UA</td><td>LAX</td><td>JFK</td><td>1430</td><td>2232</td><td>1431</td><td>2223</td><td>⋯</td><td> 0</td><td>18.04878</td><td>NA</td><td>NA</td><td>NA</td><td>NA</td><td> 1</td><td> 1</td><td>NA</td><td>NA</td></tr>\n",
              "\t<tr><td> 6</td><td>5</td><td>2018-06-01</td><td>DL</td><td>LAX</td><td>JFK</td><td>0615</td><td>1443</td><td>0612</td><td>1442</td><td>⋯</td><td> 0</td><td>18.04878</td><td>NA</td><td>NA</td><td>NA</td><td>NA</td><td>-3</td><td> 0</td><td>NA</td><td>NA</td></tr>\n",
              "\t<tr><td> 2</td><td>1</td><td>2015-02-16</td><td>AA</td><td>LAX</td><td>JFK</td><td>2330</td><td>0751</td><td>2328</td><td>0744</td><td>⋯</td><td> 0</td><td>18.04878</td><td>NA</td><td>NA</td><td>NA</td><td>NA</td><td>-2</td><td> 0</td><td>NA</td><td>NA</td></tr>\n",
              "\t<tr><td> 9</td><td>3</td><td>2018-09-05</td><td>B6</td><td>LAX</td><td>JFK</td><td>1342</td><td>2204</td><td>1337</td><td>2148</td><td>⋯</td><td> 0</td><td>18.04878</td><td>NA</td><td>NA</td><td>NA</td><td>NA</td><td>-5</td><td> 0</td><td>NA</td><td>NA</td></tr>\n",
              "\t<tr><td> 1</td><td>1</td><td>1996-01-29</td><td>UA</td><td>LAX</td><td>JFK</td><td>1115</td><td>1926</td><td>1138</td><td>1920</td><td>⋯</td><td> 0</td><td>18.04878</td><td>NA</td><td>NA</td><td>NA</td><td>NA</td><td>23</td><td>23</td><td>NA</td><td>NA</td></tr>\n",
              "\t<tr><td> 1</td><td>3</td><td>2016-01-06</td><td>VX</td><td>LAX</td><td>JFK</td><td>1345</td><td>2205</td><td>1346</td><td>2201</td><td>⋯</td><td> 0</td><td>18.04878</td><td>NA</td><td>NA</td><td>NA</td><td>NA</td><td> 1</td><td> 1</td><td>NA</td><td>NA</td></tr>\n",
              "\t<tr><td>10</td><td>4</td><td>2002-10-03</td><td>AA</td><td>LAX</td><td>JFK</td><td>2200</td><td>0617</td><td>2157</td><td>0605</td><td>⋯</td><td> 0</td><td>18.04878</td><td>NA</td><td>NA</td><td>NA</td><td>NA</td><td>-3</td><td> 0</td><td>NA</td><td>NA</td></tr>\n",
              "\t<tr><td> 3</td><td>2</td><td>2016-03-15</td><td>VX</td><td>LAX</td><td>JFK</td><td>0735</td><td>1555</td><td>0732</td><td>1538</td><td>⋯</td><td> 0</td><td>18.04878</td><td>NA</td><td>NA</td><td>NA</td><td>NA</td><td>-3</td><td> 0</td><td>NA</td><td>NA</td></tr>\n",
              "\t<tr><td>11</td><td>7</td><td>1998-11-29</td><td>UA</td><td>LAX</td><td>JFK</td><td>1600</td><td>0002</td><td>1558</td><td>2351</td><td>⋯</td><td> 0</td><td>18.04878</td><td>NA</td><td>NA</td><td>NA</td><td>NA</td><td>-2</td><td> 0</td><td>NA</td><td>NA</td></tr>\n",
              "\t<tr><td> 1</td><td>7</td><td>1990-01-14</td><td>AA</td><td>LAX</td><td>JFK</td><td>1200</td><td>2013</td><td>1157</td><td>1957</td><td>⋯</td><td> 0</td><td>18.04878</td><td>NA</td><td>NA</td><td>NA</td><td>NA</td><td>-3</td><td> 0</td><td>NA</td><td>NA</td></tr>\n",
              "\t<tr><td> 1</td><td>1</td><td>2007-01-01</td><td>UA</td><td>LAX</td><td>JFK</td><td>1600</td><td>0005</td><td>1559</td><td>0007</td><td>⋯</td><td> 2</td><td>18.04878</td><td>NA</td><td>NA</td><td>NA</td><td>NA</td><td>-1</td><td> 0</td><td>NA</td><td>NA</td></tr>\n",
              "\t<tr><td> 5</td><td>6</td><td>1988-05-14</td><td>AA</td><td>LAX</td><td>JFK</td><td>0830</td><td>1710</td><td>0829</td><td>1646</td><td>⋯</td><td> 0</td><td>18.04878</td><td>NA</td><td>NA</td><td>NA</td><td>NA</td><td>-1</td><td> 0</td><td>NA</td><td>NA</td></tr>\n",
              "\t<tr><td> 1</td><td>7</td><td>1994-01-02</td><td>UA</td><td>LAX</td><td>JFK</td><td>0730</td><td>1548</td><td>0732</td><td>1549</td><td>⋯</td><td> 1</td><td>18.04878</td><td>NA</td><td>NA</td><td>NA</td><td>NA</td><td> 2</td><td> 2</td><td>NA</td><td>NA</td></tr>\n",
              "\t<tr><td> 4</td><td>1</td><td>2000-04-17</td><td>UA</td><td>LAX</td><td>JFK</td><td>0900</td><td>1721</td><td>0859</td><td>1705</td><td>⋯</td><td> 0</td><td>18.04878</td><td>NA</td><td>NA</td><td>NA</td><td>NA</td><td>-1</td><td> 0</td><td>NA</td><td>NA</td></tr>\n",
              "\t<tr><td> 6</td><td>7</td><td>2003-06-08</td><td>DL</td><td>LAX</td><td>JFK</td><td>1230</td><td>2052</td><td>1228</td><td>2052</td><td>⋯</td><td> 0</td><td>18.04878</td><td>NA</td><td>NA</td><td>NA</td><td>NA</td><td>-2</td><td> 0</td><td>NA</td><td>NA</td></tr>\n",
              "\t<tr><td>10</td><td>6</td><td>1996-10-19</td><td>AA</td><td>LAX</td><td>JFK</td><td>0700</td><td>1509</td><td>0700</td><td>1610</td><td>⋯</td><td>61</td><td>18.04878</td><td>NA</td><td>NA</td><td>NA</td><td>NA</td><td> 0</td><td> 0</td><td>NA</td><td>NA</td></tr>\n",
              "\t<tr><td>10</td><td>3</td><td>2015-10-21</td><td>DL</td><td>LAX</td><td>JFK</td><td>2255</td><td>0720</td><td>2254</td><td>0723</td><td>⋯</td><td> 3</td><td>18.04878</td><td>NA</td><td>NA</td><td>NA</td><td>NA</td><td>-1</td><td> 0</td><td>NA</td><td>NA</td></tr>\n",
              "\t<tr><td> 7</td><td>5</td><td>2012-07-06</td><td>UA</td><td>LAX</td><td>JFK</td><td>0605</td><td>1422</td><td>0600</td><td>1427</td><td>⋯</td><td> 5</td><td>18.04878</td><td>NA</td><td>NA</td><td>NA</td><td>NA</td><td>-5</td><td> 0</td><td>NA</td><td>NA</td></tr>\n",
              "\t<tr><td> 1</td><td>3</td><td>2010-01-06</td><td>DL</td><td>LAX</td><td>JFK</td><td>2125</td><td>0543</td><td>2118</td><td>0540</td><td>⋯</td><td> 0</td><td>18.04878</td><td>NA</td><td>NA</td><td>NA</td><td>NA</td><td>-7</td><td> 0</td><td>NA</td><td>NA</td></tr>\n",
              "\t<tr><td> 5</td><td>5</td><td>2009-05-15</td><td>AA</td><td>LAX</td><td>JFK</td><td>2115</td><td>0535</td><td>2119</td><td>0533</td><td>⋯</td><td> 0</td><td>18.04878</td><td>NA</td><td>NA</td><td>NA</td><td>NA</td><td> 4</td><td> 4</td><td>NA</td><td>NA</td></tr>\n",
              "\t<tr><td> 7</td><td>4</td><td>2000-07-06</td><td>AA</td><td>LAX</td><td>JFK</td><td>2200</td><td>0622</td><td>2158</td><td>0610</td><td>⋯</td><td> 0</td><td>18.04878</td><td>NA</td><td>NA</td><td>NA</td><td>NA</td><td>-2</td><td> 0</td><td>NA</td><td>NA</td></tr>\n",
              "</tbody>\n",
              "</table>\n"
            ],
            "text/markdown": "\nA spec_tbl_df: 2855 × 21\n\n| Month &lt;dbl&gt; | DayOfWeek &lt;dbl&gt; | FlightDate &lt;date&gt; | Reporting_Airline &lt;chr&gt; | Origin &lt;chr&gt; | Dest &lt;chr&gt; | CRSDepTime &lt;chr&gt; | CRSArrTime &lt;chr&gt; | DepTime &lt;chr&gt; | ArrTime &lt;chr&gt; | ⋯ ⋯ | ArrDelayMinutes &lt;dbl&gt; | CarrierDelay &lt;dbl&gt; | WeatherDelay &lt;dbl&gt; | NASDelay &lt;dbl&gt; | SecurityDelay &lt;dbl&gt; | LateAircraftDelay &lt;dbl&gt; | DepDelay &lt;dbl&gt; | DepDelayMinutes &lt;dbl&gt; | DivDistance &lt;dbl&gt; | DivArrDelay &lt;dbl&gt; |\n|---|---|---|---|---|---|---|---|---|---|---|---|---|---|---|---|---|---|---|---|---|\n|  3 | 5 | 2003-03-28 | UA     | LAX | JFK | 2210 | 0615 | 2209 | 0617 | ⋯ |   2 | 18.04878 | NA | NA | NA | NA |  -1 |   0 | NA | NA |\n| 11 | 4 | 2018-11-29 | AS     | LAX | JFK | 1045 | 1912 | 1049 | 1851 | ⋯ |   0 | 18.04878 | NA | NA | NA | NA |   4 |   4 | NA | NA |\n|  8 | 5 | 2015-08-28 | UA     | LAX | JFK | 0805 | 1634 | 0757 | 1620 | ⋯ |   0 | 18.04878 | NA | NA | NA | NA |  -8 |   0 | NA | NA |\n|  4 | 7 | 2003-04-20 | DL     | LAX | JFK | 2205 | 0619 | 2212 | 0616 | ⋯ |   0 | 18.04878 | NA | NA | NA | NA |   7 |   7 | NA | NA |\n| 11 | 3 | 2005-11-30 | UA     | LAX | JFK | 0840 | 1653 | 0836 | 1640 | ⋯ |   0 | 18.04878 | NA | NA | NA | NA |  -4 |   0 | NA | NA |\n|  4 | 1 | 1992-04-06 | UA     | LAX | JFK | 1450 | 2308 | 1452 | 2248 | ⋯ |   0 | 18.04878 | NA | NA | NA | NA |   2 |   2 | NA | NA |\n| 12 | 1 | 2012-12-03 | VX     | LAX | JFK | 1040 | 1900 | 1038 | 1901 | ⋯ |   1 | 18.04878 | NA | NA | NA | NA |  -2 |   0 | NA | NA |\n| 12 | 3 | 2004-12-01 | HP     | LAX | JFK | 2200 | 0613 | 2158 | 0533 | ⋯ |   0 | 18.04878 | NA | NA | NA | NA |  -2 |   0 | NA | NA |\n|  2 | 4 | 1997-02-13 | UA     | LAX | JFK | 0800 | 1615 | 0802 | 1640 | ⋯ |  25 | 18.04878 | NA | NA | NA | NA |   2 |   2 | NA | NA |\n|  3 | 4 | 2016-03-10 | DL     | LAX | JFK | 2245 | 0712 | 2300 | 0719 | ⋯ |   7 | 18.04878 | NA | NA | NA | NA |  15 |  15 | NA | NA |\n| 10 | 4 | 1999-10-14 | AA     | LAX | JFK | 2300 | 0717 | 2302 | 0722 | ⋯ |   5 | 18.04878 | NA | NA | NA | NA |   2 |   2 | NA | NA |\n|  8 | 5 | 2018-08-03 | B6     | LAX | JFK | 0013 | 0839 | 0034 | 0913 | ⋯ |  34 | 11.00000 |  0 | 23 |  0 |  0 |  21 |  21 | NA | NA |\n|  6 | 4 | 2006-06-01 | AA     | LAX | JFK | 1515 | 2332 | 1507 | 2353 | ⋯ |  21 |  0.00000 |  0 | 21 |  0 |  0 |  -8 |   0 | NA | NA |\n|  2 | 3 | 1999-02-03 | AA     | LAX | JFK | 0700 | 1508 | 0658 | 1448 | ⋯ |   0 | 18.04878 | NA | NA | NA | NA |  -2 |   0 | NA | NA |\n|  8 | 7 | 1995-08-27 | AA     | LAX | JFK | 0900 | 1715 | 0859 | 1729 | ⋯ |  14 | 18.04878 | NA | NA | NA | NA |  -1 |   0 | NA | NA |\n|  3 | 6 | 1990-03-31 | PA (1) | LAX | JFK | 0830 | 1640 | 1505 | 0402 | ⋯ | 682 | 18.04878 | NA | NA | NA | NA | 395 | 395 | NA | NA |\n|  6 | 4 | 1996-06-13 | AA     | LAX | JFK | 0700 | 1507 | 0659 | 1511 | ⋯ |   4 | 18.04878 | NA | NA | NA | NA |  -1 |   0 | NA | NA |\n|  7 | 4 | 2003-07-24 | AA     | LAX | JFK | 2315 | 0736 | 2311 | 0735 | ⋯ |   0 | 18.04878 | NA | NA | NA | NA |  -4 |   0 | NA | NA |\n| 12 | 5 | 2018-12-07 | AS     | LAX | JFK | 1530 | 2357 | 1511 | 2305 | ⋯ |   0 | 18.04878 | NA | NA | NA | NA | -19 |   0 | NA | NA |\n|  1 | 4 | 1996-01-25 | DL     | LAX | JFK | 2300 | 0703 | 2300 | 0641 | ⋯ |   0 | 18.04878 | NA | NA | NA | NA |   0 |   0 | NA | NA |\n|  7 | 2 | 1992-07-21 | AA     | LAX | JFK | 2300 | 0708 | 2259 | 0658 | ⋯ |   0 | 18.04878 | NA | NA | NA | NA |  -1 |   0 | NA | NA |\n|  8 | 3 | 1990-08-29 | TW     | LAX | JFK | 1600 | 0003 | 1603 | 0015 | ⋯ |  12 | 18.04878 | NA | NA | NA | NA |   3 |   3 | NA | NA |\n|  4 | 1 | 2016-04-11 | DL     | LAX | JFK | 1255 | 2130 | 1248 | 2111 | ⋯ |   0 | 18.04878 | NA | NA | NA | NA |  -7 |   0 | NA | NA |\n|  1 | 7 | 2007-01-28 | UA     | LAX | JFK | 0845 | 1656 | 0838 | 1713 | ⋯ |  17 |  0.00000 |  0 | 17 |  0 |  0 |  -7 |   0 | NA | NA |\n|  1 | 2 | 2000-01-18 | UA     | LAX | JFK | 0800 | 1609 | 0812 | 1606 | ⋯ |   0 | 18.04878 | NA | NA | NA | NA |  12 |  12 | NA | NA |\n|  6 | 5 | 2013-06-28 | AA     | LAX | JFK | 1200 | 2045 | 1328 | 2220 | ⋯ |  95 |  5.00000 |  0 |  7 |  0 | 83 |  88 |  88 | NA | NA |\n|  9 | 4 | 2015-09-03 | AA     | LAX | JFK | 1515 | 2359 | 1511 | 2337 | ⋯ |   0 | 18.04878 | NA | NA | NA | NA |  -4 |   0 | NA | NA |\n|  5 | 4 | 1997-05-15 | UA     | LAX | JFK | 1300 | 2124 | 1300 | 2129 | ⋯ |   5 | 18.04878 | NA | NA | NA | NA |   0 |   0 | NA | NA |\n|  8 | 2 | 2010-08-24 | DL     | LAX | JFK | 0800 | 1630 | 0800 | 1634 | ⋯ |   4 | 18.04878 | NA | NA | NA | NA |   0 |   0 | NA | NA |\n| 11 | 4 | 1999-11-25 | TW     | LAX | JFK | 1230 | 2038 | 1229 | 2050 | ⋯ |  12 | 18.04878 | NA | NA | NA | NA |  -1 |   0 | NA | NA |\n| ⋮ | ⋮ | ⋮ | ⋮ | ⋮ | ⋮ | ⋮ | ⋮ | ⋮ | ⋮ | ⋱ | ⋮ | ⋮ | ⋮ | ⋮ | ⋮ | ⋮ | ⋮ | ⋮ | ⋮ | ⋮ |\n|  9 | 1 | 1997-09-22 | DL | LAX | JFK | 0940 | 1755 | 0951 | 1759 | ⋯ |  4 | 18.04878 | NA | NA | NA | NA | 11 | 11 | NA | NA |\n|  8 | 2 | 2001-08-28 | UA | LAX | JFK | 1625 | 0040 | 1621 | 0026 | ⋯ |  0 | 18.04878 | NA | NA | NA | NA | -4 |  0 | NA | NA |\n|  4 | 1 | 2016-04-04 | DL | LAX | JFK | 0610 | 1438 | 0604 | 1413 | ⋯ |  0 | 18.04878 | NA | NA | NA | NA | -6 |  0 | NA | NA |\n|  5 | 5 | 1995-05-26 | UA | LAX | JFK | 0825 | 1653 | 0833 | 1635 | ⋯ |  0 | 18.04878 | NA | NA | NA | NA |  8 |  8 | NA | NA |\n|  3 | 4 | 2010-03-18 | DL | LAX | JFK | 1240 | 2107 | 1238 | 2110 | ⋯ |  3 | 18.04878 | NA | NA | NA | NA | -2 |  0 | NA | NA |\n|  2 | 6 | 1995-02-11 | AA | LAX | JFK | 0800 | 1615 | 0801 | 1549 | ⋯ |  0 | 18.04878 | NA | NA | NA | NA |  1 |  1 | NA | NA |\n|  3 | 6 | 2004-03-27 | DL | LAX | JFK | 2200 | 0604 | 2215 | 0634 | ⋯ | 30 | 15.00000 |  0 | 15 |  0 |  0 | 15 | 15 | NA | NA |\n|  3 | 7 | 2020-03-01 | AA | LAX | JFK | 1700 | 0115 | 1733 | 0203 | ⋯ | 48 | 33.00000 |  0 | 15 |  0 |  0 | 33 | 33 | NA | NA |\n|  2 | 3 | 2016-02-17 | AA | LAX | JFK | 1330 | 2153 | 1326 | 2131 | ⋯ |  0 | 18.04878 | NA | NA | NA | NA | -4 |  0 | NA | NA |\n| 12 | 2 | 1998-12-01 | UA | LAX | JFK | 1430 | 2232 | 1431 | 2223 | ⋯ |  0 | 18.04878 | NA | NA | NA | NA |  1 |  1 | NA | NA |\n|  6 | 5 | 2018-06-01 | DL | LAX | JFK | 0615 | 1443 | 0612 | 1442 | ⋯ |  0 | 18.04878 | NA | NA | NA | NA | -3 |  0 | NA | NA |\n|  2 | 1 | 2015-02-16 | AA | LAX | JFK | 2330 | 0751 | 2328 | 0744 | ⋯ |  0 | 18.04878 | NA | NA | NA | NA | -2 |  0 | NA | NA |\n|  9 | 3 | 2018-09-05 | B6 | LAX | JFK | 1342 | 2204 | 1337 | 2148 | ⋯ |  0 | 18.04878 | NA | NA | NA | NA | -5 |  0 | NA | NA |\n|  1 | 1 | 1996-01-29 | UA | LAX | JFK | 1115 | 1926 | 1138 | 1920 | ⋯ |  0 | 18.04878 | NA | NA | NA | NA | 23 | 23 | NA | NA |\n|  1 | 3 | 2016-01-06 | VX | LAX | JFK | 1345 | 2205 | 1346 | 2201 | ⋯ |  0 | 18.04878 | NA | NA | NA | NA |  1 |  1 | NA | NA |\n| 10 | 4 | 2002-10-03 | AA | LAX | JFK | 2200 | 0617 | 2157 | 0605 | ⋯ |  0 | 18.04878 | NA | NA | NA | NA | -3 |  0 | NA | NA |\n|  3 | 2 | 2016-03-15 | VX | LAX | JFK | 0735 | 1555 | 0732 | 1538 | ⋯ |  0 | 18.04878 | NA | NA | NA | NA | -3 |  0 | NA | NA |\n| 11 | 7 | 1998-11-29 | UA | LAX | JFK | 1600 | 0002 | 1558 | 2351 | ⋯ |  0 | 18.04878 | NA | NA | NA | NA | -2 |  0 | NA | NA |\n|  1 | 7 | 1990-01-14 | AA | LAX | JFK | 1200 | 2013 | 1157 | 1957 | ⋯ |  0 | 18.04878 | NA | NA | NA | NA | -3 |  0 | NA | NA |\n|  1 | 1 | 2007-01-01 | UA | LAX | JFK | 1600 | 0005 | 1559 | 0007 | ⋯ |  2 | 18.04878 | NA | NA | NA | NA | -1 |  0 | NA | NA |\n|  5 | 6 | 1988-05-14 | AA | LAX | JFK | 0830 | 1710 | 0829 | 1646 | ⋯ |  0 | 18.04878 | NA | NA | NA | NA | -1 |  0 | NA | NA |\n|  1 | 7 | 1994-01-02 | UA | LAX | JFK | 0730 | 1548 | 0732 | 1549 | ⋯ |  1 | 18.04878 | NA | NA | NA | NA |  2 |  2 | NA | NA |\n|  4 | 1 | 2000-04-17 | UA | LAX | JFK | 0900 | 1721 | 0859 | 1705 | ⋯ |  0 | 18.04878 | NA | NA | NA | NA | -1 |  0 | NA | NA |\n|  6 | 7 | 2003-06-08 | DL | LAX | JFK | 1230 | 2052 | 1228 | 2052 | ⋯ |  0 | 18.04878 | NA | NA | NA | NA | -2 |  0 | NA | NA |\n| 10 | 6 | 1996-10-19 | AA | LAX | JFK | 0700 | 1509 | 0700 | 1610 | ⋯ | 61 | 18.04878 | NA | NA | NA | NA |  0 |  0 | NA | NA |\n| 10 | 3 | 2015-10-21 | DL | LAX | JFK | 2255 | 0720 | 2254 | 0723 | ⋯ |  3 | 18.04878 | NA | NA | NA | NA | -1 |  0 | NA | NA |\n|  7 | 5 | 2012-07-06 | UA | LAX | JFK | 0605 | 1422 | 0600 | 1427 | ⋯ |  5 | 18.04878 | NA | NA | NA | NA | -5 |  0 | NA | NA |\n|  1 | 3 | 2010-01-06 | DL | LAX | JFK | 2125 | 0543 | 2118 | 0540 | ⋯ |  0 | 18.04878 | NA | NA | NA | NA | -7 |  0 | NA | NA |\n|  5 | 5 | 2009-05-15 | AA | LAX | JFK | 2115 | 0535 | 2119 | 0533 | ⋯ |  0 | 18.04878 | NA | NA | NA | NA |  4 |  4 | NA | NA |\n|  7 | 4 | 2000-07-06 | AA | LAX | JFK | 2200 | 0622 | 2158 | 0610 | ⋯ |  0 | 18.04878 | NA | NA | NA | NA | -2 |  0 | NA | NA |\n\n",
            "text/latex": "A spec\\_tbl\\_df: 2855 × 21\n\\begin{tabular}{lllllllllllllllllllll}\n Month & DayOfWeek & FlightDate & Reporting\\_Airline & Origin & Dest & CRSDepTime & CRSArrTime & DepTime & ArrTime & ⋯ & ArrDelayMinutes & CarrierDelay & WeatherDelay & NASDelay & SecurityDelay & LateAircraftDelay & DepDelay & DepDelayMinutes & DivDistance & DivArrDelay\\\\\n <dbl> & <dbl> & <date> & <chr> & <chr> & <chr> & <chr> & <chr> & <chr> & <chr> & ⋯ & <dbl> & <dbl> & <dbl> & <dbl> & <dbl> & <dbl> & <dbl> & <dbl> & <dbl> & <dbl>\\\\\n\\hline\n\t  3 & 5 & 2003-03-28 & UA     & LAX & JFK & 2210 & 0615 & 2209 & 0617 & ⋯ &   2 & 18.04878 & NA & NA & NA & NA &  -1 &   0 & NA & NA\\\\\n\t 11 & 4 & 2018-11-29 & AS     & LAX & JFK & 1045 & 1912 & 1049 & 1851 & ⋯ &   0 & 18.04878 & NA & NA & NA & NA &   4 &   4 & NA & NA\\\\\n\t  8 & 5 & 2015-08-28 & UA     & LAX & JFK & 0805 & 1634 & 0757 & 1620 & ⋯ &   0 & 18.04878 & NA & NA & NA & NA &  -8 &   0 & NA & NA\\\\\n\t  4 & 7 & 2003-04-20 & DL     & LAX & JFK & 2205 & 0619 & 2212 & 0616 & ⋯ &   0 & 18.04878 & NA & NA & NA & NA &   7 &   7 & NA & NA\\\\\n\t 11 & 3 & 2005-11-30 & UA     & LAX & JFK & 0840 & 1653 & 0836 & 1640 & ⋯ &   0 & 18.04878 & NA & NA & NA & NA &  -4 &   0 & NA & NA\\\\\n\t  4 & 1 & 1992-04-06 & UA     & LAX & JFK & 1450 & 2308 & 1452 & 2248 & ⋯ &   0 & 18.04878 & NA & NA & NA & NA &   2 &   2 & NA & NA\\\\\n\t 12 & 1 & 2012-12-03 & VX     & LAX & JFK & 1040 & 1900 & 1038 & 1901 & ⋯ &   1 & 18.04878 & NA & NA & NA & NA &  -2 &   0 & NA & NA\\\\\n\t 12 & 3 & 2004-12-01 & HP     & LAX & JFK & 2200 & 0613 & 2158 & 0533 & ⋯ &   0 & 18.04878 & NA & NA & NA & NA &  -2 &   0 & NA & NA\\\\\n\t  2 & 4 & 1997-02-13 & UA     & LAX & JFK & 0800 & 1615 & 0802 & 1640 & ⋯ &  25 & 18.04878 & NA & NA & NA & NA &   2 &   2 & NA & NA\\\\\n\t  3 & 4 & 2016-03-10 & DL     & LAX & JFK & 2245 & 0712 & 2300 & 0719 & ⋯ &   7 & 18.04878 & NA & NA & NA & NA &  15 &  15 & NA & NA\\\\\n\t 10 & 4 & 1999-10-14 & AA     & LAX & JFK & 2300 & 0717 & 2302 & 0722 & ⋯ &   5 & 18.04878 & NA & NA & NA & NA &   2 &   2 & NA & NA\\\\\n\t  8 & 5 & 2018-08-03 & B6     & LAX & JFK & 0013 & 0839 & 0034 & 0913 & ⋯ &  34 & 11.00000 &  0 & 23 &  0 &  0 &  21 &  21 & NA & NA\\\\\n\t  6 & 4 & 2006-06-01 & AA     & LAX & JFK & 1515 & 2332 & 1507 & 2353 & ⋯ &  21 &  0.00000 &  0 & 21 &  0 &  0 &  -8 &   0 & NA & NA\\\\\n\t  2 & 3 & 1999-02-03 & AA     & LAX & JFK & 0700 & 1508 & 0658 & 1448 & ⋯ &   0 & 18.04878 & NA & NA & NA & NA &  -2 &   0 & NA & NA\\\\\n\t  8 & 7 & 1995-08-27 & AA     & LAX & JFK & 0900 & 1715 & 0859 & 1729 & ⋯ &  14 & 18.04878 & NA & NA & NA & NA &  -1 &   0 & NA & NA\\\\\n\t  3 & 6 & 1990-03-31 & PA (1) & LAX & JFK & 0830 & 1640 & 1505 & 0402 & ⋯ & 682 & 18.04878 & NA & NA & NA & NA & 395 & 395 & NA & NA\\\\\n\t  6 & 4 & 1996-06-13 & AA     & LAX & JFK & 0700 & 1507 & 0659 & 1511 & ⋯ &   4 & 18.04878 & NA & NA & NA & NA &  -1 &   0 & NA & NA\\\\\n\t  7 & 4 & 2003-07-24 & AA     & LAX & JFK & 2315 & 0736 & 2311 & 0735 & ⋯ &   0 & 18.04878 & NA & NA & NA & NA &  -4 &   0 & NA & NA\\\\\n\t 12 & 5 & 2018-12-07 & AS     & LAX & JFK & 1530 & 2357 & 1511 & 2305 & ⋯ &   0 & 18.04878 & NA & NA & NA & NA & -19 &   0 & NA & NA\\\\\n\t  1 & 4 & 1996-01-25 & DL     & LAX & JFK & 2300 & 0703 & 2300 & 0641 & ⋯ &   0 & 18.04878 & NA & NA & NA & NA &   0 &   0 & NA & NA\\\\\n\t  7 & 2 & 1992-07-21 & AA     & LAX & JFK & 2300 & 0708 & 2259 & 0658 & ⋯ &   0 & 18.04878 & NA & NA & NA & NA &  -1 &   0 & NA & NA\\\\\n\t  8 & 3 & 1990-08-29 & TW     & LAX & JFK & 1600 & 0003 & 1603 & 0015 & ⋯ &  12 & 18.04878 & NA & NA & NA & NA &   3 &   3 & NA & NA\\\\\n\t  4 & 1 & 2016-04-11 & DL     & LAX & JFK & 1255 & 2130 & 1248 & 2111 & ⋯ &   0 & 18.04878 & NA & NA & NA & NA &  -7 &   0 & NA & NA\\\\\n\t  1 & 7 & 2007-01-28 & UA     & LAX & JFK & 0845 & 1656 & 0838 & 1713 & ⋯ &  17 &  0.00000 &  0 & 17 &  0 &  0 &  -7 &   0 & NA & NA\\\\\n\t  1 & 2 & 2000-01-18 & UA     & LAX & JFK & 0800 & 1609 & 0812 & 1606 & ⋯ &   0 & 18.04878 & NA & NA & NA & NA &  12 &  12 & NA & NA\\\\\n\t  6 & 5 & 2013-06-28 & AA     & LAX & JFK & 1200 & 2045 & 1328 & 2220 & ⋯ &  95 &  5.00000 &  0 &  7 &  0 & 83 &  88 &  88 & NA & NA\\\\\n\t  9 & 4 & 2015-09-03 & AA     & LAX & JFK & 1515 & 2359 & 1511 & 2337 & ⋯ &   0 & 18.04878 & NA & NA & NA & NA &  -4 &   0 & NA & NA\\\\\n\t  5 & 4 & 1997-05-15 & UA     & LAX & JFK & 1300 & 2124 & 1300 & 2129 & ⋯ &   5 & 18.04878 & NA & NA & NA & NA &   0 &   0 & NA & NA\\\\\n\t  8 & 2 & 2010-08-24 & DL     & LAX & JFK & 0800 & 1630 & 0800 & 1634 & ⋯ &   4 & 18.04878 & NA & NA & NA & NA &   0 &   0 & NA & NA\\\\\n\t 11 & 4 & 1999-11-25 & TW     & LAX & JFK & 1230 & 2038 & 1229 & 2050 & ⋯ &  12 & 18.04878 & NA & NA & NA & NA &  -1 &   0 & NA & NA\\\\\n\t ⋮ & ⋮ & ⋮ & ⋮ & ⋮ & ⋮ & ⋮ & ⋮ & ⋮ & ⋮ & ⋱ & ⋮ & ⋮ & ⋮ & ⋮ & ⋮ & ⋮ & ⋮ & ⋮ & ⋮ & ⋮\\\\\n\t  9 & 1 & 1997-09-22 & DL & LAX & JFK & 0940 & 1755 & 0951 & 1759 & ⋯ &  4 & 18.04878 & NA & NA & NA & NA & 11 & 11 & NA & NA\\\\\n\t  8 & 2 & 2001-08-28 & UA & LAX & JFK & 1625 & 0040 & 1621 & 0026 & ⋯ &  0 & 18.04878 & NA & NA & NA & NA & -4 &  0 & NA & NA\\\\\n\t  4 & 1 & 2016-04-04 & DL & LAX & JFK & 0610 & 1438 & 0604 & 1413 & ⋯ &  0 & 18.04878 & NA & NA & NA & NA & -6 &  0 & NA & NA\\\\\n\t  5 & 5 & 1995-05-26 & UA & LAX & JFK & 0825 & 1653 & 0833 & 1635 & ⋯ &  0 & 18.04878 & NA & NA & NA & NA &  8 &  8 & NA & NA\\\\\n\t  3 & 4 & 2010-03-18 & DL & LAX & JFK & 1240 & 2107 & 1238 & 2110 & ⋯ &  3 & 18.04878 & NA & NA & NA & NA & -2 &  0 & NA & NA\\\\\n\t  2 & 6 & 1995-02-11 & AA & LAX & JFK & 0800 & 1615 & 0801 & 1549 & ⋯ &  0 & 18.04878 & NA & NA & NA & NA &  1 &  1 & NA & NA\\\\\n\t  3 & 6 & 2004-03-27 & DL & LAX & JFK & 2200 & 0604 & 2215 & 0634 & ⋯ & 30 & 15.00000 &  0 & 15 &  0 &  0 & 15 & 15 & NA & NA\\\\\n\t  3 & 7 & 2020-03-01 & AA & LAX & JFK & 1700 & 0115 & 1733 & 0203 & ⋯ & 48 & 33.00000 &  0 & 15 &  0 &  0 & 33 & 33 & NA & NA\\\\\n\t  2 & 3 & 2016-02-17 & AA & LAX & JFK & 1330 & 2153 & 1326 & 2131 & ⋯ &  0 & 18.04878 & NA & NA & NA & NA & -4 &  0 & NA & NA\\\\\n\t 12 & 2 & 1998-12-01 & UA & LAX & JFK & 1430 & 2232 & 1431 & 2223 & ⋯ &  0 & 18.04878 & NA & NA & NA & NA &  1 &  1 & NA & NA\\\\\n\t  6 & 5 & 2018-06-01 & DL & LAX & JFK & 0615 & 1443 & 0612 & 1442 & ⋯ &  0 & 18.04878 & NA & NA & NA & NA & -3 &  0 & NA & NA\\\\\n\t  2 & 1 & 2015-02-16 & AA & LAX & JFK & 2330 & 0751 & 2328 & 0744 & ⋯ &  0 & 18.04878 & NA & NA & NA & NA & -2 &  0 & NA & NA\\\\\n\t  9 & 3 & 2018-09-05 & B6 & LAX & JFK & 1342 & 2204 & 1337 & 2148 & ⋯ &  0 & 18.04878 & NA & NA & NA & NA & -5 &  0 & NA & NA\\\\\n\t  1 & 1 & 1996-01-29 & UA & LAX & JFK & 1115 & 1926 & 1138 & 1920 & ⋯ &  0 & 18.04878 & NA & NA & NA & NA & 23 & 23 & NA & NA\\\\\n\t  1 & 3 & 2016-01-06 & VX & LAX & JFK & 1345 & 2205 & 1346 & 2201 & ⋯ &  0 & 18.04878 & NA & NA & NA & NA &  1 &  1 & NA & NA\\\\\n\t 10 & 4 & 2002-10-03 & AA & LAX & JFK & 2200 & 0617 & 2157 & 0605 & ⋯ &  0 & 18.04878 & NA & NA & NA & NA & -3 &  0 & NA & NA\\\\\n\t  3 & 2 & 2016-03-15 & VX & LAX & JFK & 0735 & 1555 & 0732 & 1538 & ⋯ &  0 & 18.04878 & NA & NA & NA & NA & -3 &  0 & NA & NA\\\\\n\t 11 & 7 & 1998-11-29 & UA & LAX & JFK & 1600 & 0002 & 1558 & 2351 & ⋯ &  0 & 18.04878 & NA & NA & NA & NA & -2 &  0 & NA & NA\\\\\n\t  1 & 7 & 1990-01-14 & AA & LAX & JFK & 1200 & 2013 & 1157 & 1957 & ⋯ &  0 & 18.04878 & NA & NA & NA & NA & -3 &  0 & NA & NA\\\\\n\t  1 & 1 & 2007-01-01 & UA & LAX & JFK & 1600 & 0005 & 1559 & 0007 & ⋯ &  2 & 18.04878 & NA & NA & NA & NA & -1 &  0 & NA & NA\\\\\n\t  5 & 6 & 1988-05-14 & AA & LAX & JFK & 0830 & 1710 & 0829 & 1646 & ⋯ &  0 & 18.04878 & NA & NA & NA & NA & -1 &  0 & NA & NA\\\\\n\t  1 & 7 & 1994-01-02 & UA & LAX & JFK & 0730 & 1548 & 0732 & 1549 & ⋯ &  1 & 18.04878 & NA & NA & NA & NA &  2 &  2 & NA & NA\\\\\n\t  4 & 1 & 2000-04-17 & UA & LAX & JFK & 0900 & 1721 & 0859 & 1705 & ⋯ &  0 & 18.04878 & NA & NA & NA & NA & -1 &  0 & NA & NA\\\\\n\t  6 & 7 & 2003-06-08 & DL & LAX & JFK & 1230 & 2052 & 1228 & 2052 & ⋯ &  0 & 18.04878 & NA & NA & NA & NA & -2 &  0 & NA & NA\\\\\n\t 10 & 6 & 1996-10-19 & AA & LAX & JFK & 0700 & 1509 & 0700 & 1610 & ⋯ & 61 & 18.04878 & NA & NA & NA & NA &  0 &  0 & NA & NA\\\\\n\t 10 & 3 & 2015-10-21 & DL & LAX & JFK & 2255 & 0720 & 2254 & 0723 & ⋯ &  3 & 18.04878 & NA & NA & NA & NA & -1 &  0 & NA & NA\\\\\n\t  7 & 5 & 2012-07-06 & UA & LAX & JFK & 0605 & 1422 & 0600 & 1427 & ⋯ &  5 & 18.04878 & NA & NA & NA & NA & -5 &  0 & NA & NA\\\\\n\t  1 & 3 & 2010-01-06 & DL & LAX & JFK & 2125 & 0543 & 2118 & 0540 & ⋯ &  0 & 18.04878 & NA & NA & NA & NA & -7 &  0 & NA & NA\\\\\n\t  5 & 5 & 2009-05-15 & AA & LAX & JFK & 2115 & 0535 & 2119 & 0533 & ⋯ &  0 & 18.04878 & NA & NA & NA & NA &  4 &  4 & NA & NA\\\\\n\t  7 & 4 & 2000-07-06 & AA & LAX & JFK & 2200 & 0622 & 2158 & 0610 & ⋯ &  0 & 18.04878 & NA & NA & NA & NA & -2 &  0 & NA & NA\\\\\n\\end{tabular}\n",
            "text/plain": [
              "     Month DayOfWeek FlightDate Reporting_Airline Origin Dest CRSDepTime\n",
              "1     3    5         2003-03-28 UA                LAX    JFK  2210      \n",
              "2    11    4         2018-11-29 AS                LAX    JFK  1045      \n",
              "3     8    5         2015-08-28 UA                LAX    JFK  0805      \n",
              "4     4    7         2003-04-20 DL                LAX    JFK  2205      \n",
              "5    11    3         2005-11-30 UA                LAX    JFK  0840      \n",
              "6     4    1         1992-04-06 UA                LAX    JFK  1450      \n",
              "7    12    1         2012-12-03 VX                LAX    JFK  1040      \n",
              "8    12    3         2004-12-01 HP                LAX    JFK  2200      \n",
              "9     2    4         1997-02-13 UA                LAX    JFK  0800      \n",
              "10    3    4         2016-03-10 DL                LAX    JFK  2245      \n",
              "11   10    4         1999-10-14 AA                LAX    JFK  2300      \n",
              "12    8    5         2018-08-03 B6                LAX    JFK  0013      \n",
              "13    6    4         2006-06-01 AA                LAX    JFK  1515      \n",
              "14    2    3         1999-02-03 AA                LAX    JFK  0700      \n",
              "15    8    7         1995-08-27 AA                LAX    JFK  0900      \n",
              "16    3    6         1990-03-31 PA (1)            LAX    JFK  0830      \n",
              "17    6    4         1996-06-13 AA                LAX    JFK  0700      \n",
              "18    7    4         2003-07-24 AA                LAX    JFK  2315      \n",
              "19   12    5         2018-12-07 AS                LAX    JFK  1530      \n",
              "20    1    4         1996-01-25 DL                LAX    JFK  2300      \n",
              "21    7    2         1992-07-21 AA                LAX    JFK  2300      \n",
              "22    8    3         1990-08-29 TW                LAX    JFK  1600      \n",
              "23    4    1         2016-04-11 DL                LAX    JFK  1255      \n",
              "24    1    7         2007-01-28 UA                LAX    JFK  0845      \n",
              "25    1    2         2000-01-18 UA                LAX    JFK  0800      \n",
              "26    6    5         2013-06-28 AA                LAX    JFK  1200      \n",
              "27    9    4         2015-09-03 AA                LAX    JFK  1515      \n",
              "28    5    4         1997-05-15 UA                LAX    JFK  1300      \n",
              "29    8    2         2010-08-24 DL                LAX    JFK  0800      \n",
              "30   11    4         1999-11-25 TW                LAX    JFK  1230      \n",
              "⋮    ⋮     ⋮         ⋮          ⋮                 ⋮      ⋮    ⋮         \n",
              "2826  9    1         1997-09-22 DL                LAX    JFK  0940      \n",
              "2827  8    2         2001-08-28 UA                LAX    JFK  1625      \n",
              "2828  4    1         2016-04-04 DL                LAX    JFK  0610      \n",
              "2829  5    5         1995-05-26 UA                LAX    JFK  0825      \n",
              "2830  3    4         2010-03-18 DL                LAX    JFK  1240      \n",
              "2831  2    6         1995-02-11 AA                LAX    JFK  0800      \n",
              "2832  3    6         2004-03-27 DL                LAX    JFK  2200      \n",
              "2833  3    7         2020-03-01 AA                LAX    JFK  1700      \n",
              "2834  2    3         2016-02-17 AA                LAX    JFK  1330      \n",
              "2835 12    2         1998-12-01 UA                LAX    JFK  1430      \n",
              "2836  6    5         2018-06-01 DL                LAX    JFK  0615      \n",
              "2837  2    1         2015-02-16 AA                LAX    JFK  2330      \n",
              "2838  9    3         2018-09-05 B6                LAX    JFK  1342      \n",
              "2839  1    1         1996-01-29 UA                LAX    JFK  1115      \n",
              "2840  1    3         2016-01-06 VX                LAX    JFK  1345      \n",
              "2841 10    4         2002-10-03 AA                LAX    JFK  2200      \n",
              "2842  3    2         2016-03-15 VX                LAX    JFK  0735      \n",
              "2843 11    7         1998-11-29 UA                LAX    JFK  1600      \n",
              "2844  1    7         1990-01-14 AA                LAX    JFK  1200      \n",
              "2845  1    1         2007-01-01 UA                LAX    JFK  1600      \n",
              "2846  5    6         1988-05-14 AA                LAX    JFK  0830      \n",
              "2847  1    7         1994-01-02 UA                LAX    JFK  0730      \n",
              "2848  4    1         2000-04-17 UA                LAX    JFK  0900      \n",
              "2849  6    7         2003-06-08 DL                LAX    JFK  1230      \n",
              "2850 10    6         1996-10-19 AA                LAX    JFK  0700      \n",
              "2851 10    3         2015-10-21 DL                LAX    JFK  2255      \n",
              "2852  7    5         2012-07-06 UA                LAX    JFK  0605      \n",
              "2853  1    3         2010-01-06 DL                LAX    JFK  2125      \n",
              "2854  5    5         2009-05-15 AA                LAX    JFK  2115      \n",
              "2855  7    4         2000-07-06 AA                LAX    JFK  2200      \n",
              "     CRSArrTime DepTime ArrTime ⋯ ArrDelayMinutes CarrierDelay WeatherDelay\n",
              "1    0615       2209    0617    ⋯   2             18.04878     NA          \n",
              "2    1912       1049    1851    ⋯   0             18.04878     NA          \n",
              "3    1634       0757    1620    ⋯   0             18.04878     NA          \n",
              "4    0619       2212    0616    ⋯   0             18.04878     NA          \n",
              "5    1653       0836    1640    ⋯   0             18.04878     NA          \n",
              "6    2308       1452    2248    ⋯   0             18.04878     NA          \n",
              "7    1900       1038    1901    ⋯   1             18.04878     NA          \n",
              "8    0613       2158    0533    ⋯   0             18.04878     NA          \n",
              "9    1615       0802    1640    ⋯  25             18.04878     NA          \n",
              "10   0712       2300    0719    ⋯   7             18.04878     NA          \n",
              "11   0717       2302    0722    ⋯   5             18.04878     NA          \n",
              "12   0839       0034    0913    ⋯  34             11.00000      0          \n",
              "13   2332       1507    2353    ⋯  21              0.00000      0          \n",
              "14   1508       0658    1448    ⋯   0             18.04878     NA          \n",
              "15   1715       0859    1729    ⋯  14             18.04878     NA          \n",
              "16   1640       1505    0402    ⋯ 682             18.04878     NA          \n",
              "17   1507       0659    1511    ⋯   4             18.04878     NA          \n",
              "18   0736       2311    0735    ⋯   0             18.04878     NA          \n",
              "19   2357       1511    2305    ⋯   0             18.04878     NA          \n",
              "20   0703       2300    0641    ⋯   0             18.04878     NA          \n",
              "21   0708       2259    0658    ⋯   0             18.04878     NA          \n",
              "22   0003       1603    0015    ⋯  12             18.04878     NA          \n",
              "23   2130       1248    2111    ⋯   0             18.04878     NA          \n",
              "24   1656       0838    1713    ⋯  17              0.00000      0          \n",
              "25   1609       0812    1606    ⋯   0             18.04878     NA          \n",
              "26   2045       1328    2220    ⋯  95              5.00000      0          \n",
              "27   2359       1511    2337    ⋯   0             18.04878     NA          \n",
              "28   2124       1300    2129    ⋯   5             18.04878     NA          \n",
              "29   1630       0800    1634    ⋯   4             18.04878     NA          \n",
              "30   2038       1229    2050    ⋯  12             18.04878     NA          \n",
              "⋮    ⋮          ⋮       ⋮       ⋱ ⋮               ⋮            ⋮           \n",
              "2826 1755       0951    1759    ⋯  4              18.04878     NA          \n",
              "2827 0040       1621    0026    ⋯  0              18.04878     NA          \n",
              "2828 1438       0604    1413    ⋯  0              18.04878     NA          \n",
              "2829 1653       0833    1635    ⋯  0              18.04878     NA          \n",
              "2830 2107       1238    2110    ⋯  3              18.04878     NA          \n",
              "2831 1615       0801    1549    ⋯  0              18.04878     NA          \n",
              "2832 0604       2215    0634    ⋯ 30              15.00000      0          \n",
              "2833 0115       1733    0203    ⋯ 48              33.00000      0          \n",
              "2834 2153       1326    2131    ⋯  0              18.04878     NA          \n",
              "2835 2232       1431    2223    ⋯  0              18.04878     NA          \n",
              "2836 1443       0612    1442    ⋯  0              18.04878     NA          \n",
              "2837 0751       2328    0744    ⋯  0              18.04878     NA          \n",
              "2838 2204       1337    2148    ⋯  0              18.04878     NA          \n",
              "2839 1926       1138    1920    ⋯  0              18.04878     NA          \n",
              "2840 2205       1346    2201    ⋯  0              18.04878     NA          \n",
              "2841 0617       2157    0605    ⋯  0              18.04878     NA          \n",
              "2842 1555       0732    1538    ⋯  0              18.04878     NA          \n",
              "2843 0002       1558    2351    ⋯  0              18.04878     NA          \n",
              "2844 2013       1157    1957    ⋯  0              18.04878     NA          \n",
              "2845 0005       1559    0007    ⋯  2              18.04878     NA          \n",
              "2846 1710       0829    1646    ⋯  0              18.04878     NA          \n",
              "2847 1548       0732    1549    ⋯  1              18.04878     NA          \n",
              "2848 1721       0859    1705    ⋯  0              18.04878     NA          \n",
              "2849 2052       1228    2052    ⋯  0              18.04878     NA          \n",
              "2850 1509       0700    1610    ⋯ 61              18.04878     NA          \n",
              "2851 0720       2254    0723    ⋯  3              18.04878     NA          \n",
              "2852 1422       0600    1427    ⋯  5              18.04878     NA          \n",
              "2853 0543       2118    0540    ⋯  0              18.04878     NA          \n",
              "2854 0535       2119    0533    ⋯  0              18.04878     NA          \n",
              "2855 0622       2158    0610    ⋯  0              18.04878     NA          \n",
              "     NASDelay SecurityDelay LateAircraftDelay DepDelay DepDelayMinutes\n",
              "1    NA       NA            NA                 -1        0            \n",
              "2    NA       NA            NA                  4        4            \n",
              "3    NA       NA            NA                 -8        0            \n",
              "4    NA       NA            NA                  7        7            \n",
              "5    NA       NA            NA                 -4        0            \n",
              "6    NA       NA            NA                  2        2            \n",
              "7    NA       NA            NA                 -2        0            \n",
              "8    NA       NA            NA                 -2        0            \n",
              "9    NA       NA            NA                  2        2            \n",
              "10   NA       NA            NA                 15       15            \n",
              "11   NA       NA            NA                  2        2            \n",
              "12   23        0             0                 21       21            \n",
              "13   21        0             0                 -8        0            \n",
              "14   NA       NA            NA                 -2        0            \n",
              "15   NA       NA            NA                 -1        0            \n",
              "16   NA       NA            NA                395      395            \n",
              "17   NA       NA            NA                 -1        0            \n",
              "18   NA       NA            NA                 -4        0            \n",
              "19   NA       NA            NA                -19        0            \n",
              "20   NA       NA            NA                  0        0            \n",
              "21   NA       NA            NA                 -1        0            \n",
              "22   NA       NA            NA                  3        3            \n",
              "23   NA       NA            NA                 -7        0            \n",
              "24   17        0             0                 -7        0            \n",
              "25   NA       NA            NA                 12       12            \n",
              "26    7        0            83                 88       88            \n",
              "27   NA       NA            NA                 -4        0            \n",
              "28   NA       NA            NA                  0        0            \n",
              "29   NA       NA            NA                  0        0            \n",
              "30   NA       NA            NA                 -1        0            \n",
              "⋮    ⋮        ⋮             ⋮                 ⋮        ⋮              \n",
              "2826 NA       NA            NA                11       11             \n",
              "2827 NA       NA            NA                -4        0             \n",
              "2828 NA       NA            NA                -6        0             \n",
              "2829 NA       NA            NA                 8        8             \n",
              "2830 NA       NA            NA                -2        0             \n",
              "2831 NA       NA            NA                 1        1             \n",
              "2832 15        0             0                15       15             \n",
              "2833 15        0             0                33       33             \n",
              "2834 NA       NA            NA                -4        0             \n",
              "2835 NA       NA            NA                 1        1             \n",
              "2836 NA       NA            NA                -3        0             \n",
              "2837 NA       NA            NA                -2        0             \n",
              "2838 NA       NA            NA                -5        0             \n",
              "2839 NA       NA            NA                23       23             \n",
              "2840 NA       NA            NA                 1        1             \n",
              "2841 NA       NA            NA                -3        0             \n",
              "2842 NA       NA            NA                -3        0             \n",
              "2843 NA       NA            NA                -2        0             \n",
              "2844 NA       NA            NA                -3        0             \n",
              "2845 NA       NA            NA                -1        0             \n",
              "2846 NA       NA            NA                -1        0             \n",
              "2847 NA       NA            NA                 2        2             \n",
              "2848 NA       NA            NA                -1        0             \n",
              "2849 NA       NA            NA                -2        0             \n",
              "2850 NA       NA            NA                 0        0             \n",
              "2851 NA       NA            NA                -1        0             \n",
              "2852 NA       NA            NA                -5        0             \n",
              "2853 NA       NA            NA                -7        0             \n",
              "2854 NA       NA            NA                 4        4             \n",
              "2855 NA       NA            NA                -2        0             \n",
              "     DivDistance DivArrDelay\n",
              "1    NA          NA         \n",
              "2    NA          NA         \n",
              "3    NA          NA         \n",
              "4    NA          NA         \n",
              "5    NA          NA         \n",
              "6    NA          NA         \n",
              "7    NA          NA         \n",
              "8    NA          NA         \n",
              "9    NA          NA         \n",
              "10   NA          NA         \n",
              "11   NA          NA         \n",
              "12   NA          NA         \n",
              "13   NA          NA         \n",
              "14   NA          NA         \n",
              "15   NA          NA         \n",
              "16   NA          NA         \n",
              "17   NA          NA         \n",
              "18   NA          NA         \n",
              "19   NA          NA         \n",
              "20   NA          NA         \n",
              "21   NA          NA         \n",
              "22   NA          NA         \n",
              "23   NA          NA         \n",
              "24   NA          NA         \n",
              "25   NA          NA         \n",
              "26   NA          NA         \n",
              "27   NA          NA         \n",
              "28   NA          NA         \n",
              "29   NA          NA         \n",
              "30   NA          NA         \n",
              "⋮    ⋮           ⋮          \n",
              "2826 NA          NA         \n",
              "2827 NA          NA         \n",
              "2828 NA          NA         \n",
              "2829 NA          NA         \n",
              "2830 NA          NA         \n",
              "2831 NA          NA         \n",
              "2832 NA          NA         \n",
              "2833 NA          NA         \n",
              "2834 NA          NA         \n",
              "2835 NA          NA         \n",
              "2836 NA          NA         \n",
              "2837 NA          NA         \n",
              "2838 NA          NA         \n",
              "2839 NA          NA         \n",
              "2840 NA          NA         \n",
              "2841 NA          NA         \n",
              "2842 NA          NA         \n",
              "2843 NA          NA         \n",
              "2844 NA          NA         \n",
              "2845 NA          NA         \n",
              "2846 NA          NA         \n",
              "2847 NA          NA         \n",
              "2848 NA          NA         \n",
              "2849 NA          NA         \n",
              "2850 NA          NA         \n",
              "2851 NA          NA         \n",
              "2852 NA          NA         \n",
              "2853 NA          NA         \n",
              "2854 NA          NA         \n",
              "2855 NA          NA         "
            ]
          },
          "metadata": {}
        }
      ],
      "source": [
        "# Write your code below and press Shift+Enter to execute\n",
        "carrier_mean <- mean(drop_na_rows$CarrierDelay)\n",
        "\n",
        "# Replace NA by mean value in \"CarrierDelay\" column\n",
        "sub_airline %>% replace_na(list(CarrierDelay = carrier_mean))"
      ]
    },
    {
      "cell_type": "markdown",
      "metadata": {
        "id": "82c80d52-422a-4369-bd84-7eb753a564d1"
      },
      "source": [
        "<details>\n",
        "    <summary>Click here for the solution.</summary>\n",
        "\n",
        "```r\n",
        "# Calculate the mean vaule for \"CarrierDelay\" column\n",
        "carrier_mean <- mean(drop_na_rows$CarrierDelay)\n",
        "\n",
        "# Replace NA by mean value in \"CarrierDelay\" column\n",
        "sub_airline %>% replace_na(list(CarrierDelay = carrier_mean))\n",
        "```\n",
        "</details>\n"
      ]
    },
    {
      "cell_type": "markdown",
      "metadata": {
        "id": "4d71ec78-7c91-475e-8df5-f7efcb09708b"
      },
      "source": [
        "<b>Good!</b> Now, we obtain the dataset with no missing values.\n"
      ]
    },
    {
      "cell_type": "markdown",
      "metadata": {
        "id": "3e39e908-d593-45a4-be62-f8748159761d"
      },
      "source": [
        "<a id=\"correct_data_format\"></a>\n",
        "### 1.3 Correct Data Format\n",
        "**We are almost there!**\n",
        "\n",
        "<p>The last step in data cleaning is checking and making sure that all data is in the correct format.</p>\n",
        "\n",
        "#### Scoped dplyr Verbs\n",
        "In dplyr, you can add `_all` and `_if` to the end of it's main functions like `mutate`, `filter`, `group_by`, and `summarize`.\n",
        "\n",
        "| dply function  | _all           | _if             |\n",
        "| ------------- |:--------------:| ----------------:|\n",
        "| mutate         | `mutate_all()`  |`mutate_if()`     |\n",
        "| filter         | `filter_all()`  |`filter_if()`     |\n",
        "| group_by       |`group_by_all()` |`group_by_if()`   |\n",
        "| summarize      | `summarize_all()`  | `summarize_if()` |\n",
        "\n",
        "These are called **scoped** dplyr verbs. The `_all` variant applies an operation on *all* variaibles and the `_if` variant applies an operation to a variable if the given function is `TRUE`.\n",
        "\n",
        "\n",
        "Now that we understand these different versions of dplyr functions, let's list the data types for each column by using `summarize_all()` and `gather()`:\n"
      ]
    },
    {
      "cell_type": "code",
      "execution_count": null,
      "metadata": {
        "id": "b2d6d56c-3a26-4d85-b95b-ed435f84cb4b",
        "colab": {
          "base_uri": "https://localhost:8080/",
          "height": 756
        },
        "outputId": "78142187-8d3d-426b-cef5-4e8249e684a2"
      },
      "outputs": [
        {
          "output_type": "display_data",
          "data": {
            "text/html": [
              "<table class=\"dataframe\">\n",
              "<caption>A tibble: 21 × 2</caption>\n",
              "<thead>\n",
              "\t<tr><th scope=col>variable</th><th scope=col>class</th></tr>\n",
              "\t<tr><th scope=col>&lt;chr&gt;</th><th scope=col>&lt;chr&gt;</th></tr>\n",
              "</thead>\n",
              "<tbody>\n",
              "\t<tr><td>Month            </td><td>numeric  </td></tr>\n",
              "\t<tr><td>DayOfWeek        </td><td>numeric  </td></tr>\n",
              "\t<tr><td>FlightDate       </td><td>Date     </td></tr>\n",
              "\t<tr><td>Reporting_Airline</td><td>character</td></tr>\n",
              "\t<tr><td>Origin           </td><td>character</td></tr>\n",
              "\t<tr><td>Dest             </td><td>character</td></tr>\n",
              "\t<tr><td>CRSDepTime       </td><td>character</td></tr>\n",
              "\t<tr><td>CRSArrTime       </td><td>character</td></tr>\n",
              "\t<tr><td>DepTime          </td><td>character</td></tr>\n",
              "\t<tr><td>ArrTime          </td><td>character</td></tr>\n",
              "\t<tr><td>ArrDelay         </td><td>numeric  </td></tr>\n",
              "\t<tr><td>ArrDelayMinutes  </td><td>numeric  </td></tr>\n",
              "\t<tr><td>CarrierDelay     </td><td>numeric  </td></tr>\n",
              "\t<tr><td>WeatherDelay     </td><td>numeric  </td></tr>\n",
              "\t<tr><td>NASDelay         </td><td>numeric  </td></tr>\n",
              "\t<tr><td>SecurityDelay    </td><td>numeric  </td></tr>\n",
              "\t<tr><td>LateAircraftDelay</td><td>numeric  </td></tr>\n",
              "\t<tr><td>DepDelay         </td><td>numeric  </td></tr>\n",
              "\t<tr><td>DepDelayMinutes  </td><td>numeric  </td></tr>\n",
              "\t<tr><td>DivDistance      </td><td>numeric  </td></tr>\n",
              "\t<tr><td>DivArrDelay      </td><td>numeric  </td></tr>\n",
              "</tbody>\n",
              "</table>\n"
            ],
            "text/markdown": "\nA tibble: 21 × 2\n\n| variable &lt;chr&gt; | class &lt;chr&gt; |\n|---|---|\n| Month             | numeric   |\n| DayOfWeek         | numeric   |\n| FlightDate        | Date      |\n| Reporting_Airline | character |\n| Origin            | character |\n| Dest              | character |\n| CRSDepTime        | character |\n| CRSArrTime        | character |\n| DepTime           | character |\n| ArrTime           | character |\n| ArrDelay          | numeric   |\n| ArrDelayMinutes   | numeric   |\n| CarrierDelay      | numeric   |\n| WeatherDelay      | numeric   |\n| NASDelay          | numeric   |\n| SecurityDelay     | numeric   |\n| LateAircraftDelay | numeric   |\n| DepDelay          | numeric   |\n| DepDelayMinutes   | numeric   |\n| DivDistance       | numeric   |\n| DivArrDelay       | numeric   |\n\n",
            "text/latex": "A tibble: 21 × 2\n\\begin{tabular}{ll}\n variable & class\\\\\n <chr> & <chr>\\\\\n\\hline\n\t Month             & numeric  \\\\\n\t DayOfWeek         & numeric  \\\\\n\t FlightDate        & Date     \\\\\n\t Reporting\\_Airline & character\\\\\n\t Origin            & character\\\\\n\t Dest              & character\\\\\n\t CRSDepTime        & character\\\\\n\t CRSArrTime        & character\\\\\n\t DepTime           & character\\\\\n\t ArrTime           & character\\\\\n\t ArrDelay          & numeric  \\\\\n\t ArrDelayMinutes   & numeric  \\\\\n\t CarrierDelay      & numeric  \\\\\n\t WeatherDelay      & numeric  \\\\\n\t NASDelay          & numeric  \\\\\n\t SecurityDelay     & numeric  \\\\\n\t LateAircraftDelay & numeric  \\\\\n\t DepDelay          & numeric  \\\\\n\t DepDelayMinutes   & numeric  \\\\\n\t DivDistance       & numeric  \\\\\n\t DivArrDelay       & numeric  \\\\\n\\end{tabular}\n",
            "text/plain": [
              "   variable          class    \n",
              "1  Month             numeric  \n",
              "2  DayOfWeek         numeric  \n",
              "3  FlightDate        Date     \n",
              "4  Reporting_Airline character\n",
              "5  Origin            character\n",
              "6  Dest              character\n",
              "7  CRSDepTime        character\n",
              "8  CRSArrTime        character\n",
              "9  DepTime           character\n",
              "10 ArrTime           character\n",
              "11 ArrDelay          numeric  \n",
              "12 ArrDelayMinutes   numeric  \n",
              "13 CarrierDelay      numeric  \n",
              "14 WeatherDelay      numeric  \n",
              "15 NASDelay          numeric  \n",
              "16 SecurityDelay     numeric  \n",
              "17 LateAircraftDelay numeric  \n",
              "18 DepDelay          numeric  \n",
              "19 DepDelayMinutes   numeric  \n",
              "20 DivDistance       numeric  \n",
              "21 DivArrDelay       numeric  "
            ]
          },
          "metadata": {}
        }
      ],
      "source": [
        "sub_airline %>%\n",
        "    summarize_all(class) %>%\n",
        "    gather(variable, class)"
      ]
    },
    {
      "cell_type": "markdown",
      "metadata": {
        "id": "d1463f7f-fe4b-4ee3-a3d5-64a70f537674"
      },
      "source": [
        "<p>It is important for later analysis to explore the feature’s data type and convert them to the correct data types; otherwise, the developed models later on may behave strangely, and totally valid data may end up being treated like missing data.</p>\n",
        "\n",
        "Let's re-format the `FlightDate` field into three separate fields (year, month, day) using `separate()`.\n"
      ]
    },
    {
      "cell_type": "code",
      "execution_count": null,
      "metadata": {
        "id": "87a59f5f-4b35-472f-b9c5-532a44f16b23",
        "colab": {
          "base_uri": "https://localhost:8080/",
          "height": 306
        },
        "outputId": "d4740b82-f39f-4767-b98b-5ebbd266edd5"
      },
      "outputs": [
        {
          "output_type": "display_data",
          "data": {
            "text/html": [
              "<table class=\"dataframe\">\n",
              "<caption>A tibble: 6 × 21</caption>\n",
              "<thead>\n",
              "\t<tr><th scope=col>Month</th><th scope=col>DayOfWeek</th><th scope=col>year</th><th scope=col>month</th><th scope=col>day</th><th scope=col>Reporting_Airline</th><th scope=col>Origin</th><th scope=col>Dest</th><th scope=col>CRSDepTime</th><th scope=col>CRSArrTime</th><th scope=col>⋯</th><th scope=col>ArrTime</th><th scope=col>ArrDelay</th><th scope=col>ArrDelayMinutes</th><th scope=col>CarrierDelay</th><th scope=col>WeatherDelay</th><th scope=col>NASDelay</th><th scope=col>SecurityDelay</th><th scope=col>LateAircraftDelay</th><th scope=col>DepDelay</th><th scope=col>DepDelayMinutes</th></tr>\n",
              "\t<tr><th scope=col>&lt;dbl&gt;</th><th scope=col>&lt;dbl&gt;</th><th scope=col>&lt;chr&gt;</th><th scope=col>&lt;chr&gt;</th><th scope=col>&lt;chr&gt;</th><th scope=col>&lt;chr&gt;</th><th scope=col>&lt;chr&gt;</th><th scope=col>&lt;chr&gt;</th><th scope=col>&lt;chr&gt;</th><th scope=col>&lt;chr&gt;</th><th scope=col>⋯</th><th scope=col>&lt;chr&gt;</th><th scope=col>&lt;dbl&gt;</th><th scope=col>&lt;dbl&gt;</th><th scope=col>&lt;dbl&gt;</th><th scope=col>&lt;dbl&gt;</th><th scope=col>&lt;dbl&gt;</th><th scope=col>&lt;dbl&gt;</th><th scope=col>&lt;dbl&gt;</th><th scope=col>&lt;dbl&gt;</th><th scope=col>&lt;dbl&gt;</th></tr>\n",
              "</thead>\n",
              "<tbody>\n",
              "\t<tr><td> 8</td><td>5</td><td>2018</td><td>08</td><td>03</td><td>B6</td><td>LAX</td><td>JFK</td><td>0013</td><td>0839</td><td>⋯</td><td>0913</td><td>34</td><td>34</td><td>11</td><td>0</td><td>23</td><td>0</td><td> 0</td><td>21</td><td>21</td></tr>\n",
              "\t<tr><td> 6</td><td>4</td><td>2006</td><td>06</td><td>01</td><td>AA</td><td>LAX</td><td>JFK</td><td>1515</td><td>2332</td><td>⋯</td><td>2353</td><td>21</td><td>21</td><td> 0</td><td>0</td><td>21</td><td>0</td><td> 0</td><td>-8</td><td> 0</td></tr>\n",
              "\t<tr><td> 1</td><td>7</td><td>2007</td><td>01</td><td>28</td><td>UA</td><td>LAX</td><td>JFK</td><td>0845</td><td>1656</td><td>⋯</td><td>1713</td><td>17</td><td>17</td><td> 0</td><td>0</td><td>17</td><td>0</td><td> 0</td><td>-7</td><td> 0</td></tr>\n",
              "\t<tr><td> 6</td><td>5</td><td>2013</td><td>06</td><td>28</td><td>AA</td><td>LAX</td><td>JFK</td><td>1200</td><td>2045</td><td>⋯</td><td>2220</td><td>95</td><td>95</td><td> 5</td><td>0</td><td> 7</td><td>0</td><td>83</td><td>88</td><td>88</td></tr>\n",
              "\t<tr><td> 9</td><td>1</td><td>2010</td><td>09</td><td>27</td><td>DL</td><td>LAX</td><td>JFK</td><td>1330</td><td>2208</td><td>⋯</td><td>2316</td><td>68</td><td>68</td><td> 0</td><td>0</td><td>68</td><td>0</td><td> 0</td><td>56</td><td>56</td></tr>\n",
              "\t<tr><td>10</td><td>3</td><td>2005</td><td>10</td><td>12</td><td>AA</td><td>LAX</td><td>JFK</td><td>0930</td><td>1755</td><td>⋯</td><td>1823</td><td>28</td><td>28</td><td> 0</td><td>0</td><td>28</td><td>0</td><td> 0</td><td>28</td><td>28</td></tr>\n",
              "</tbody>\n",
              "</table>\n"
            ],
            "text/markdown": "\nA tibble: 6 × 21\n\n| Month &lt;dbl&gt; | DayOfWeek &lt;dbl&gt; | year &lt;chr&gt; | month &lt;chr&gt; | day &lt;chr&gt; | Reporting_Airline &lt;chr&gt; | Origin &lt;chr&gt; | Dest &lt;chr&gt; | CRSDepTime &lt;chr&gt; | CRSArrTime &lt;chr&gt; | ⋯ ⋯ | ArrTime &lt;chr&gt; | ArrDelay &lt;dbl&gt; | ArrDelayMinutes &lt;dbl&gt; | CarrierDelay &lt;dbl&gt; | WeatherDelay &lt;dbl&gt; | NASDelay &lt;dbl&gt; | SecurityDelay &lt;dbl&gt; | LateAircraftDelay &lt;dbl&gt; | DepDelay &lt;dbl&gt; | DepDelayMinutes &lt;dbl&gt; |\n|---|---|---|---|---|---|---|---|---|---|---|---|---|---|---|---|---|---|---|---|---|\n|  8 | 5 | 2018 | 08 | 03 | B6 | LAX | JFK | 0013 | 0839 | ⋯ | 0913 | 34 | 34 | 11 | 0 | 23 | 0 |  0 | 21 | 21 |\n|  6 | 4 | 2006 | 06 | 01 | AA | LAX | JFK | 1515 | 2332 | ⋯ | 2353 | 21 | 21 |  0 | 0 | 21 | 0 |  0 | -8 |  0 |\n|  1 | 7 | 2007 | 01 | 28 | UA | LAX | JFK | 0845 | 1656 | ⋯ | 1713 | 17 | 17 |  0 | 0 | 17 | 0 |  0 | -7 |  0 |\n|  6 | 5 | 2013 | 06 | 28 | AA | LAX | JFK | 1200 | 2045 | ⋯ | 2220 | 95 | 95 |  5 | 0 |  7 | 0 | 83 | 88 | 88 |\n|  9 | 1 | 2010 | 09 | 27 | DL | LAX | JFK | 1330 | 2208 | ⋯ | 2316 | 68 | 68 |  0 | 0 | 68 | 0 |  0 | 56 | 56 |\n| 10 | 3 | 2005 | 10 | 12 | AA | LAX | JFK | 0930 | 1755 | ⋯ | 1823 | 28 | 28 |  0 | 0 | 28 | 0 |  0 | 28 | 28 |\n\n",
            "text/latex": "A tibble: 6 × 21\n\\begin{tabular}{lllllllllllllllllllll}\n Month & DayOfWeek & year & month & day & Reporting\\_Airline & Origin & Dest & CRSDepTime & CRSArrTime & ⋯ & ArrTime & ArrDelay & ArrDelayMinutes & CarrierDelay & WeatherDelay & NASDelay & SecurityDelay & LateAircraftDelay & DepDelay & DepDelayMinutes\\\\\n <dbl> & <dbl> & <chr> & <chr> & <chr> & <chr> & <chr> & <chr> & <chr> & <chr> & ⋯ & <chr> & <dbl> & <dbl> & <dbl> & <dbl> & <dbl> & <dbl> & <dbl> & <dbl> & <dbl>\\\\\n\\hline\n\t  8 & 5 & 2018 & 08 & 03 & B6 & LAX & JFK & 0013 & 0839 & ⋯ & 0913 & 34 & 34 & 11 & 0 & 23 & 0 &  0 & 21 & 21\\\\\n\t  6 & 4 & 2006 & 06 & 01 & AA & LAX & JFK & 1515 & 2332 & ⋯ & 2353 & 21 & 21 &  0 & 0 & 21 & 0 &  0 & -8 &  0\\\\\n\t  1 & 7 & 2007 & 01 & 28 & UA & LAX & JFK & 0845 & 1656 & ⋯ & 1713 & 17 & 17 &  0 & 0 & 17 & 0 &  0 & -7 &  0\\\\\n\t  6 & 5 & 2013 & 06 & 28 & AA & LAX & JFK & 1200 & 2045 & ⋯ & 2220 & 95 & 95 &  5 & 0 &  7 & 0 & 83 & 88 & 88\\\\\n\t  9 & 1 & 2010 & 09 & 27 & DL & LAX & JFK & 1330 & 2208 & ⋯ & 2316 & 68 & 68 &  0 & 0 & 68 & 0 &  0 & 56 & 56\\\\\n\t 10 & 3 & 2005 & 10 & 12 & AA & LAX & JFK & 0930 & 1755 & ⋯ & 1823 & 28 & 28 &  0 & 0 & 28 & 0 &  0 & 28 & 28\\\\\n\\end{tabular}\n",
            "text/plain": [
              "  Month DayOfWeek year month day Reporting_Airline Origin Dest CRSDepTime\n",
              "1  8    5         2018 08    03  B6                LAX    JFK  0013      \n",
              "2  6    4         2006 06    01  AA                LAX    JFK  1515      \n",
              "3  1    7         2007 01    28  UA                LAX    JFK  0845      \n",
              "4  6    5         2013 06    28  AA                LAX    JFK  1200      \n",
              "5  9    1         2010 09    27  DL                LAX    JFK  1330      \n",
              "6 10    3         2005 10    12  AA                LAX    JFK  0930      \n",
              "  CRSArrTime ⋯ ArrTime ArrDelay ArrDelayMinutes CarrierDelay WeatherDelay\n",
              "1 0839       ⋯ 0913    34       34              11           0           \n",
              "2 2332       ⋯ 2353    21       21               0           0           \n",
              "3 1656       ⋯ 1713    17       17               0           0           \n",
              "4 2045       ⋯ 2220    95       95               5           0           \n",
              "5 2208       ⋯ 2316    68       68               0           0           \n",
              "6 1755       ⋯ 1823    28       28               0           0           \n",
              "  NASDelay SecurityDelay LateAircraftDelay DepDelay DepDelayMinutes\n",
              "1 23       0              0                21       21             \n",
              "2 21       0              0                -8        0             \n",
              "3 17       0              0                -7        0             \n",
              "4  7       0             83                88       88             \n",
              "5 68       0              0                56       56             \n",
              "6 28       0              0                28       28             "
            ]
          },
          "metadata": {}
        }
      ],
      "source": [
        "date_airline <- replace_na %>%\n",
        "    separate(FlightDate, sep = \"-\", into = c(\"year\", \"month\", \"day\"))\n",
        "\n",
        "head(date_airline)"
      ]
    },
    {
      "cell_type": "markdown",
      "metadata": {
        "id": "513d1e07-9f73-4485-a771-44cef033fdb4"
      },
      "source": [
        "For a number of reasons, including when you import a dataset into R or process a variable, the data type may be incorrectly established. For example, here we notice that the assigned data type to for `year`, `month`, and `day` is “character” although the expected data type should really be numeric. You can change the type using `mutate_all()` and `mutate_if()`.\n",
        "\n",
        "In the below code, it is mutating `year`, `month`, and `day` values to numeric only if it is a character. Note that in `mutate_if()`, the first parameter is the function `is.character` that checks a *condition* while the second parameters is the function `as.numeric` that *modifies* the data *if* the condition is true.\n"
      ]
    },
    {
      "cell_type": "code",
      "execution_count": null,
      "metadata": {
        "id": "38f8fecb-6f78-4c32-9795-97c087198dec",
        "colab": {
          "base_uri": "https://localhost:8080/",
          "height": 1000
        },
        "outputId": "a387c28d-9abb-470b-8aed-2e7e09c56dee"
      },
      "outputs": [
        {
          "output_type": "stream",
          "name": "stderr",
          "text": [
            "Warning message:\n",
            "“\u001b[1m\u001b[22mThere were 3 warnings in `mutate()`.\n",
            "The first warning was:\n",
            "\u001b[1m\u001b[22m\u001b[36mℹ\u001b[39m In argument: `year = (function (x, ...) ...`.\n",
            "Caused by warning in `type.convert.default()`:\n",
            "\u001b[33m!\u001b[39m 'as.is' should be specified by the caller; using TRUE\n",
            "\u001b[1m\u001b[22m\u001b[36mℹ\u001b[39m Run `dplyr::last_dplyr_warnings()` to see the 2 remaining warnings.”\n"
          ]
        },
        {
          "output_type": "display_data",
          "data": {
            "text/html": [
              "<table class=\"dataframe\">\n",
              "<caption>A tibble: 369 × 3</caption>\n",
              "<thead>\n",
              "\t<tr><th scope=col>year</th><th scope=col>month</th><th scope=col>day</th></tr>\n",
              "\t<tr><th scope=col>&lt;int&gt;</th><th scope=col>&lt;int&gt;</th><th scope=col>&lt;int&gt;</th></tr>\n",
              "</thead>\n",
              "<tbody>\n",
              "\t<tr><td>2018</td><td> 8</td><td> 3</td></tr>\n",
              "\t<tr><td>2006</td><td> 6</td><td> 1</td></tr>\n",
              "\t<tr><td>2007</td><td> 1</td><td>28</td></tr>\n",
              "\t<tr><td>2013</td><td> 6</td><td>28</td></tr>\n",
              "\t<tr><td>2010</td><td> 9</td><td>27</td></tr>\n",
              "\t<tr><td>2005</td><td>10</td><td>12</td></tr>\n",
              "\t<tr><td>2011</td><td> 4</td><td>23</td></tr>\n",
              "\t<tr><td>2005</td><td> 5</td><td>21</td></tr>\n",
              "\t<tr><td>2011</td><td> 8</td><td>14</td></tr>\n",
              "\t<tr><td>2017</td><td>11</td><td>20</td></tr>\n",
              "\t<tr><td>2014</td><td> 5</td><td>23</td></tr>\n",
              "\t<tr><td>2011</td><td> 6</td><td>28</td></tr>\n",
              "\t<tr><td>2014</td><td>10</td><td> 1</td></tr>\n",
              "\t<tr><td>2012</td><td> 3</td><td>23</td></tr>\n",
              "\t<tr><td>2008</td><td> 3</td><td>17</td></tr>\n",
              "\t<tr><td>2013</td><td> 7</td><td>10</td></tr>\n",
              "\t<tr><td>2014</td><td> 9</td><td> 6</td></tr>\n",
              "\t<tr><td>2015</td><td> 2</td><td> 3</td></tr>\n",
              "\t<tr><td>2016</td><td> 9</td><td> 4</td></tr>\n",
              "\t<tr><td>2018</td><td> 5</td><td>15</td></tr>\n",
              "\t<tr><td>2004</td><td> 2</td><td> 6</td></tr>\n",
              "\t<tr><td>2005</td><td> 8</td><td>31</td></tr>\n",
              "\t<tr><td>2012</td><td> 9</td><td> 4</td></tr>\n",
              "\t<tr><td>2015</td><td> 9</td><td>10</td></tr>\n",
              "\t<tr><td>2010</td><td> 5</td><td>28</td></tr>\n",
              "\t<tr><td>2013</td><td> 7</td><td> 1</td></tr>\n",
              "\t<tr><td>2004</td><td> 6</td><td>24</td></tr>\n",
              "\t<tr><td>2008</td><td> 6</td><td> 9</td></tr>\n",
              "\t<tr><td>2019</td><td> 3</td><td> 3</td></tr>\n",
              "\t<tr><td>2007</td><td>10</td><td> 9</td></tr>\n",
              "\t<tr><td>⋮</td><td>⋮</td><td>⋮</td></tr>\n",
              "\t<tr><td>2016</td><td> 7</td><td>14</td></tr>\n",
              "\t<tr><td>2014</td><td>12</td><td>24</td></tr>\n",
              "\t<tr><td>2014</td><td> 6</td><td>10</td></tr>\n",
              "\t<tr><td>2019</td><td> 4</td><td>17</td></tr>\n",
              "\t<tr><td>2007</td><td> 6</td><td> 3</td></tr>\n",
              "\t<tr><td>2009</td><td> 6</td><td>27</td></tr>\n",
              "\t<tr><td>2013</td><td> 4</td><td>19</td></tr>\n",
              "\t<tr><td>2007</td><td> 6</td><td>24</td></tr>\n",
              "\t<tr><td>2019</td><td> 8</td><td>29</td></tr>\n",
              "\t<tr><td>2013</td><td> 5</td><td>15</td></tr>\n",
              "\t<tr><td>2007</td><td> 2</td><td> 8</td></tr>\n",
              "\t<tr><td>2013</td><td> 7</td><td> 8</td></tr>\n",
              "\t<tr><td>2018</td><td> 7</td><td>25</td></tr>\n",
              "\t<tr><td>2017</td><td> 5</td><td> 5</td></tr>\n",
              "\t<tr><td>2012</td><td> 2</td><td>16</td></tr>\n",
              "\t<tr><td>2012</td><td> 6</td><td>12</td></tr>\n",
              "\t<tr><td>2011</td><td> 8</td><td>21</td></tr>\n",
              "\t<tr><td>2005</td><td>12</td><td>25</td></tr>\n",
              "\t<tr><td>2006</td><td> 2</td><td>10</td></tr>\n",
              "\t<tr><td>2003</td><td>12</td><td>12</td></tr>\n",
              "\t<tr><td>2003</td><td> 6</td><td>17</td></tr>\n",
              "\t<tr><td>2017</td><td> 1</td><td>29</td></tr>\n",
              "\t<tr><td>2016</td><td> 9</td><td>19</td></tr>\n",
              "\t<tr><td>2019</td><td>12</td><td>27</td></tr>\n",
              "\t<tr><td>2005</td><td>10</td><td>20</td></tr>\n",
              "\t<tr><td>2018</td><td> 8</td><td> 3</td></tr>\n",
              "\t<tr><td>2015</td><td>10</td><td>19</td></tr>\n",
              "\t<tr><td>2008</td><td> 3</td><td> 3</td></tr>\n",
              "\t<tr><td>2004</td><td> 3</td><td>27</td></tr>\n",
              "\t<tr><td>2020</td><td> 3</td><td> 1</td></tr>\n",
              "</tbody>\n",
              "</table>\n"
            ],
            "text/markdown": "\nA tibble: 369 × 3\n\n| year &lt;int&gt; | month &lt;int&gt; | day &lt;int&gt; |\n|---|---|---|\n| 2018 |  8 |  3 |\n| 2006 |  6 |  1 |\n| 2007 |  1 | 28 |\n| 2013 |  6 | 28 |\n| 2010 |  9 | 27 |\n| 2005 | 10 | 12 |\n| 2011 |  4 | 23 |\n| 2005 |  5 | 21 |\n| 2011 |  8 | 14 |\n| 2017 | 11 | 20 |\n| 2014 |  5 | 23 |\n| 2011 |  6 | 28 |\n| 2014 | 10 |  1 |\n| 2012 |  3 | 23 |\n| 2008 |  3 | 17 |\n| 2013 |  7 | 10 |\n| 2014 |  9 |  6 |\n| 2015 |  2 |  3 |\n| 2016 |  9 |  4 |\n| 2018 |  5 | 15 |\n| 2004 |  2 |  6 |\n| 2005 |  8 | 31 |\n| 2012 |  9 |  4 |\n| 2015 |  9 | 10 |\n| 2010 |  5 | 28 |\n| 2013 |  7 |  1 |\n| 2004 |  6 | 24 |\n| 2008 |  6 |  9 |\n| 2019 |  3 |  3 |\n| 2007 | 10 |  9 |\n| ⋮ | ⋮ | ⋮ |\n| 2016 |  7 | 14 |\n| 2014 | 12 | 24 |\n| 2014 |  6 | 10 |\n| 2019 |  4 | 17 |\n| 2007 |  6 |  3 |\n| 2009 |  6 | 27 |\n| 2013 |  4 | 19 |\n| 2007 |  6 | 24 |\n| 2019 |  8 | 29 |\n| 2013 |  5 | 15 |\n| 2007 |  2 |  8 |\n| 2013 |  7 |  8 |\n| 2018 |  7 | 25 |\n| 2017 |  5 |  5 |\n| 2012 |  2 | 16 |\n| 2012 |  6 | 12 |\n| 2011 |  8 | 21 |\n| 2005 | 12 | 25 |\n| 2006 |  2 | 10 |\n| 2003 | 12 | 12 |\n| 2003 |  6 | 17 |\n| 2017 |  1 | 29 |\n| 2016 |  9 | 19 |\n| 2019 | 12 | 27 |\n| 2005 | 10 | 20 |\n| 2018 |  8 |  3 |\n| 2015 | 10 | 19 |\n| 2008 |  3 |  3 |\n| 2004 |  3 | 27 |\n| 2020 |  3 |  1 |\n\n",
            "text/latex": "A tibble: 369 × 3\n\\begin{tabular}{lll}\n year & month & day\\\\\n <int> & <int> & <int>\\\\\n\\hline\n\t 2018 &  8 &  3\\\\\n\t 2006 &  6 &  1\\\\\n\t 2007 &  1 & 28\\\\\n\t 2013 &  6 & 28\\\\\n\t 2010 &  9 & 27\\\\\n\t 2005 & 10 & 12\\\\\n\t 2011 &  4 & 23\\\\\n\t 2005 &  5 & 21\\\\\n\t 2011 &  8 & 14\\\\\n\t 2017 & 11 & 20\\\\\n\t 2014 &  5 & 23\\\\\n\t 2011 &  6 & 28\\\\\n\t 2014 & 10 &  1\\\\\n\t 2012 &  3 & 23\\\\\n\t 2008 &  3 & 17\\\\\n\t 2013 &  7 & 10\\\\\n\t 2014 &  9 &  6\\\\\n\t 2015 &  2 &  3\\\\\n\t 2016 &  9 &  4\\\\\n\t 2018 &  5 & 15\\\\\n\t 2004 &  2 &  6\\\\\n\t 2005 &  8 & 31\\\\\n\t 2012 &  9 &  4\\\\\n\t 2015 &  9 & 10\\\\\n\t 2010 &  5 & 28\\\\\n\t 2013 &  7 &  1\\\\\n\t 2004 &  6 & 24\\\\\n\t 2008 &  6 &  9\\\\\n\t 2019 &  3 &  3\\\\\n\t 2007 & 10 &  9\\\\\n\t ⋮ & ⋮ & ⋮\\\\\n\t 2016 &  7 & 14\\\\\n\t 2014 & 12 & 24\\\\\n\t 2014 &  6 & 10\\\\\n\t 2019 &  4 & 17\\\\\n\t 2007 &  6 &  3\\\\\n\t 2009 &  6 & 27\\\\\n\t 2013 &  4 & 19\\\\\n\t 2007 &  6 & 24\\\\\n\t 2019 &  8 & 29\\\\\n\t 2013 &  5 & 15\\\\\n\t 2007 &  2 &  8\\\\\n\t 2013 &  7 &  8\\\\\n\t 2018 &  7 & 25\\\\\n\t 2017 &  5 &  5\\\\\n\t 2012 &  2 & 16\\\\\n\t 2012 &  6 & 12\\\\\n\t 2011 &  8 & 21\\\\\n\t 2005 & 12 & 25\\\\\n\t 2006 &  2 & 10\\\\\n\t 2003 & 12 & 12\\\\\n\t 2003 &  6 & 17\\\\\n\t 2017 &  1 & 29\\\\\n\t 2016 &  9 & 19\\\\\n\t 2019 & 12 & 27\\\\\n\t 2005 & 10 & 20\\\\\n\t 2018 &  8 &  3\\\\\n\t 2015 & 10 & 19\\\\\n\t 2008 &  3 &  3\\\\\n\t 2004 &  3 & 27\\\\\n\t 2020 &  3 &  1\\\\\n\\end{tabular}\n",
            "text/plain": [
              "    year month day\n",
              "1   2018  8     3 \n",
              "2   2006  6     1 \n",
              "3   2007  1    28 \n",
              "4   2013  6    28 \n",
              "5   2010  9    27 \n",
              "6   2005 10    12 \n",
              "7   2011  4    23 \n",
              "8   2005  5    21 \n",
              "9   2011  8    14 \n",
              "10  2017 11    20 \n",
              "11  2014  5    23 \n",
              "12  2011  6    28 \n",
              "13  2014 10     1 \n",
              "14  2012  3    23 \n",
              "15  2008  3    17 \n",
              "16  2013  7    10 \n",
              "17  2014  9     6 \n",
              "18  2015  2     3 \n",
              "19  2016  9     4 \n",
              "20  2018  5    15 \n",
              "21  2004  2     6 \n",
              "22  2005  8    31 \n",
              "23  2012  9     4 \n",
              "24  2015  9    10 \n",
              "25  2010  5    28 \n",
              "26  2013  7     1 \n",
              "27  2004  6    24 \n",
              "28  2008  6     9 \n",
              "29  2019  3     3 \n",
              "30  2007 10     9 \n",
              "⋮   ⋮    ⋮     ⋮  \n",
              "340 2016  7    14 \n",
              "341 2014 12    24 \n",
              "342 2014  6    10 \n",
              "343 2019  4    17 \n",
              "344 2007  6     3 \n",
              "345 2009  6    27 \n",
              "346 2013  4    19 \n",
              "347 2007  6    24 \n",
              "348 2019  8    29 \n",
              "349 2013  5    15 \n",
              "350 2007  2     8 \n",
              "351 2013  7     8 \n",
              "352 2018  7    25 \n",
              "353 2017  5     5 \n",
              "354 2012  2    16 \n",
              "355 2012  6    12 \n",
              "356 2011  8    21 \n",
              "357 2005 12    25 \n",
              "358 2006  2    10 \n",
              "359 2003 12    12 \n",
              "360 2003  6    17 \n",
              "361 2017  1    29 \n",
              "362 2016  9    19 \n",
              "363 2019 12    27 \n",
              "364 2005 10    20 \n",
              "365 2018  8     3 \n",
              "366 2015 10    19 \n",
              "367 2008  3     3 \n",
              "368 2004  3    27 \n",
              "369 2020  3     1 "
            ]
          },
          "metadata": {}
        }
      ],
      "source": [
        "date_airline %>%\n",
        "    select(year, month, day) %>%\n",
        "    mutate_all(type.convert) %>%\n",
        "    mutate_if(is.character, as.numeric)"
      ]
    },
    {
      "cell_type": "markdown",
      "metadata": {
        "id": "9e22162c-20ff-4145-ac1f-db9b5634aaf4"
      },
      "source": [
        "<b>Wonderful!</b>\n",
        "\n",
        "Now, we finally obtain the cleaned dataset with no missing values and all data in its proper format.\n"
      ]
    },
    {
      "cell_type": "markdown",
      "metadata": {
        "id": "49e5a368-cd07-45b1-9696-4b22cb2d4ee6"
      },
      "source": [
        "<a id=\"data_normalization\"></a>\n",
        "\n",
        "## 2. Data Normalization\n",
        "\n",
        "**Why normalization?**\n",
        "\n",
        "Normalization is the process of transforming values of several features (variables) into a similar range. An example of why this could be important is if you have a variable for income and another variable for age. Income is likely much bigger values than age, so in a model, income would naturally influence the model more. Thus, normalization helps make comparisons between different variables more *fair*.\n",
        "\n",
        "There are different types of ways to normalize:\n",
        "* **Simple scaling**: divides each value by the maximum value in a feature. The new range is between 0 and 1.\n",
        "$$x_{new} = \\frac{x_{old}}{x_{max}}$$\n",
        "* **Min-max**: subtracts the minimum value from the original and divides by the maximum minus the minimum. The minimum becomes 0 and the maximum becomes 1.\n",
        "$$x_{new} = \\frac{x_{old} - x_{min}}{x_{max} - x_{min}}$$\n",
        "* **Standardization (Z-score)**: subtract the mean ($\\mu$) of the feature and divide by the standard deviation ($\\sigma$).\n",
        "$$x_{new} = \\frac{x_{old} - \\mu}{\\sigma}$$\n",
        "\n",
        "From these methods, you can see that typically normalizations include scaling the variable so that the range is from 0 to 1.\n"
      ]
    },
    {
      "cell_type": "markdown",
      "metadata": {
        "id": "e2d10b5b-ed27-48c2-abf0-cb313267379d"
      },
      "source": [
        "<a id=\"simple_scale\"></a>\n",
        "### 2.1 Simple scaling\n",
        "\n",
        "**Simple scaling** divides each value by the maximum value in a feature. The new range is between 0 and 1.\n",
        "$$x_{new} = \\frac{x_{old}}{x_{max}}$$\n",
        "\n",
        "**Example**\n",
        "\n",
        "To demonstrate simpling scaling, let's say we want to scale the column \"ArrDelay\".\n",
        "    \n",
        "* **Target:** Would like to Normalize those variables so their value ranges from 0 to 1.\n",
        "* **Approach:** Replace the original value by (original value)/(maximum value)\n"
      ]
    },
    {
      "cell_type": "code",
      "execution_count": null,
      "metadata": {
        "id": "eb341c5a-721b-40f5-9944-fe4f018cc530",
        "colab": {
          "base_uri": "https://localhost:8080/",
          "height": 34
        },
        "outputId": "94858fcc-c645-4070-fb5b-2be97bf2dc1b"
      },
      "outputs": [
        {
          "output_type": "display_data",
          "data": {
            "text/html": [
              "<style>\n",
              ".list-inline {list-style: none; margin:0; padding: 0}\n",
              ".list-inline>li {display: inline-block}\n",
              ".list-inline>li:not(:last-child)::after {content: \"\\00b7\"; padding: 0 .5ex}\n",
              "</style>\n",
              "<ol class=list-inline><li>0.00293255131964809</li><li>-0.030791788856305</li><li>-0.0205278592375367</li><li>-0.00439882697947214</li><li>-0.0190615835777126</li><li>-0.0293255131964809</li></ol>\n"
            ],
            "text/markdown": "1. 0.00293255131964809\n2. -0.030791788856305\n3. -0.0205278592375367\n4. -0.00439882697947214\n5. -0.0190615835777126\n6. -0.0293255131964809\n\n\n",
            "text/latex": "\\begin{enumerate*}\n\\item 0.00293255131964809\n\\item -0.030791788856305\n\\item -0.0205278592375367\n\\item -0.00439882697947214\n\\item -0.0190615835777126\n\\item -0.0293255131964809\n\\end{enumerate*}\n",
            "text/plain": [
              "[1]  0.002932551 -0.030791789 -0.020527859 -0.004398827 -0.019061584\n",
              "[6] -0.029325513"
            ]
          },
          "metadata": {}
        }
      ],
      "source": [
        "simple_scale <- sub_airline$ArrDelay / max(sub_airline$ArrDelay)\n",
        "head(simple_scale)"
      ]
    },
    {
      "cell_type": "markdown",
      "metadata": {
        "id": "c30e7b4e-326d-413a-bad3-cca0e6ad07ca"
      },
      "source": [
        "<div class=\"alert alert-danger alertdanger\" style=\"margin-top: 20px\">\n",
        "<h1> Question #2: </h1>\n",
        "\n",
        "<b>According to the example above, normalize the column \"DepDelay\" using the simple scaling technique.</b>\n",
        "</div>\n"
      ]
    },
    {
      "cell_type": "code",
      "execution_count": null,
      "metadata": {
        "id": "f9e05b97-3fe0-4b52-8547-714e18ca2e9c",
        "colab": {
          "base_uri": "https://localhost:8080/",
          "height": 34
        },
        "outputId": "a5e6c4ba-ba9c-4aab-e139-f809732edd09"
      },
      "outputs": [
        {
          "output_type": "display_data",
          "data": {
            "text/html": [
              "<style>\n",
              ".list-inline {list-style: none; margin:0; padding: 0}\n",
              ".list-inline>li {display: inline-block}\n",
              ".list-inline>li:not(:last-child)::after {content: \"\\00b7\"; padding: 0 .5ex}\n",
              "</style>\n",
              "<ol class=list-inline><li>-0.00137362637362637</li><li>0.00549450549450549</li><li>-0.010989010989011</li><li>0.00961538461538462</li><li>-0.00549450549450549</li><li>0.00274725274725275</li></ol>\n"
            ],
            "text/markdown": "1. -0.00137362637362637\n2. 0.00549450549450549\n3. -0.010989010989011\n4. 0.00961538461538462\n5. -0.00549450549450549\n6. 0.00274725274725275\n\n\n",
            "text/latex": "\\begin{enumerate*}\n\\item -0.00137362637362637\n\\item 0.00549450549450549\n\\item -0.010989010989011\n\\item 0.00961538461538462\n\\item -0.00549450549450549\n\\item 0.00274725274725275\n\\end{enumerate*}\n",
            "text/plain": [
              "[1] -0.001373626  0.005494505 -0.010989011  0.009615385 -0.005494505\n",
              "[6]  0.002747253"
            ]
          },
          "metadata": {}
        }
      ],
      "source": [
        "# Write your code below and press Shift+Enter to execute\n",
        "simple_scale2 <- sub_airline$DepDelay/max(sub_airline$DepDelay)\n",
        "head(simple_scale2)"
      ]
    },
    {
      "cell_type": "markdown",
      "metadata": {
        "id": "9c91af2b-c684-41c6-9848-4fd58645f9aa"
      },
      "source": [
        "<details>\n",
        "    <summary>Click here for the solution.</summary>\n",
        "\n",
        "```r\n",
        "simple_scale2 <- sub_airline$DepDelay/max(sub_airline$DepDelay)\n",
        "head(simple_scale2)\n",
        "```\n",
        "                 \n",
        "</details>\n"
      ]
    },
    {
      "cell_type": "markdown",
      "metadata": {
        "id": "fcb32c86-a1dd-4876-b434-dcf5dcda60c3"
      },
      "source": [
        "<a id=\"min_max\"></a>\n",
        "### 2.2 Min-max\n",
        "\n",
        "**Min-max** subtracts the minimum value from the original and divides by the maximum minus the minimum. The minimum becomes 0 and the maximum becomes 1.\n",
        "$$x_{new} = \\frac{x_{old} - x_{min}}{x_{max} - x_{min}}$$\n",
        "\n",
        "**Example**\n",
        "\n",
        "Using \"ArrDelay\" as an example again, you can transform this column using the min-max technique:\n"
      ]
    },
    {
      "cell_type": "code",
      "execution_count": null,
      "metadata": {
        "id": "1b17dfe9-d2d9-48ca-a6b8-e8cc236ad351",
        "colab": {
          "base_uri": "https://localhost:8080/",
          "height": 34
        },
        "outputId": "2959e668-4560-4f36-8598-ea613a7668b4"
      },
      "outputs": [
        {
          "output_type": "display_data",
          "data": {
            "text/html": [
              "<style>\n",
              ".list-inline {list-style: none; margin:0; padding: 0}\n",
              ".list-inline>li {display: inline-block}\n",
              ".list-inline>li:not(:last-child)::after {content: \"\\00b7\"; padding: 0 .5ex}\n",
              "</style>\n",
              "<ol class=list-inline><li>0.0993377483443709</li><li>0.0688741721854305</li><li>0.0781456953642384</li><li>0.0927152317880795</li><li>0.0794701986754967</li><li>0.0701986754966887</li></ol>\n"
            ],
            "text/markdown": "1. 0.0993377483443709\n2. 0.0688741721854305\n3. 0.0781456953642384\n4. 0.0927152317880795\n5. 0.0794701986754967\n6. 0.0701986754966887\n\n\n",
            "text/latex": "\\begin{enumerate*}\n\\item 0.0993377483443709\n\\item 0.0688741721854305\n\\item 0.0781456953642384\n\\item 0.0927152317880795\n\\item 0.0794701986754967\n\\item 0.0701986754966887\n\\end{enumerate*}\n",
            "text/plain": [
              "[1] 0.09933775 0.06887417 0.07814570 0.09271523 0.07947020 0.07019868"
            ]
          },
          "metadata": {}
        }
      ],
      "source": [
        "minmax_scale <- (sub_airline$ArrDelay - min(sub_airline$ArrDelay)) /\n",
        "                (max(sub_airline$ArrDelay) - min(sub_airline$ArrDelay))\n",
        "head(minmax_scale)"
      ]
    },
    {
      "cell_type": "markdown",
      "metadata": {
        "id": "6ca71ece-6759-4315-a097-7e5be1f02fd5"
      },
      "source": [
        "<a id=\"data_standardization\"></a>\n",
        "### 2.3 Data Standardization (Z-score)\n",
        "\n",
        "**Standardization (Z-score)** subtracts the mean ($\\mu$) of the feature and divides by the standard deviation ($\\sigma$).\n",
        "$$x_{new} = \\frac{x_{old} - \\mu}{\\sigma}$$\n",
        "\n",
        "\n",
        "**Example**\n",
        "\n",
        "Let's use \"ArrDelay\" again. We can use `mean()` to find the mean of the feature and we can use `sd()` to find the standard deviation of the feature.\n"
      ]
    },
    {
      "cell_type": "code",
      "execution_count": null,
      "metadata": {
        "id": "c272903e-d9e8-453e-9352-c0b6ba285dc3",
        "colab": {
          "base_uri": "https://localhost:8080/",
          "height": 34
        },
        "outputId": "af094732-84f7-4066-9b42-56c38a30d1b2"
      },
      "outputs": [
        {
          "output_type": "display_data",
          "data": {
            "text/html": [
              "<style>\n",
              ".list-inline {list-style: none; margin:0; padding: 0}\n",
              ".list-inline>li {display: inline-block}\n",
              ".list-inline>li:not(:last-child)::after {content: \"\\00b7\"; padding: 0 .5ex}\n",
              "</style>\n",
              "<ol class=list-inline><li>-0.0481563066016499</li><li>-0.609225127218637</li><li>-0.438465051378685</li><li>-0.170127789344473</li><li>-0.41407075483012</li><li>-0.584830830670073</li></ol>\n"
            ],
            "text/markdown": "1. -0.0481563066016499\n2. -0.609225127218637\n3. -0.438465051378685\n4. -0.170127789344473\n5. -0.41407075483012\n6. -0.584830830670073\n\n\n",
            "text/latex": "\\begin{enumerate*}\n\\item -0.0481563066016499\n\\item -0.609225127218637\n\\item -0.438465051378685\n\\item -0.170127789344473\n\\item -0.41407075483012\n\\item -0.584830830670073\n\\end{enumerate*}\n",
            "text/plain": [
              "[1] -0.04815631 -0.60922513 -0.43846505 -0.17012779 -0.41407075 -0.58483083"
            ]
          },
          "metadata": {}
        }
      ],
      "source": [
        "z_scale <- (sub_airline$ArrDelay - mean(sub_airline$ArrDelay)) / sd(sub_airline$ArrDelay)\n",
        "head(z_scale)"
      ]
    },
    {
      "cell_type": "markdown",
      "metadata": {
        "id": "a764aae2-12a3-4014-ac97-944e686791ec"
      },
      "source": [
        "<div class=\"alert alert-danger alertdanger\" style=\"margin-top: 20px\">\n",
        "<h1> Question  #3: </h1>\n",
        "\n",
        "<b>According to the example above, standardize the \"DepDelay\" column.</b>\n",
        "</div>\n"
      ]
    },
    {
      "cell_type": "code",
      "execution_count": null,
      "metadata": {
        "id": "b8168dda-9b8c-4442-99c2-f0e930d7a83c",
        "colab": {
          "base_uri": "https://localhost:8080/",
          "height": 34
        },
        "outputId": "0a4cf02d-9a1e-49a9-a2fc-44c8b8c8ab66"
      },
      "outputs": [
        {
          "output_type": "display_data",
          "data": {
            "text/html": [
              "<style>\n",
              ".list-inline {list-style: none; margin:0; padding: 0}\n",
              ".list-inline>li {display: inline-block}\n",
              ".list-inline>li:not(:last-child)::after {content: \"\\00b7\"; padding: 0 .5ex}\n",
              "</style>\n",
              "<ol class=list-inline><li>-0.280633523790141</li><li>-0.140311846950173</li><li>-0.477083871366097</li><li>-0.0561188408461913</li><li>-0.364826529894122</li><li>-0.19644051768616</li></ol>\n"
            ],
            "text/markdown": "1. -0.280633523790141\n2. -0.140311846950173\n3. -0.477083871366097\n4. -0.0561188408461913\n5. -0.364826529894122\n6. -0.19644051768616\n\n\n",
            "text/latex": "\\begin{enumerate*}\n\\item -0.280633523790141\n\\item -0.140311846950173\n\\item -0.477083871366097\n\\item -0.0561188408461913\n\\item -0.364826529894122\n\\item -0.19644051768616\n\\end{enumerate*}\n",
            "text/plain": [
              "[1] -0.28063352 -0.14031185 -0.47708387 -0.05611884 -0.36482653 -0.19644052"
            ]
          },
          "metadata": {}
        }
      ],
      "source": [
        "# Write your code below and press Shift+Enter to execute\n",
        "z_scale2 <- (sub_airline$DepDelay - mean(sub_airline$DepDelay)) / sd(sub_airline$DepDelay)\n",
        "head(z_scale2)"
      ]
    },
    {
      "cell_type": "markdown",
      "metadata": {
        "id": "0b6cd4cf-e065-4032-bd77-a409792e2834"
      },
      "source": [
        "<details>\n",
        "    <summary>Click here for the solution.</summary>\n",
        "\n",
        "```r\n",
        "z_scale2 <- (sub_airline$DepDelay - mean(sub_airline$DepDelay)) / sd(sub_airline$DepDelay)\n",
        "head(z_scale2)\n",
        "```\n",
        "                 \n",
        "</details>\n"
      ]
    },
    {
      "cell_type": "markdown",
      "metadata": {
        "id": "bcf2b03e-1503-48dc-b18a-549facd148c5"
      },
      "source": [
        "<a id=\"binning\"></a>\n",
        "## 4. Binning\n",
        "### Why use binning?\n",
        "<p>\n",
        "    Binning is a process of transforming continuous numerical variables into discrete categorical 'bins', for grouped analysis.\n",
        "</p>\n",
        "\n",
        "**Example:**\n",
        "<p>Using binning, we categorize arrival delays into four bins by quartiles. Quartiles refer to the boundaries that divide observations into four defined intervals. They are often determined based on the values of data points and how they are compared with the rest of the dataset. In the actual airline dataset, \"ArrDelay\" is a numerical variable ranging from -73 to 682, it has 2855 unique values. We can categorize them into 4 bins. Can we rearrange them into four ‘bins' to simplify analysis? </p>\n",
        "\n",
        "We will use the tidyverse method `mutate(quantile_rank = ntile())` to segment the \"ArrDelay\" column into 4 bins\n"
      ]
    },
    {
      "cell_type": "markdown",
      "metadata": {
        "id": "b4fa9ce7-1b51-45bd-a55e-199f6ef0e29b"
      },
      "source": [
        "### Example of Binning Data In Tidyverse\n"
      ]
    },
    {
      "cell_type": "markdown",
      "metadata": {
        "id": "11e8d392-54f0-4dc5-9d54-f67906ae79d2"
      },
      "source": [
        "Lets plot the histogram of flight arrival delays, to see what the distribution of \"ArrDelay\" looks like.\n"
      ]
    },
    {
      "cell_type": "code",
      "execution_count": null,
      "metadata": {
        "id": "e8a22805-b386-4dc8-992d-37f1eb4e1518",
        "colab": {
          "base_uri": "https://localhost:8080/",
          "height": 437
        },
        "outputId": "ad3bb9a7-2aac-4cfe-d6b4-d24c545c03af"
      },
      "outputs": [
        {
          "output_type": "display_data",
          "data": {
            "text/plain": [
              "plot without title"
            ],
            "image/png": "[encoded data removed]"
          },
          "metadata": {
            "image/png": {
              "width": 420,
              "height": 420
            }
          }
        }
      ],
      "source": [
        "ggplot(data = sub_airline, mapping = aes(x = ArrDelay)) +\n",
        "  geom_histogram(bins = 100, color = \"white\", fill = \"red\") +\n",
        "  coord_cartesian(xlim = c(-73, 682))"
      ]
    },
    {
      "cell_type": "markdown",
      "metadata": {
        "id": "70b30020-849f-4d3c-a074-9a249abd05cf"
      },
      "source": [
        "First we use the dplyr function `ntile` to break “ArrDelay” into 4 buckets, which have equal amount of observations of flight arrival delays. We then create a list “quantile_rank” that contains 4 bins, which are respectively labeled \"1\", \"2\", \"3\", \"4\". So bin 1 would contain the first 25% of data, bin 2 the next 25% of data and so on.\n"
      ]
    },
    {
      "cell_type": "code",
      "execution_count": null,
      "metadata": {
        "id": "c1d16543-0170-46d9-a5ad-fef91c5ad05a",
        "colab": {
          "base_uri": "https://localhost:8080/",
          "height": 306
        },
        "outputId": "353def0b-6c1b-425f-db5b-db8abdab0002"
      },
      "outputs": [
        {
          "output_type": "display_data",
          "data": {
            "text/html": [
              "<table class=\"dataframe\">\n",
              "<caption>A tibble: 6 × 22</caption>\n",
              "<thead>\n",
              "\t<tr><th scope=col>Month</th><th scope=col>DayOfWeek</th><th scope=col>FlightDate</th><th scope=col>Reporting_Airline</th><th scope=col>Origin</th><th scope=col>Dest</th><th scope=col>CRSDepTime</th><th scope=col>CRSArrTime</th><th scope=col>DepTime</th><th scope=col>ArrTime</th><th scope=col>⋯</th><th scope=col>CarrierDelay</th><th scope=col>WeatherDelay</th><th scope=col>NASDelay</th><th scope=col>SecurityDelay</th><th scope=col>LateAircraftDelay</th><th scope=col>DepDelay</th><th scope=col>DepDelayMinutes</th><th scope=col>DivDistance</th><th scope=col>DivArrDelay</th><th scope=col>quantile_rank</th></tr>\n",
              "\t<tr><th scope=col>&lt;dbl&gt;</th><th scope=col>&lt;dbl&gt;</th><th scope=col>&lt;date&gt;</th><th scope=col>&lt;chr&gt;</th><th scope=col>&lt;chr&gt;</th><th scope=col>&lt;chr&gt;</th><th scope=col>&lt;chr&gt;</th><th scope=col>&lt;chr&gt;</th><th scope=col>&lt;chr&gt;</th><th scope=col>&lt;chr&gt;</th><th scope=col>⋯</th><th scope=col>&lt;dbl&gt;</th><th scope=col>&lt;dbl&gt;</th><th scope=col>&lt;dbl&gt;</th><th scope=col>&lt;dbl&gt;</th><th scope=col>&lt;dbl&gt;</th><th scope=col>&lt;dbl&gt;</th><th scope=col>&lt;dbl&gt;</th><th scope=col>&lt;dbl&gt;</th><th scope=col>&lt;dbl&gt;</th><th scope=col>&lt;int&gt;</th></tr>\n",
              "</thead>\n",
              "<tbody>\n",
              "\t<tr><td> 3</td><td>5</td><td>2003-03-28</td><td>UA</td><td>LAX</td><td>JFK</td><td>2210</td><td>0615</td><td>2209</td><td>0617</td><td>⋯</td><td>NA</td><td>NA</td><td>NA</td><td>NA</td><td>NA</td><td>-1</td><td>0</td><td>NA</td><td>NA</td><td>3</td></tr>\n",
              "\t<tr><td>11</td><td>4</td><td>2018-11-29</td><td>AS</td><td>LAX</td><td>JFK</td><td>1045</td><td>1912</td><td>1049</td><td>1851</td><td>⋯</td><td>NA</td><td>NA</td><td>NA</td><td>NA</td><td>NA</td><td> 4</td><td>4</td><td>NA</td><td>NA</td><td>1</td></tr>\n",
              "\t<tr><td> 8</td><td>5</td><td>2015-08-28</td><td>UA</td><td>LAX</td><td>JFK</td><td>0805</td><td>1634</td><td>0757</td><td>1620</td><td>⋯</td><td>NA</td><td>NA</td><td>NA</td><td>NA</td><td>NA</td><td>-8</td><td>0</td><td>NA</td><td>NA</td><td>2</td></tr>\n",
              "\t<tr><td> 4</td><td>7</td><td>2003-04-20</td><td>DL</td><td>LAX</td><td>JFK</td><td>2205</td><td>0619</td><td>2212</td><td>0616</td><td>⋯</td><td>NA</td><td>NA</td><td>NA</td><td>NA</td><td>NA</td><td> 7</td><td>7</td><td>NA</td><td>NA</td><td>2</td></tr>\n",
              "\t<tr><td>11</td><td>3</td><td>2005-11-30</td><td>UA</td><td>LAX</td><td>JFK</td><td>0840</td><td>1653</td><td>0836</td><td>1640</td><td>⋯</td><td>NA</td><td>NA</td><td>NA</td><td>NA</td><td>NA</td><td>-4</td><td>0</td><td>NA</td><td>NA</td><td>2</td></tr>\n",
              "\t<tr><td> 4</td><td>1</td><td>1992-04-06</td><td>UA</td><td>LAX</td><td>JFK</td><td>1450</td><td>2308</td><td>1452</td><td>2248</td><td>⋯</td><td>NA</td><td>NA</td><td>NA</td><td>NA</td><td>NA</td><td> 2</td><td>2</td><td>NA</td><td>NA</td><td>1</td></tr>\n",
              "</tbody>\n",
              "</table>\n"
            ],
            "text/markdown": "\nA tibble: 6 × 22\n\n| Month &lt;dbl&gt; | DayOfWeek &lt;dbl&gt; | FlightDate &lt;date&gt; | Reporting_Airline &lt;chr&gt; | Origin &lt;chr&gt; | Dest &lt;chr&gt; | CRSDepTime &lt;chr&gt; | CRSArrTime &lt;chr&gt; | DepTime &lt;chr&gt; | ArrTime &lt;chr&gt; | ⋯ ⋯ | CarrierDelay &lt;dbl&gt; | WeatherDelay &lt;dbl&gt; | NASDelay &lt;dbl&gt; | SecurityDelay &lt;dbl&gt; | LateAircraftDelay &lt;dbl&gt; | DepDelay &lt;dbl&gt; | DepDelayMinutes &lt;dbl&gt; | DivDistance &lt;dbl&gt; | DivArrDelay &lt;dbl&gt; | quantile_rank &lt;int&gt; |\n|---|---|---|---|---|---|---|---|---|---|---|---|---|---|---|---|---|---|---|---|---|\n|  3 | 5 | 2003-03-28 | UA | LAX | JFK | 2210 | 0615 | 2209 | 0617 | ⋯ | NA | NA | NA | NA | NA | -1 | 0 | NA | NA | 3 |\n| 11 | 4 | 2018-11-29 | AS | LAX | JFK | 1045 | 1912 | 1049 | 1851 | ⋯ | NA | NA | NA | NA | NA |  4 | 4 | NA | NA | 1 |\n|  8 | 5 | 2015-08-28 | UA | LAX | JFK | 0805 | 1634 | 0757 | 1620 | ⋯ | NA | NA | NA | NA | NA | -8 | 0 | NA | NA | 2 |\n|  4 | 7 | 2003-04-20 | DL | LAX | JFK | 2205 | 0619 | 2212 | 0616 | ⋯ | NA | NA | NA | NA | NA |  7 | 7 | NA | NA | 2 |\n| 11 | 3 | 2005-11-30 | UA | LAX | JFK | 0840 | 1653 | 0836 | 1640 | ⋯ | NA | NA | NA | NA | NA | -4 | 0 | NA | NA | 2 |\n|  4 | 1 | 1992-04-06 | UA | LAX | JFK | 1450 | 2308 | 1452 | 2248 | ⋯ | NA | NA | NA | NA | NA |  2 | 2 | NA | NA | 1 |\n\n",
            "text/latex": "A tibble: 6 × 22\n\\begin{tabular}{lllllllllllllllllllll}\n Month & DayOfWeek & FlightDate & Reporting\\_Airline & Origin & Dest & CRSDepTime & CRSArrTime & DepTime & ArrTime & ⋯ & CarrierDelay & WeatherDelay & NASDelay & SecurityDelay & LateAircraftDelay & DepDelay & DepDelayMinutes & DivDistance & DivArrDelay & quantile\\_rank\\\\\n <dbl> & <dbl> & <date> & <chr> & <chr> & <chr> & <chr> & <chr> & <chr> & <chr> & ⋯ & <dbl> & <dbl> & <dbl> & <dbl> & <dbl> & <dbl> & <dbl> & <dbl> & <dbl> & <int>\\\\\n\\hline\n\t  3 & 5 & 2003-03-28 & UA & LAX & JFK & 2210 & 0615 & 2209 & 0617 & ⋯ & NA & NA & NA & NA & NA & -1 & 0 & NA & NA & 3\\\\\n\t 11 & 4 & 2018-11-29 & AS & LAX & JFK & 1045 & 1912 & 1049 & 1851 & ⋯ & NA & NA & NA & NA & NA &  4 & 4 & NA & NA & 1\\\\\n\t  8 & 5 & 2015-08-28 & UA & LAX & JFK & 0805 & 1634 & 0757 & 1620 & ⋯ & NA & NA & NA & NA & NA & -8 & 0 & NA & NA & 2\\\\\n\t  4 & 7 & 2003-04-20 & DL & LAX & JFK & 2205 & 0619 & 2212 & 0616 & ⋯ & NA & NA & NA & NA & NA &  7 & 7 & NA & NA & 2\\\\\n\t 11 & 3 & 2005-11-30 & UA & LAX & JFK & 0840 & 1653 & 0836 & 1640 & ⋯ & NA & NA & NA & NA & NA & -4 & 0 & NA & NA & 2\\\\\n\t  4 & 1 & 1992-04-06 & UA & LAX & JFK & 1450 & 2308 & 1452 & 2248 & ⋯ & NA & NA & NA & NA & NA &  2 & 2 & NA & NA & 1\\\\\n\\end{tabular}\n",
            "text/plain": [
              "  Month DayOfWeek FlightDate Reporting_Airline Origin Dest CRSDepTime\n",
              "1  3    5         2003-03-28 UA                LAX    JFK  2210      \n",
              "2 11    4         2018-11-29 AS                LAX    JFK  1045      \n",
              "3  8    5         2015-08-28 UA                LAX    JFK  0805      \n",
              "4  4    7         2003-04-20 DL                LAX    JFK  2205      \n",
              "5 11    3         2005-11-30 UA                LAX    JFK  0840      \n",
              "6  4    1         1992-04-06 UA                LAX    JFK  1450      \n",
              "  CRSArrTime DepTime ArrTime ⋯ CarrierDelay WeatherDelay NASDelay SecurityDelay\n",
              "1 0615       2209    0617    ⋯ NA           NA           NA       NA           \n",
              "2 1912       1049    1851    ⋯ NA           NA           NA       NA           \n",
              "3 1634       0757    1620    ⋯ NA           NA           NA       NA           \n",
              "4 0619       2212    0616    ⋯ NA           NA           NA       NA           \n",
              "5 1653       0836    1640    ⋯ NA           NA           NA       NA           \n",
              "6 2308       1452    2248    ⋯ NA           NA           NA       NA           \n",
              "  LateAircraftDelay DepDelay DepDelayMinutes DivDistance DivArrDelay\n",
              "1 NA                -1       0               NA          NA         \n",
              "2 NA                 4       4               NA          NA         \n",
              "3 NA                -8       0               NA          NA         \n",
              "4 NA                 7       7               NA          NA         \n",
              "5 NA                -4       0               NA          NA         \n",
              "6 NA                 2       2               NA          NA         \n",
              "  quantile_rank\n",
              "1 3            \n",
              "2 1            \n",
              "3 2            \n",
              "4 2            \n",
              "5 2            \n",
              "6 1            "
            ]
          },
          "metadata": {}
        }
      ],
      "source": [
        "binning <- sub_airline %>%\n",
        "      mutate(quantile_rank = ntile(sub_airline$ArrDelay,4))\n",
        "\n",
        "head(binning)"
      ]
    },
    {
      "cell_type": "markdown",
      "metadata": {
        "id": "7d3d6102-2544-4f9c-b71f-84d1ca30ba47"
      },
      "source": [
        "The observations are put into different bins based on the flights' delay minutes. The larger the bin label is, the longer the flight was delayed.\n",
        "\n",
        "Now if we look at a histogram of the bins, you can see that all bins are equal.\n"
      ]
    },
    {
      "cell_type": "code",
      "execution_count": null,
      "metadata": {
        "id": "b333dbe0-f229-46ec-b6b0-4ba4b9034296",
        "colab": {
          "base_uri": "https://localhost:8080/",
          "height": 437
        },
        "outputId": "1965fed3-735d-4456-fcfe-0b3d967ca36c"
      },
      "outputs": [
        {
          "output_type": "display_data",
          "data": {
            "text/plain": [
              "plot without title"
            ],
            "image/png": "[encoded data removed]"
          },
          "metadata": {
            "image/png": {
              "width": 420,
              "height": 420
            }
          }
        }
      ],
      "source": [
        "ggplot(data = binning, mapping = aes(x = quantile_rank)) +\n",
        "  geom_histogram(bins = 4, color = \"white\", fill = \"red\")"
      ]
    },
    {
      "cell_type": "markdown",
      "metadata": {
        "id": "ca72a8b7-75dc-48ea-83d4-8948460a3def"
      },
      "source": [
        "<a id=\"indicator\"></a>\n",
        "## 5. Indicator variable\n",
        "#### What is an indicator variable?\n",
        "\n",
        "An indicator variable (or dummy variable) is a **numerical variable** used to **label categories**. They are called 'dummies' because the numbers themselves don't have inherent meaning.\n",
        "\n",
        "\n",
        "**Why we use indicator variables?**\n",
        "<p>\n",
        "Regression models need numerical variables, however categorical variables in their original forms are strings. Using indicator variables allows us to be able to use these categorical variables in regression models.\n",
        "</p>\n",
        "\n",
        "**Example**\n",
        "<p>\n",
        "    In the airline dataset, the \"Reporting_Airline\" feature is a categorical variable that has nine values, \"AA\", \"AS\", \"B6\", \"DL\", \"HP\", \"PA (1)\", \"TW\", \"UA\" or \"VX”, which are in character type. For further analysis, we need to convert these variables into some form of numeric format.\n",
        "</p>\n",
        "\n",
        "\n",
        "We will use the tidyverse's method `spread()` method to convert categorical variables to dummy variables. The parameters to use in the function are:\n",
        "* `key`: the column to convert into categorical values\n",
        "* `value`: the value you want to set the key to\n",
        "* `fill`: fills the missing values with this value\n",
        "\n",
        "Also keep in mind that the method will drop the \"Reporting_Airline\" column by default. So if you used \"ArrDelay\" as the key value instead, that column would get dropped.\n",
        "\n",
        "The below code does the following:\n",
        "1. `mutate` - creates a column `dummy` with all 1's then\n",
        "2. `spread` - creates new column for every `Reporting_Ariline` and sets the value to 1 from `dummy`. But replaces the 1 with a 0 if the corresponding value is `NA` in `Reporting_Airline` then\n",
        "3. `slice` - looks at the specified rows\n"
      ]
    },
    {
      "cell_type": "code",
      "execution_count": null,
      "metadata": {
        "id": "1732f1e2-b4ff-42a0-bb4e-2717fb1f2277",
        "colab": {
          "base_uri": "https://localhost:8080/",
          "height": 255
        },
        "outputId": "316fbb59-acfc-4313-84b8-3de64fc3e0a0"
      },
      "outputs": [
        {
          "output_type": "display_data",
          "data": {
            "text/html": [
              "<table class=\"dataframe\">\n",
              "<caption>A tibble: 5 × 29</caption>\n",
              "<thead>\n",
              "\t<tr><th scope=col>Month</th><th scope=col>DayOfWeek</th><th scope=col>FlightDate</th><th scope=col>Origin</th><th scope=col>Dest</th><th scope=col>CRSDepTime</th><th scope=col>CRSArrTime</th><th scope=col>DepTime</th><th scope=col>ArrTime</th><th scope=col>ArrDelay</th><th scope=col>⋯</th><th scope=col>DivArrDelay</th><th scope=col>AA</th><th scope=col>AS</th><th scope=col>B6</th><th scope=col>DL</th><th scope=col>HP</th><th scope=col>PA (1)</th><th scope=col>TW</th><th scope=col>UA</th><th scope=col>VX</th></tr>\n",
              "\t<tr><th scope=col>&lt;dbl&gt;</th><th scope=col>&lt;dbl&gt;</th><th scope=col>&lt;date&gt;</th><th scope=col>&lt;chr&gt;</th><th scope=col>&lt;chr&gt;</th><th scope=col>&lt;chr&gt;</th><th scope=col>&lt;chr&gt;</th><th scope=col>&lt;chr&gt;</th><th scope=col>&lt;chr&gt;</th><th scope=col>&lt;dbl&gt;</th><th scope=col>⋯</th><th scope=col>&lt;dbl&gt;</th><th scope=col>&lt;dbl&gt;</th><th scope=col>&lt;dbl&gt;</th><th scope=col>&lt;dbl&gt;</th><th scope=col>&lt;dbl&gt;</th><th scope=col>&lt;dbl&gt;</th><th scope=col>&lt;dbl&gt;</th><th scope=col>&lt;dbl&gt;</th><th scope=col>&lt;dbl&gt;</th><th scope=col>&lt;dbl&gt;</th></tr>\n",
              "</thead>\n",
              "<tbody>\n",
              "\t<tr><td> 3</td><td>5</td><td>2003-03-28</td><td>LAX</td><td>JFK</td><td>2210</td><td>0615</td><td>2209</td><td>0617</td><td>  2</td><td>⋯</td><td>NA</td><td>0</td><td>0</td><td>0</td><td>0</td><td>0</td><td>0</td><td>0</td><td>1</td><td>0</td></tr>\n",
              "\t<tr><td>11</td><td>4</td><td>2018-11-29</td><td>LAX</td><td>JFK</td><td>1045</td><td>1912</td><td>1049</td><td>1851</td><td>-21</td><td>⋯</td><td>NA</td><td>0</td><td>1</td><td>0</td><td>0</td><td>0</td><td>0</td><td>0</td><td>0</td><td>0</td></tr>\n",
              "\t<tr><td> 8</td><td>5</td><td>2015-08-28</td><td>LAX</td><td>JFK</td><td>0805</td><td>1634</td><td>0757</td><td>1620</td><td>-14</td><td>⋯</td><td>NA</td><td>0</td><td>0</td><td>0</td><td>0</td><td>0</td><td>0</td><td>0</td><td>1</td><td>0</td></tr>\n",
              "\t<tr><td> 4</td><td>7</td><td>2003-04-20</td><td>LAX</td><td>JFK</td><td>2205</td><td>0619</td><td>2212</td><td>0616</td><td> -3</td><td>⋯</td><td>NA</td><td>0</td><td>0</td><td>0</td><td>1</td><td>0</td><td>0</td><td>0</td><td>0</td><td>0</td></tr>\n",
              "\t<tr><td>11</td><td>3</td><td>2005-11-30</td><td>LAX</td><td>JFK</td><td>0840</td><td>1653</td><td>0836</td><td>1640</td><td>-13</td><td>⋯</td><td>NA</td><td>0</td><td>0</td><td>0</td><td>0</td><td>0</td><td>0</td><td>0</td><td>1</td><td>0</td></tr>\n",
              "</tbody>\n",
              "</table>\n"
            ],
            "text/markdown": "\nA tibble: 5 × 29\n\n| Month &lt;dbl&gt; | DayOfWeek &lt;dbl&gt; | FlightDate &lt;date&gt; | Origin &lt;chr&gt; | Dest &lt;chr&gt; | CRSDepTime &lt;chr&gt; | CRSArrTime &lt;chr&gt; | DepTime &lt;chr&gt; | ArrTime &lt;chr&gt; | ArrDelay &lt;dbl&gt; | ⋯ ⋯ | DivArrDelay &lt;dbl&gt; | AA &lt;dbl&gt; | AS &lt;dbl&gt; | B6 &lt;dbl&gt; | DL &lt;dbl&gt; | HP &lt;dbl&gt; | PA (1) &lt;dbl&gt; | TW &lt;dbl&gt; | UA &lt;dbl&gt; | VX &lt;dbl&gt; |\n|---|---|---|---|---|---|---|---|---|---|---|---|---|---|---|---|---|---|---|---|---|\n|  3 | 5 | 2003-03-28 | LAX | JFK | 2210 | 0615 | 2209 | 0617 |   2 | ⋯ | NA | 0 | 0 | 0 | 0 | 0 | 0 | 0 | 1 | 0 |\n| 11 | 4 | 2018-11-29 | LAX | JFK | 1045 | 1912 | 1049 | 1851 | -21 | ⋯ | NA | 0 | 1 | 0 | 0 | 0 | 0 | 0 | 0 | 0 |\n|  8 | 5 | 2015-08-28 | LAX | JFK | 0805 | 1634 | 0757 | 1620 | -14 | ⋯ | NA | 0 | 0 | 0 | 0 | 0 | 0 | 0 | 1 | 0 |\n|  4 | 7 | 2003-04-20 | LAX | JFK | 2205 | 0619 | 2212 | 0616 |  -3 | ⋯ | NA | 0 | 0 | 0 | 1 | 0 | 0 | 0 | 0 | 0 |\n| 11 | 3 | 2005-11-30 | LAX | JFK | 0840 | 1653 | 0836 | 1640 | -13 | ⋯ | NA | 0 | 0 | 0 | 0 | 0 | 0 | 0 | 1 | 0 |\n\n",
            "text/latex": "A tibble: 5 × 29\n\\begin{tabular}{lllllllllllllllllllll}\n Month & DayOfWeek & FlightDate & Origin & Dest & CRSDepTime & CRSArrTime & DepTime & ArrTime & ArrDelay & ⋯ & DivArrDelay & AA & AS & B6 & DL & HP & PA (1) & TW & UA & VX\\\\\n <dbl> & <dbl> & <date> & <chr> & <chr> & <chr> & <chr> & <chr> & <chr> & <dbl> & ⋯ & <dbl> & <dbl> & <dbl> & <dbl> & <dbl> & <dbl> & <dbl> & <dbl> & <dbl> & <dbl>\\\\\n\\hline\n\t  3 & 5 & 2003-03-28 & LAX & JFK & 2210 & 0615 & 2209 & 0617 &   2 & ⋯ & NA & 0 & 0 & 0 & 0 & 0 & 0 & 0 & 1 & 0\\\\\n\t 11 & 4 & 2018-11-29 & LAX & JFK & 1045 & 1912 & 1049 & 1851 & -21 & ⋯ & NA & 0 & 1 & 0 & 0 & 0 & 0 & 0 & 0 & 0\\\\\n\t  8 & 5 & 2015-08-28 & LAX & JFK & 0805 & 1634 & 0757 & 1620 & -14 & ⋯ & NA & 0 & 0 & 0 & 0 & 0 & 0 & 0 & 1 & 0\\\\\n\t  4 & 7 & 2003-04-20 & LAX & JFK & 2205 & 0619 & 2212 & 0616 &  -3 & ⋯ & NA & 0 & 0 & 0 & 1 & 0 & 0 & 0 & 0 & 0\\\\\n\t 11 & 3 & 2005-11-30 & LAX & JFK & 0840 & 1653 & 0836 & 1640 & -13 & ⋯ & NA & 0 & 0 & 0 & 0 & 0 & 0 & 0 & 1 & 0\\\\\n\\end{tabular}\n",
            "text/plain": [
              "  Month DayOfWeek FlightDate Origin Dest CRSDepTime CRSArrTime DepTime ArrTime\n",
              "1  3    5         2003-03-28 LAX    JFK  2210       0615       2209    0617   \n",
              "2 11    4         2018-11-29 LAX    JFK  1045       1912       1049    1851   \n",
              "3  8    5         2015-08-28 LAX    JFK  0805       1634       0757    1620   \n",
              "4  4    7         2003-04-20 LAX    JFK  2205       0619       2212    0616   \n",
              "5 11    3         2005-11-30 LAX    JFK  0840       1653       0836    1640   \n",
              "  ArrDelay ⋯ DivArrDelay AA AS B6 DL HP PA (1) TW UA VX\n",
              "1   2      ⋯ NA          0  0  0  0  0  0      0  1  0 \n",
              "2 -21      ⋯ NA          0  1  0  0  0  0      0  0  0 \n",
              "3 -14      ⋯ NA          0  0  0  0  0  0      0  1  0 \n",
              "4  -3      ⋯ NA          0  0  0  1  0  0      0  0  0 \n",
              "5 -13      ⋯ NA          0  0  0  0  0  0      0  1  0 "
            ]
          },
          "metadata": {}
        }
      ],
      "source": [
        "sub_airline %>%\n",
        "  mutate(dummy = 1) %>% # column with single value\n",
        "  spread(\n",
        "    key = Reporting_Airline, # column to spread\n",
        "    value = dummy,\n",
        "    fill = 0) %>%\n",
        "  slice(1:5)"
      ]
    },
    {
      "cell_type": "markdown",
      "metadata": {
        "id": "2e5677c4-2070-4bc6-b164-5ea3187686a6"
      },
      "source": [
        "When a value occurs in the original feature, we set the corresponding value to one in the new feature; the rest of the features are set to zero.\n",
        "\n",
        "So in the output above, for the first row, the reporting airline is \"UA\". Therefore, the feature \"UA\" is set to one and the other features to zero.\n",
        "Similarly, for the second row, the reporting airline value is \"AS\". Therefore, the feature \"AS\" is set to one and the other features to zero.\n"
      ]
    },
    {
      "cell_type": "markdown",
      "metadata": {
        "id": "ffe44c34-9553-4b71-8cfc-f519f6c49627"
      },
      "source": [
        "Alternatively, instead of assigning dummy values 0 or 1, we can assign flight delay values to each feature. So this will also create new columns, one for each `Reporting_Airline`. Taking the first row for example, the column \"UA\" is now set to 2 because that is the value from ArrDelay.\n"
      ]
    },
    {
      "cell_type": "code",
      "execution_count": null,
      "metadata": {
        "id": "6b697151-316e-48d7-b818-8d1116617325",
        "colab": {
          "base_uri": "https://localhost:8080/",
          "height": 255
        },
        "outputId": "044f4cb3-3003-4e5d-ee6a-89ef1772e00e"
      },
      "outputs": [
        {
          "output_type": "display_data",
          "data": {
            "text/html": [
              "<table class=\"dataframe\">\n",
              "<caption>A tibble: 5 × 28</caption>\n",
              "<thead>\n",
              "\t<tr><th scope=col>Month</th><th scope=col>DayOfWeek</th><th scope=col>FlightDate</th><th scope=col>Origin</th><th scope=col>Dest</th><th scope=col>CRSDepTime</th><th scope=col>CRSArrTime</th><th scope=col>DepTime</th><th scope=col>ArrTime</th><th scope=col>ArrDelayMinutes</th><th scope=col>⋯</th><th scope=col>DivArrDelay</th><th scope=col>AA</th><th scope=col>AS</th><th scope=col>B6</th><th scope=col>DL</th><th scope=col>HP</th><th scope=col>PA (1)</th><th scope=col>TW</th><th scope=col>UA</th><th scope=col>VX</th></tr>\n",
              "\t<tr><th scope=col>&lt;dbl&gt;</th><th scope=col>&lt;dbl&gt;</th><th scope=col>&lt;date&gt;</th><th scope=col>&lt;chr&gt;</th><th scope=col>&lt;chr&gt;</th><th scope=col>&lt;chr&gt;</th><th scope=col>&lt;chr&gt;</th><th scope=col>&lt;chr&gt;</th><th scope=col>&lt;chr&gt;</th><th scope=col>&lt;dbl&gt;</th><th scope=col>⋯</th><th scope=col>&lt;dbl&gt;</th><th scope=col>&lt;dbl&gt;</th><th scope=col>&lt;dbl&gt;</th><th scope=col>&lt;dbl&gt;</th><th scope=col>&lt;dbl&gt;</th><th scope=col>&lt;dbl&gt;</th><th scope=col>&lt;dbl&gt;</th><th scope=col>&lt;dbl&gt;</th><th scope=col>&lt;dbl&gt;</th><th scope=col>&lt;dbl&gt;</th></tr>\n",
              "</thead>\n",
              "<tbody>\n",
              "\t<tr><td> 3</td><td>5</td><td>2003-03-28</td><td>LAX</td><td>JFK</td><td>2210</td><td>0615</td><td>2209</td><td>0617</td><td>2</td><td>⋯</td><td>NA</td><td>NA</td><td> NA</td><td>NA</td><td>NA</td><td>NA</td><td>NA</td><td>NA</td><td>  2</td><td>NA</td></tr>\n",
              "\t<tr><td>11</td><td>4</td><td>2018-11-29</td><td>LAX</td><td>JFK</td><td>1045</td><td>1912</td><td>1049</td><td>1851</td><td>0</td><td>⋯</td><td>NA</td><td>NA</td><td>-21</td><td>NA</td><td>NA</td><td>NA</td><td>NA</td><td>NA</td><td> NA</td><td>NA</td></tr>\n",
              "\t<tr><td> 8</td><td>5</td><td>2015-08-28</td><td>LAX</td><td>JFK</td><td>0805</td><td>1634</td><td>0757</td><td>1620</td><td>0</td><td>⋯</td><td>NA</td><td>NA</td><td> NA</td><td>NA</td><td>NA</td><td>NA</td><td>NA</td><td>NA</td><td>-14</td><td>NA</td></tr>\n",
              "\t<tr><td> 4</td><td>7</td><td>2003-04-20</td><td>LAX</td><td>JFK</td><td>2205</td><td>0619</td><td>2212</td><td>0616</td><td>0</td><td>⋯</td><td>NA</td><td>NA</td><td> NA</td><td>NA</td><td>-3</td><td>NA</td><td>NA</td><td>NA</td><td> NA</td><td>NA</td></tr>\n",
              "\t<tr><td>11</td><td>3</td><td>2005-11-30</td><td>LAX</td><td>JFK</td><td>0840</td><td>1653</td><td>0836</td><td>1640</td><td>0</td><td>⋯</td><td>NA</td><td>NA</td><td> NA</td><td>NA</td><td>NA</td><td>NA</td><td>NA</td><td>NA</td><td>-13</td><td>NA</td></tr>\n",
              "</tbody>\n",
              "</table>\n"
            ],
            "text/markdown": "\nA tibble: 5 × 28\n\n| Month &lt;dbl&gt; | DayOfWeek &lt;dbl&gt; | FlightDate &lt;date&gt; | Origin &lt;chr&gt; | Dest &lt;chr&gt; | CRSDepTime &lt;chr&gt; | CRSArrTime &lt;chr&gt; | DepTime &lt;chr&gt; | ArrTime &lt;chr&gt; | ArrDelayMinutes &lt;dbl&gt; | ⋯ ⋯ | DivArrDelay &lt;dbl&gt; | AA &lt;dbl&gt; | AS &lt;dbl&gt; | B6 &lt;dbl&gt; | DL &lt;dbl&gt; | HP &lt;dbl&gt; | PA (1) &lt;dbl&gt; | TW &lt;dbl&gt; | UA &lt;dbl&gt; | VX &lt;dbl&gt; |\n|---|---|---|---|---|---|---|---|---|---|---|---|---|---|---|---|---|---|---|---|---|\n|  3 | 5 | 2003-03-28 | LAX | JFK | 2210 | 0615 | 2209 | 0617 | 2 | ⋯ | NA | NA |  NA | NA | NA | NA | NA | NA |   2 | NA |\n| 11 | 4 | 2018-11-29 | LAX | JFK | 1045 | 1912 | 1049 | 1851 | 0 | ⋯ | NA | NA | -21 | NA | NA | NA | NA | NA |  NA | NA |\n|  8 | 5 | 2015-08-28 | LAX | JFK | 0805 | 1634 | 0757 | 1620 | 0 | ⋯ | NA | NA |  NA | NA | NA | NA | NA | NA | -14 | NA |\n|  4 | 7 | 2003-04-20 | LAX | JFK | 2205 | 0619 | 2212 | 0616 | 0 | ⋯ | NA | NA |  NA | NA | -3 | NA | NA | NA |  NA | NA |\n| 11 | 3 | 2005-11-30 | LAX | JFK | 0840 | 1653 | 0836 | 1640 | 0 | ⋯ | NA | NA |  NA | NA | NA | NA | NA | NA | -13 | NA |\n\n",
            "text/latex": "A tibble: 5 × 28\n\\begin{tabular}{lllllllllllllllllllll}\n Month & DayOfWeek & FlightDate & Origin & Dest & CRSDepTime & CRSArrTime & DepTime & ArrTime & ArrDelayMinutes & ⋯ & DivArrDelay & AA & AS & B6 & DL & HP & PA (1) & TW & UA & VX\\\\\n <dbl> & <dbl> & <date> & <chr> & <chr> & <chr> & <chr> & <chr> & <chr> & <dbl> & ⋯ & <dbl> & <dbl> & <dbl> & <dbl> & <dbl> & <dbl> & <dbl> & <dbl> & <dbl> & <dbl>\\\\\n\\hline\n\t  3 & 5 & 2003-03-28 & LAX & JFK & 2210 & 0615 & 2209 & 0617 & 2 & ⋯ & NA & NA &  NA & NA & NA & NA & NA & NA &   2 & NA\\\\\n\t 11 & 4 & 2018-11-29 & LAX & JFK & 1045 & 1912 & 1049 & 1851 & 0 & ⋯ & NA & NA & -21 & NA & NA & NA & NA & NA &  NA & NA\\\\\n\t  8 & 5 & 2015-08-28 & LAX & JFK & 0805 & 1634 & 0757 & 1620 & 0 & ⋯ & NA & NA &  NA & NA & NA & NA & NA & NA & -14 & NA\\\\\n\t  4 & 7 & 2003-04-20 & LAX & JFK & 2205 & 0619 & 2212 & 0616 & 0 & ⋯ & NA & NA &  NA & NA & -3 & NA & NA & NA &  NA & NA\\\\\n\t 11 & 3 & 2005-11-30 & LAX & JFK & 0840 & 1653 & 0836 & 1640 & 0 & ⋯ & NA & NA &  NA & NA & NA & NA & NA & NA & -13 & NA\\\\\n\\end{tabular}\n",
            "text/plain": [
              "  Month DayOfWeek FlightDate Origin Dest CRSDepTime CRSArrTime DepTime ArrTime\n",
              "1  3    5         2003-03-28 LAX    JFK  2210       0615       2209    0617   \n",
              "2 11    4         2018-11-29 LAX    JFK  1045       1912       1049    1851   \n",
              "3  8    5         2015-08-28 LAX    JFK  0805       1634       0757    1620   \n",
              "4  4    7         2003-04-20 LAX    JFK  2205       0619       2212    0616   \n",
              "5 11    3         2005-11-30 LAX    JFK  0840       1653       0836    1640   \n",
              "  ArrDelayMinutes ⋯ DivArrDelay AA AS  B6 DL HP PA (1) TW UA  VX\n",
              "1 2               ⋯ NA          NA  NA NA NA NA NA     NA   2 NA\n",
              "2 0               ⋯ NA          NA -21 NA NA NA NA     NA  NA NA\n",
              "3 0               ⋯ NA          NA  NA NA NA NA NA     NA -14 NA\n",
              "4 0               ⋯ NA          NA  NA NA -3 NA NA     NA  NA NA\n",
              "5 0               ⋯ NA          NA  NA NA NA NA NA     NA -13 NA"
            ]
          },
          "metadata": {}
        }
      ],
      "source": [
        "sub_airline %>%\n",
        "  spread(Reporting_Airline, ArrDelay) %>%\n",
        "  slice(1:5)"
      ]
    },
    {
      "cell_type": "markdown",
      "metadata": {
        "id": "e0b7e173-5be5-4b24-80b7-c526b4ccf58b"
      },
      "source": [
        "\n",
        "**Visualize Airline Category**\n",
        "\n",
        "Let's visualize how many data points in each airline category.\n"
      ]
    },
    {
      "cell_type": "code",
      "execution_count": null,
      "metadata": {
        "id": "1f30fd15-f80c-45a0-8445-8345a83b5e75",
        "colab": {
          "base_uri": "https://localhost:8080/",
          "height": 437
        },
        "outputId": "7eb1add8-6c1a-4153-c52f-78ca1bf58d6a"
      },
      "outputs": [
        {
          "output_type": "display_data",
          "data": {
            "text/plain": [
              "plot without title"
            ],
            "image/png": "[encoded data removed]"
          },
          "metadata": {
            "image/png": {
              "width": 420,
              "height": 420
            }
          }
        }
      ],
      "source": [
        "sub_airline %>% # start with data\n",
        "   mutate(Reporting_Airline = factor(Reporting_Airline,\n",
        "                                     labels = c(\"AA\", \"AS\", \"DL\", \"UA\", \"B6\", \"PA (1)\", \"HP\", \"TW\", \"VX\")))%>%\n",
        "  ggplot(aes(Reporting_Airline)) +\n",
        "  stat_count(width = 0.5) +\n",
        "  labs(x = \"Number of data points in each airline\")"
      ]
    },
    {
      "cell_type": "markdown",
      "metadata": {
        "id": "bf64f055-bf72-4fd7-b0d3-d5bae1979b01"
      },
      "source": [
        "<div class=\"alert alert-danger alertdanger\" style=\"margin-top: 20px\">\n",
        "<h1> Question  #4: </h1>\n",
        "\n",
        "<b>As above, create indicator variable to the column of \"Month\".</b>\n",
        "</div>\n"
      ]
    },
    {
      "cell_type": "code",
      "execution_count": null,
      "metadata": {
        "id": "3292fa03-5516-4153-ae9d-57054a946894",
        "colab": {
          "base_uri": "https://localhost:8080/",
          "height": 255
        },
        "outputId": "2451cb4b-fb45-4f5e-b7fa-4249deab15b4"
      },
      "outputs": [
        {
          "output_type": "display_data",
          "data": {
            "text/html": [
              "<table class=\"dataframe\">\n",
              "<caption>A tibble: 5 × 32</caption>\n",
              "<thead>\n",
              "\t<tr><th scope=col>DayOfWeek</th><th scope=col>FlightDate</th><th scope=col>Reporting_Airline</th><th scope=col>Origin</th><th scope=col>Dest</th><th scope=col>CRSDepTime</th><th scope=col>CRSArrTime</th><th scope=col>DepTime</th><th scope=col>ArrTime</th><th scope=col>ArrDelay</th><th scope=col>⋯</th><th scope=col>3</th><th scope=col>4</th><th scope=col>5</th><th scope=col>6</th><th scope=col>7</th><th scope=col>8</th><th scope=col>9</th><th scope=col>10</th><th scope=col>11</th><th scope=col>12</th></tr>\n",
              "\t<tr><th scope=col>&lt;dbl&gt;</th><th scope=col>&lt;date&gt;</th><th scope=col>&lt;chr&gt;</th><th scope=col>&lt;chr&gt;</th><th scope=col>&lt;chr&gt;</th><th scope=col>&lt;chr&gt;</th><th scope=col>&lt;chr&gt;</th><th scope=col>&lt;chr&gt;</th><th scope=col>&lt;chr&gt;</th><th scope=col>&lt;dbl&gt;</th><th scope=col>⋯</th><th scope=col>&lt;dbl&gt;</th><th scope=col>&lt;dbl&gt;</th><th scope=col>&lt;dbl&gt;</th><th scope=col>&lt;dbl&gt;</th><th scope=col>&lt;dbl&gt;</th><th scope=col>&lt;dbl&gt;</th><th scope=col>&lt;dbl&gt;</th><th scope=col>&lt;dbl&gt;</th><th scope=col>&lt;dbl&gt;</th><th scope=col>&lt;dbl&gt;</th></tr>\n",
              "</thead>\n",
              "<tbody>\n",
              "\t<tr><td>5</td><td>2003-03-28</td><td>UA</td><td>LAX</td><td>JFK</td><td>2210</td><td>0615</td><td>2209</td><td>0617</td><td>  2</td><td>⋯</td><td>1</td><td>0</td><td>0</td><td>0</td><td>0</td><td>0</td><td>0</td><td>0</td><td>0</td><td>0</td></tr>\n",
              "\t<tr><td>4</td><td>2018-11-29</td><td>AS</td><td>LAX</td><td>JFK</td><td>1045</td><td>1912</td><td>1049</td><td>1851</td><td>-21</td><td>⋯</td><td>0</td><td>0</td><td>0</td><td>0</td><td>0</td><td>0</td><td>0</td><td>0</td><td>1</td><td>0</td></tr>\n",
              "\t<tr><td>5</td><td>2015-08-28</td><td>UA</td><td>LAX</td><td>JFK</td><td>0805</td><td>1634</td><td>0757</td><td>1620</td><td>-14</td><td>⋯</td><td>0</td><td>0</td><td>0</td><td>0</td><td>0</td><td>1</td><td>0</td><td>0</td><td>0</td><td>0</td></tr>\n",
              "\t<tr><td>7</td><td>2003-04-20</td><td>DL</td><td>LAX</td><td>JFK</td><td>2205</td><td>0619</td><td>2212</td><td>0616</td><td> -3</td><td>⋯</td><td>0</td><td>1</td><td>0</td><td>0</td><td>0</td><td>0</td><td>0</td><td>0</td><td>0</td><td>0</td></tr>\n",
              "\t<tr><td>3</td><td>2005-11-30</td><td>UA</td><td>LAX</td><td>JFK</td><td>0840</td><td>1653</td><td>0836</td><td>1640</td><td>-13</td><td>⋯</td><td>0</td><td>0</td><td>0</td><td>0</td><td>0</td><td>0</td><td>0</td><td>0</td><td>1</td><td>0</td></tr>\n",
              "</tbody>\n",
              "</table>\n"
            ],
            "text/markdown": "\nA tibble: 5 × 32\n\n| DayOfWeek &lt;dbl&gt; | FlightDate &lt;date&gt; | Reporting_Airline &lt;chr&gt; | Origin &lt;chr&gt; | Dest &lt;chr&gt; | CRSDepTime &lt;chr&gt; | CRSArrTime &lt;chr&gt; | DepTime &lt;chr&gt; | ArrTime &lt;chr&gt; | ArrDelay &lt;dbl&gt; | ⋯ ⋯ | 3 &lt;dbl&gt; | 4 &lt;dbl&gt; | 5 &lt;dbl&gt; | 6 &lt;dbl&gt; | 7 &lt;dbl&gt; | 8 &lt;dbl&gt; | 9 &lt;dbl&gt; | 10 &lt;dbl&gt; | 11 &lt;dbl&gt; | 12 &lt;dbl&gt; |\n|---|---|---|---|---|---|---|---|---|---|---|---|---|---|---|---|---|---|---|---|---|\n| 5 | 2003-03-28 | UA | LAX | JFK | 2210 | 0615 | 2209 | 0617 |   2 | ⋯ | 1 | 0 | 0 | 0 | 0 | 0 | 0 | 0 | 0 | 0 |\n| 4 | 2018-11-29 | AS | LAX | JFK | 1045 | 1912 | 1049 | 1851 | -21 | ⋯ | 0 | 0 | 0 | 0 | 0 | 0 | 0 | 0 | 1 | 0 |\n| 5 | 2015-08-28 | UA | LAX | JFK | 0805 | 1634 | 0757 | 1620 | -14 | ⋯ | 0 | 0 | 0 | 0 | 0 | 1 | 0 | 0 | 0 | 0 |\n| 7 | 2003-04-20 | DL | LAX | JFK | 2205 | 0619 | 2212 | 0616 |  -3 | ⋯ | 0 | 1 | 0 | 0 | 0 | 0 | 0 | 0 | 0 | 0 |\n| 3 | 2005-11-30 | UA | LAX | JFK | 0840 | 1653 | 0836 | 1640 | -13 | ⋯ | 0 | 0 | 0 | 0 | 0 | 0 | 0 | 0 | 1 | 0 |\n\n",
            "text/latex": "A tibble: 5 × 32\n\\begin{tabular}{lllllllllllllllllllll}\n DayOfWeek & FlightDate & Reporting\\_Airline & Origin & Dest & CRSDepTime & CRSArrTime & DepTime & ArrTime & ArrDelay & ⋯ & 3 & 4 & 5 & 6 & 7 & 8 & 9 & 10 & 11 & 12\\\\\n <dbl> & <date> & <chr> & <chr> & <chr> & <chr> & <chr> & <chr> & <chr> & <dbl> & ⋯ & <dbl> & <dbl> & <dbl> & <dbl> & <dbl> & <dbl> & <dbl> & <dbl> & <dbl> & <dbl>\\\\\n\\hline\n\t 5 & 2003-03-28 & UA & LAX & JFK & 2210 & 0615 & 2209 & 0617 &   2 & ⋯ & 1 & 0 & 0 & 0 & 0 & 0 & 0 & 0 & 0 & 0\\\\\n\t 4 & 2018-11-29 & AS & LAX & JFK & 1045 & 1912 & 1049 & 1851 & -21 & ⋯ & 0 & 0 & 0 & 0 & 0 & 0 & 0 & 0 & 1 & 0\\\\\n\t 5 & 2015-08-28 & UA & LAX & JFK & 0805 & 1634 & 0757 & 1620 & -14 & ⋯ & 0 & 0 & 0 & 0 & 0 & 1 & 0 & 0 & 0 & 0\\\\\n\t 7 & 2003-04-20 & DL & LAX & JFK & 2205 & 0619 & 2212 & 0616 &  -3 & ⋯ & 0 & 1 & 0 & 0 & 0 & 0 & 0 & 0 & 0 & 0\\\\\n\t 3 & 2005-11-30 & UA & LAX & JFK & 0840 & 1653 & 0836 & 1640 & -13 & ⋯ & 0 & 0 & 0 & 0 & 0 & 0 & 0 & 0 & 1 & 0\\\\\n\\end{tabular}\n",
            "text/plain": [
              "  DayOfWeek FlightDate Reporting_Airline Origin Dest CRSDepTime CRSArrTime\n",
              "1 5         2003-03-28 UA                LAX    JFK  2210       0615      \n",
              "2 4         2018-11-29 AS                LAX    JFK  1045       1912      \n",
              "3 5         2015-08-28 UA                LAX    JFK  0805       1634      \n",
              "4 7         2003-04-20 DL                LAX    JFK  2205       0619      \n",
              "5 3         2005-11-30 UA                LAX    JFK  0840       1653      \n",
              "  DepTime ArrTime ArrDelay ⋯ 3 4 5 6 7 8 9 10 11 12\n",
              "1 2209    0617      2      ⋯ 1 0 0 0 0 0 0 0  0  0 \n",
              "2 1049    1851    -21      ⋯ 0 0 0 0 0 0 0 0  1  0 \n",
              "3 0757    1620    -14      ⋯ 0 0 0 0 0 1 0 0  0  0 \n",
              "4 2212    0616     -3      ⋯ 0 1 0 0 0 0 0 0  0  0 \n",
              "5 0836    1640    -13      ⋯ 0 0 0 0 0 0 0 0  1  0 "
            ]
          },
          "metadata": {}
        }
      ],
      "source": [
        "# Write your code below and press Shift+Enter to execute\n",
        "sub_airline %>%\n",
        "  mutate(dummy = 1) %>% # column with single value\n",
        "  spread(\n",
        "    key = Month, # column to spread\n",
        "    value = dummy,\n",
        "    fill = 0) %>%\n",
        "  slice(1:5)"
      ]
    },
    {
      "cell_type": "markdown",
      "metadata": {
        "id": "ffb3dce7-33b3-4f1d-93fa-6783a3b1256a"
      },
      "source": [
        "<details>\n",
        "    <summary>Click here for the solution.</summary>\n",
        "\n",
        "```r\n",
        "sub_airline %>%\n",
        "  mutate(dummy = 1) %>% # column with single value\n",
        "  spread(\n",
        "    key = Month, # column to spread\n",
        "    value = dummy,\n",
        "    fill = 0) %>%\n",
        "  slice(1:5)\n",
        "```\n",
        "                 \n",
        "</details>\n"
      ]
    },
    {
      "cell_type": "markdown",
      "metadata": {
        "id": "40a81ede-529e-4bf7-a4f1-ec5047860319"
      },
      "source": [
        " <div class=\"alert alert-danger alertdanger\" style=\"margin-top: 20px\">\n",
        "<h1> Question  #5: </h1>\n",
        "\n",
        "<b>Now, create indicator variable to the column of \"Month\" by applying departure delay values</b>\n",
        "</div>\n"
      ]
    },
    {
      "cell_type": "code",
      "execution_count": null,
      "metadata": {
        "id": "c78f70dd-07b4-433a-b324-573885989ee4",
        "colab": {
          "base_uri": "https://localhost:8080/",
          "height": 255
        },
        "outputId": "21a586c5-6441-4d4a-8d2e-e3ab214384d2"
      },
      "outputs": [
        {
          "output_type": "display_data",
          "data": {
            "text/html": [
              "<table class=\"dataframe\">\n",
              "<caption>A tibble: 5 × 31</caption>\n",
              "<thead>\n",
              "\t<tr><th scope=col>DayOfWeek</th><th scope=col>FlightDate</th><th scope=col>Reporting_Airline</th><th scope=col>Origin</th><th scope=col>Dest</th><th scope=col>CRSDepTime</th><th scope=col>CRSArrTime</th><th scope=col>DepTime</th><th scope=col>ArrTime</th><th scope=col>ArrDelay</th><th scope=col>⋯</th><th scope=col>3</th><th scope=col>4</th><th scope=col>5</th><th scope=col>6</th><th scope=col>7</th><th scope=col>8</th><th scope=col>9</th><th scope=col>10</th><th scope=col>11</th><th scope=col>12</th></tr>\n",
              "\t<tr><th scope=col>&lt;dbl&gt;</th><th scope=col>&lt;date&gt;</th><th scope=col>&lt;chr&gt;</th><th scope=col>&lt;chr&gt;</th><th scope=col>&lt;chr&gt;</th><th scope=col>&lt;chr&gt;</th><th scope=col>&lt;chr&gt;</th><th scope=col>&lt;chr&gt;</th><th scope=col>&lt;chr&gt;</th><th scope=col>&lt;dbl&gt;</th><th scope=col>⋯</th><th scope=col>&lt;dbl&gt;</th><th scope=col>&lt;dbl&gt;</th><th scope=col>&lt;dbl&gt;</th><th scope=col>&lt;dbl&gt;</th><th scope=col>&lt;dbl&gt;</th><th scope=col>&lt;dbl&gt;</th><th scope=col>&lt;dbl&gt;</th><th scope=col>&lt;dbl&gt;</th><th scope=col>&lt;dbl&gt;</th><th scope=col>&lt;dbl&gt;</th></tr>\n",
              "</thead>\n",
              "<tbody>\n",
              "\t<tr><td>5</td><td>2003-03-28</td><td>UA</td><td>LAX</td><td>JFK</td><td>2210</td><td>0615</td><td>2209</td><td>0617</td><td>  2</td><td>⋯</td><td>-1</td><td>NA</td><td>NA</td><td>NA</td><td>NA</td><td>NA</td><td>NA</td><td>NA</td><td>NA</td><td>NA</td></tr>\n",
              "\t<tr><td>4</td><td>2018-11-29</td><td>AS</td><td>LAX</td><td>JFK</td><td>1045</td><td>1912</td><td>1049</td><td>1851</td><td>-21</td><td>⋯</td><td>NA</td><td>NA</td><td>NA</td><td>NA</td><td>NA</td><td>NA</td><td>NA</td><td>NA</td><td> 4</td><td>NA</td></tr>\n",
              "\t<tr><td>5</td><td>2015-08-28</td><td>UA</td><td>LAX</td><td>JFK</td><td>0805</td><td>1634</td><td>0757</td><td>1620</td><td>-14</td><td>⋯</td><td>NA</td><td>NA</td><td>NA</td><td>NA</td><td>NA</td><td>-8</td><td>NA</td><td>NA</td><td>NA</td><td>NA</td></tr>\n",
              "\t<tr><td>7</td><td>2003-04-20</td><td>DL</td><td>LAX</td><td>JFK</td><td>2205</td><td>0619</td><td>2212</td><td>0616</td><td> -3</td><td>⋯</td><td>NA</td><td> 7</td><td>NA</td><td>NA</td><td>NA</td><td>NA</td><td>NA</td><td>NA</td><td>NA</td><td>NA</td></tr>\n",
              "\t<tr><td>3</td><td>2005-11-30</td><td>UA</td><td>LAX</td><td>JFK</td><td>0840</td><td>1653</td><td>0836</td><td>1640</td><td>-13</td><td>⋯</td><td>NA</td><td>NA</td><td>NA</td><td>NA</td><td>NA</td><td>NA</td><td>NA</td><td>NA</td><td>-4</td><td>NA</td></tr>\n",
              "</tbody>\n",
              "</table>\n"
            ],
            "text/markdown": "\nA tibble: 5 × 31\n\n| DayOfWeek &lt;dbl&gt; | FlightDate &lt;date&gt; | Reporting_Airline &lt;chr&gt; | Origin &lt;chr&gt; | Dest &lt;chr&gt; | CRSDepTime &lt;chr&gt; | CRSArrTime &lt;chr&gt; | DepTime &lt;chr&gt; | ArrTime &lt;chr&gt; | ArrDelay &lt;dbl&gt; | ⋯ ⋯ | 3 &lt;dbl&gt; | 4 &lt;dbl&gt; | 5 &lt;dbl&gt; | 6 &lt;dbl&gt; | 7 &lt;dbl&gt; | 8 &lt;dbl&gt; | 9 &lt;dbl&gt; | 10 &lt;dbl&gt; | 11 &lt;dbl&gt; | 12 &lt;dbl&gt; |\n|---|---|---|---|---|---|---|---|---|---|---|---|---|---|---|---|---|---|---|---|---|\n| 5 | 2003-03-28 | UA | LAX | JFK | 2210 | 0615 | 2209 | 0617 |   2 | ⋯ | -1 | NA | NA | NA | NA | NA | NA | NA | NA | NA |\n| 4 | 2018-11-29 | AS | LAX | JFK | 1045 | 1912 | 1049 | 1851 | -21 | ⋯ | NA | NA | NA | NA | NA | NA | NA | NA |  4 | NA |\n| 5 | 2015-08-28 | UA | LAX | JFK | 0805 | 1634 | 0757 | 1620 | -14 | ⋯ | NA | NA | NA | NA | NA | -8 | NA | NA | NA | NA |\n| 7 | 2003-04-20 | DL | LAX | JFK | 2205 | 0619 | 2212 | 0616 |  -3 | ⋯ | NA |  7 | NA | NA | NA | NA | NA | NA | NA | NA |\n| 3 | 2005-11-30 | UA | LAX | JFK | 0840 | 1653 | 0836 | 1640 | -13 | ⋯ | NA | NA | NA | NA | NA | NA | NA | NA | -4 | NA |\n\n",
            "text/latex": "A tibble: 5 × 31\n\\begin{tabular}{lllllllllllllllllllll}\n DayOfWeek & FlightDate & Reporting\\_Airline & Origin & Dest & CRSDepTime & CRSArrTime & DepTime & ArrTime & ArrDelay & ⋯ & 3 & 4 & 5 & 6 & 7 & 8 & 9 & 10 & 11 & 12\\\\\n <dbl> & <date> & <chr> & <chr> & <chr> & <chr> & <chr> & <chr> & <chr> & <dbl> & ⋯ & <dbl> & <dbl> & <dbl> & <dbl> & <dbl> & <dbl> & <dbl> & <dbl> & <dbl> & <dbl>\\\\\n\\hline\n\t 5 & 2003-03-28 & UA & LAX & JFK & 2210 & 0615 & 2209 & 0617 &   2 & ⋯ & -1 & NA & NA & NA & NA & NA & NA & NA & NA & NA\\\\\n\t 4 & 2018-11-29 & AS & LAX & JFK & 1045 & 1912 & 1049 & 1851 & -21 & ⋯ & NA & NA & NA & NA & NA & NA & NA & NA &  4 & NA\\\\\n\t 5 & 2015-08-28 & UA & LAX & JFK & 0805 & 1634 & 0757 & 1620 & -14 & ⋯ & NA & NA & NA & NA & NA & -8 & NA & NA & NA & NA\\\\\n\t 7 & 2003-04-20 & DL & LAX & JFK & 2205 & 0619 & 2212 & 0616 &  -3 & ⋯ & NA &  7 & NA & NA & NA & NA & NA & NA & NA & NA\\\\\n\t 3 & 2005-11-30 & UA & LAX & JFK & 0840 & 1653 & 0836 & 1640 & -13 & ⋯ & NA & NA & NA & NA & NA & NA & NA & NA & -4 & NA\\\\\n\\end{tabular}\n",
            "text/plain": [
              "  DayOfWeek FlightDate Reporting_Airline Origin Dest CRSDepTime CRSArrTime\n",
              "1 5         2003-03-28 UA                LAX    JFK  2210       0615      \n",
              "2 4         2018-11-29 AS                LAX    JFK  1045       1912      \n",
              "3 5         2015-08-28 UA                LAX    JFK  0805       1634      \n",
              "4 7         2003-04-20 DL                LAX    JFK  2205       0619      \n",
              "5 3         2005-11-30 UA                LAX    JFK  0840       1653      \n",
              "  DepTime ArrTime ArrDelay ⋯ 3  4  5  6  7  8  9  10 11 12\n",
              "1 2209    0617      2      ⋯ -1 NA NA NA NA NA NA NA NA NA\n",
              "2 1049    1851    -21      ⋯ NA NA NA NA NA NA NA NA  4 NA\n",
              "3 0757    1620    -14      ⋯ NA NA NA NA NA -8 NA NA NA NA\n",
              "4 2212    0616     -3      ⋯ NA  7 NA NA NA NA NA NA NA NA\n",
              "5 0836    1640    -13      ⋯ NA NA NA NA NA NA NA NA -4 NA"
            ]
          },
          "metadata": {}
        }
      ],
      "source": [
        "# Write your code below and press Shift+Enter to execute\n",
        "sub_airline %>%\n",
        "  spread(Month, DepDelay) %>%\n",
        "  slice(1:5) # Show only the first 5 rows"
      ]
    },
    {
      "cell_type": "markdown",
      "metadata": {
        "id": "835e90bf-f632-4e7e-b387-61d7b2473025"
      },
      "source": [
        "<details>\n",
        "    <summary>Click here for the solution.</summary>\n",
        "\n",
        "```r\n",
        "sub_airline %>%\n",
        "  spread(Month, DepDelay) %>%\n",
        "  slice(1:5) # Show only the first 5 rows\n",
        "```\n",
        "                 \n",
        "</details>\n"
      ]
    },
    {
      "cell_type": "markdown",
      "metadata": {
        "id": "a3123717-88a8-4dc4-adf0-7b0e08c8a321"
      },
      "source": [
        "<h1>Thank you for completing this notebook</h1>\n"
      ]
    },
    {
      "cell_type": "markdown",
      "metadata": {
        "id": "a20ee5cc-deec-4ece-8528-54dee964d1f2"
      },
      "source": [
        "<h3>About the Authors:</h3>\n",
        "\n",
        "This notebook was written by <a href=\"https://www.linkedin.com/in/yiwen-li-47a019119/?utm_medium=Exinfluencer&utm_source=Exinfluencer&utm_content=000026UJ&utm_term=10006555&utm_id=NA-SkillsNetwork-Channel-SkillsNetworkCoursesIBMDA0151ENSkillsNetwork926-2022-01-01\" target=\"_blank\">Yiwen Li</a> and <a href=\"https://www.linkedin.com/in/gabrieladequeiroz/?utm_medium=Exinfluencer&utm_source=Exinfluencer&utm_content=000026UJ&utm_term=10006555&utm_id=NA-SkillsNetwork-Channel-SkillsNetworkCoursesIBMDA0151ENSkillsNetwork926-2022-01-01\" target=\"_blank\">Gabriela de Queiroz</a>.\n",
        "\n",
        "<p><a href=\"https://www.linkedin.com/in/yiwen-li-47a019119/?utm_medium=Exinfluencer&utm_source=Exinfluencer&utm_content=000026UJ&utm_term=10006555&utm_id=NA-SkillsNetwork-Channel-SkillsNetworkCoursesIBMDA0151ENSkillsNetwork926-2022-01-01\" target=\"_blank\">Yiwen Li</a> has approximately three year experiences in big tech industry. Currently, she is a developer advocate, a data scientist, a product manager at IBM, where she designs and develops data science solutions and Machine Learning models to solve real world problems. She has delivered talks this year in JupyterCon, PyCon, Pyjamas, CrowdCast.ai, Global AI on Tour 2020 and Belpy 2021 with hundreds of attendants per talk.\n",
        "    \n",
        "<a href=\"https://www.linkedin.com/in/gabrieladequeiroz/?utm_medium=Exinfluencer&utm_source=Exinfluencer&utm_content=000026UJ&utm_term=10006555&utm_id=NA-SkillsNetwork-Channel-SkillsNetworkCoursesIBMDA0151ENSkillsNetwork926-2022-01-01\" target=\"_blank\">Gabriela de Queiroz</a> is a Sr. Engineering & Data Science Manager at IBM where she manages and leads a team of developers working on Data & AI Open Source projects. She works to democratize AI by building tools and launching new open source projects.\n",
        "She is the founder of AI Inclusive, a global organization that is helping increase the representation and participation of gender minorities in Artificial Intelligence. She is also the founder of R-Ladies, a worldwide organization for promoting diversity in the R community with more than 190 chapters in 50+ countries.\n",
        "She has worked in several startups and where she built teams, developed statistical models, and employed a variety of techniques to derive insights and drive data-centric decisions\n"
      ]
    },
    {
      "cell_type": "markdown",
      "metadata": {
        "id": "4d2422ff-4849-4e37-a726-50de08d5000e"
      },
      "source": [
        "Copyright © 2021 IBM Corporation. All rights reserved.\n"
      ]
    }
  ],
  "metadata": {
    "kernelspec": {
      "display_name": "R",
      "language": "R",
      "name": "ir"
    },
    "language_info": {
      "codemirror_mode": "r",
      "file_extension": ".r",
      "mimetype": "text/x-r-source",
      "name": "R",
      "pygments_lexer": "r",
      "version": "3.6.1"
    },
    "colab": {
      "provenance": []
    }
  },
  "nbformat": 4,
  "nbformat_minor": 0
}