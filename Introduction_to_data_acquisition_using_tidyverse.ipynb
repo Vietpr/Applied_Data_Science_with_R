{
  "cells": [
    {
      "cell_type": "markdown",
      "metadata": {
        "id": "fac08f1e-6f2e-4793-a228-63dafe1c73d5"
      },
      "source": [
        "### Table of Contents:\n",
        "* [1. Data Acquisition](#cell1)\n",
        "* [2. Basic Insights of the Dataset](#cell2)\n"
      ]
    },
    {
      "cell_type": "markdown",
      "metadata": {
        "id": "e48cb1ea-247c-4c81-9a9e-1b14cdc7fb09"
      },
      "source": [
        "<a id=\"cell1\"></a>\n",
        "<h1 id=\"data_acquisition\">1. Data Acquisition</h1>\n",
        "<p>\n",
        "There are various formats for a dataset like .csv, .json, .xlsx, etc. The dataset can be stored in different places, on your local machine or sometimes online. In this section, you will learn how to load a dataset into our Jupyter Notebook.<br>\n",
        "\n",
        "In our case, the <a href=\"https://developer.ibm.com/exchanges/data/all/airline/?utm_medium=Exinfluencer&utm_source=Exinfluencer&utm_content=000026UJ&utm_term=10006555&utm_id=NA-SkillsNetwork-Channel-SkillsNetworkCoursesIBMDA0151ENSkillsNetwork926-2022-01-01\">Airline Dataset</a> is an online source, and it is in CSV (comma separated value) format. Let's use a smaller subset of the original dataset as an example to practice data reading.\n",
        "<ul>\n",
        "    <li>data source: <a href=\"https://dax-cdn.cdn.appdomain.cloud/dax-airline/1.0.1/lax_to_jfk.tar.gz\" target=\"_blank\">https://dax-cdn.cdn.appdomain.cloud/dax-airline/1.0.1/lax_to_jfk.tar.gz</a></li>\n",
        "    <li>data type: csv</li>\n",
        "</ul>\n",
        "\n",
        "The Tidyverse library is a useful tool that enables us to read various datasets into a data frame; our Jupyter notebook platforms have a built-in <b>Tidyverse library</b> so that all we need to do is import Tidyverse without installing.\n",
        "</p>\n",
        "\n",
        "However, if you decide to run this on your local machine, you can use the below line of code to install Tidyverse before loading.\n"
      ]
    },
    {
      "cell_type": "code",
      "execution_count": null,
      "metadata": {
        "id": "4fe51420-9c07-498e-9a9a-98eb24d94d8b"
      },
      "outputs": [],
      "source": [
        "# Uncomment to install tidyverse if running locally\n",
        "#install.packages(\"tidyverse\")"
      ]
    },
    {
      "cell_type": "code",
      "execution_count": null,
      "metadata": {
        "id": "4fbddc61-8121-4731-bb07-694ac6ef4e49",
        "outputId": "b9b6eabd-c1d1-43ec-92de-747570bb612a",
        "colab": {
          "base_uri": "https://localhost:8080/"
        }
      },
      "outputs": [
        {
          "output_type": "stream",
          "name": "stderr",
          "text": [
            "── \u001b[1mAttaching core tidyverse packages\u001b[22m ──────────────────────── tidyverse 2.0.0 ──\n",
            "\u001b[32m✔\u001b[39m \u001b[34mdplyr    \u001b[39m 1.1.4     \u001b[32m✔\u001b[39m \u001b[34mreadr    \u001b[39m 2.1.5\n",
            "\u001b[32m✔\u001b[39m \u001b[34mforcats  \u001b[39m 1.0.0     \u001b[32m✔\u001b[39m \u001b[34mstringr  \u001b[39m 1.5.1\n",
            "\u001b[32m✔\u001b[39m \u001b[34mggplot2  \u001b[39m 3.4.4     \u001b[32m✔\u001b[39m \u001b[34mtibble   \u001b[39m 3.2.1\n",
            "\u001b[32m✔\u001b[39m \u001b[34mlubridate\u001b[39m 1.9.3     \u001b[32m✔\u001b[39m \u001b[34mtidyr    \u001b[39m 1.3.1\n",
            "\u001b[32m✔\u001b[39m \u001b[34mpurrr    \u001b[39m 1.0.2     \n",
            "── \u001b[1mConflicts\u001b[22m ────────────────────────────────────────── tidyverse_conflicts() ──\n",
            "\u001b[31m✖\u001b[39m \u001b[34mpurrr\u001b[39m::\u001b[32m%||%()\u001b[39m   masks \u001b[34mbase\u001b[39m::%||%()\n",
            "\u001b[31m✖\u001b[39m \u001b[34mdplyr\u001b[39m::\u001b[32mfilter()\u001b[39m masks \u001b[34mstats\u001b[39m::filter()\n",
            "\u001b[31m✖\u001b[39m \u001b[34mdplyr\u001b[39m::\u001b[32mlag()\u001b[39m    masks \u001b[34mstats\u001b[39m::lag()\n",
            "\u001b[36mℹ\u001b[39m Use the conflicted package (\u001b[3m\u001b[34m<http://conflicted.r-lib.org/>\u001b[39m\u001b[23m) to force all conflicts to become errors\n"
          ]
        }
      ],
      "source": [
        "# Load tidyverse\n",
        "library(tidyverse)"
      ]
    },
    {
      "cell_type": "markdown",
      "metadata": {
        "id": "f6cba1c7-0c28-4245-b0b3-8a2b10f9de47"
      },
      "source": [
        "The Tidyverse library has a suite of packages that all work together well, namely:\n",
        "* tidyr: helps create tidy data\n",
        "* dplyr: manipulates and transforms data\n",
        "* readr: easily read different types of datasets\n",
        "* purrr: functional programming toolkit\n",
        "* ggplot2: create plots and visualizations\n",
        "\n",
        "In this notebook, we will mainly use functions from readr and dplyr. However, don't worry about memorizing which function is from which library, just know that all are included in Tidyverse.\n"
      ]
    },
    {
      "cell_type": "markdown",
      "metadata": {
        "id": "2cf8f878-36a0-4d84-ba60-0983785c7663"
      },
      "source": [
        "<h2>Read Data</h2>\n",
        "<p>\n",
        "We use the function <code>readr::read_csv()</code> to read csv files. The <code>::</code> tells you which package the function is from, so <code>read_csv()</code> is from library <code>readr</code> (which is automatically loaded with Tidyverse). There are a few parts to the function to go over:\n",
        "</p>\n",
        "\n",
        "* `file` (or the first parameter): this is file path along with quotation marks, so that `read_csv()` will read the file into a data frame from that address. The file path can be either an URL or your local file address.\n",
        "* `col_names`: by deafult this is set to `col_names = TRUE`. If this is TRUE then the first row is set as the headers (which is correct in this dataset).\n",
        "* `col_types`: used to specify what types columns are. By default, `read_csv()` will guess the type of the columns but if there are columns you want to specify you can do so as well.\n",
        "    * Posible types you could use are `col_logical()`, `col_integer()`, `col_number()`, `col_character()`. You can look at the documentation of `readr::cols` for more.\n",
        "    \n",
        "You can assign the loaded dataset to any variable name, here it is `sub_airline`.\n"
      ]
    },
    {
      "cell_type": "code",
      "execution_count": null,
      "metadata": {
        "id": "48fd33f7-c8aa-4096-bdbe-845544882a51",
        "colab": {
          "base_uri": "https://localhost:8080/"
        },
        "outputId": "43458f07-4cb8-406b-b120-907f7c37d575"
      },
      "outputs": [
        {
          "output_type": "stream",
          "name": "stderr",
          "text": [
            "Warning message in untar2(tarfile, files, list, exdir, restore_times):\n",
            "“using pax extended headers”\n"
          ]
        }
      ],
      "source": [
        "# url where the data is located\n",
        "url <- \"https://dax-cdn.cdn.appdomain.cloud/dax-airline/1.0.1/lax_to_jfk.tar.gz\"\n",
        "# download the file\n",
        "download.file(url, destfile = \"lax_to_jfk.tar.gz\")\n",
        "# untar the file so we can get the csv only\n",
        "untar(\"lax_to_jfk.tar.gz\", tar = \"internal\")\n",
        "# read_csv only\n",
        "sub_airline <- read_csv(\"lax_to_jfk/lax_to_jfk.csv\",\n",
        "                     col_types = cols(\n",
        "                      'DivDistance' = col_number(),\n",
        "                      'DivArrDelay' = col_number()\n",
        "                      ))"
      ]
    },
    {
      "cell_type": "markdown",
      "metadata": {
        "id": "b2261dc7-a51c-4638-b4e3-4116c6c2be92"
      },
      "source": [
        "After reading the dataset, there are a few functions you can use to get some initial information about the dataframe:\n",
        "* `head(dataframe, n)`: returns the first *n* rows of the dataframe, if *n* is not specified, then by default the first 6 rows (not including the column headers) are returned\n",
        "* `tail(dataframe, n)`: returns the last *n* rows of the dataframe, if *n* is not specified, then by default the last 6 rows are returned.\n",
        "* `colnames(dataframe)`: retrieves the column names of the dataframe\n",
        "* `dim(dataframe)`: retrieves the dimension (number of rows and columns) of the dataframe\n"
      ]
    },
    {
      "cell_type": "code",
      "execution_count": null,
      "metadata": {
        "id": "69e92c9e-9756-457a-b569-e797c3f72b48",
        "colab": {
          "base_uri": "https://localhost:8080/",
          "height": 212
        },
        "outputId": "98b3f1c9-9398-4e5c-b351-86282eb8ce53"
      },
      "outputs": [
        {
          "output_type": "display_data",
          "data": {
            "text/html": [
              "<table class=\"dataframe\">\n",
              "<caption>A tibble: 3 × 21</caption>\n",
              "<thead>\n",
              "\t<tr><th scope=col>Month</th><th scope=col>DayOfWeek</th><th scope=col>FlightDate</th><th scope=col>Reporting_Airline</th><th scope=col>Origin</th><th scope=col>Dest</th><th scope=col>CRSDepTime</th><th scope=col>CRSArrTime</th><th scope=col>DepTime</th><th scope=col>ArrTime</th><th scope=col>⋯</th><th scope=col>ArrDelayMinutes</th><th scope=col>CarrierDelay</th><th scope=col>WeatherDelay</th><th scope=col>NASDelay</th><th scope=col>SecurityDelay</th><th scope=col>LateAircraftDelay</th><th scope=col>DepDelay</th><th scope=col>DepDelayMinutes</th><th scope=col>DivDistance</th><th scope=col>DivArrDelay</th></tr>\n",
              "\t<tr><th scope=col>&lt;dbl&gt;</th><th scope=col>&lt;dbl&gt;</th><th scope=col>&lt;date&gt;</th><th scope=col>&lt;chr&gt;</th><th scope=col>&lt;chr&gt;</th><th scope=col>&lt;chr&gt;</th><th scope=col>&lt;chr&gt;</th><th scope=col>&lt;chr&gt;</th><th scope=col>&lt;chr&gt;</th><th scope=col>&lt;chr&gt;</th><th scope=col>⋯</th><th scope=col>&lt;dbl&gt;</th><th scope=col>&lt;dbl&gt;</th><th scope=col>&lt;dbl&gt;</th><th scope=col>&lt;dbl&gt;</th><th scope=col>&lt;dbl&gt;</th><th scope=col>&lt;dbl&gt;</th><th scope=col>&lt;dbl&gt;</th><th scope=col>&lt;dbl&gt;</th><th scope=col>&lt;dbl&gt;</th><th scope=col>&lt;dbl&gt;</th></tr>\n",
              "</thead>\n",
              "<tbody>\n",
              "\t<tr><td> 3</td><td>5</td><td>2003-03-28</td><td>UA</td><td>LAX</td><td>JFK</td><td>2210</td><td>0615</td><td>2209</td><td>0617</td><td>⋯</td><td>2</td><td>NA</td><td>NA</td><td>NA</td><td>NA</td><td>NA</td><td>-1</td><td>0</td><td>NA</td><td>NA</td></tr>\n",
              "\t<tr><td>11</td><td>4</td><td>2018-11-29</td><td>AS</td><td>LAX</td><td>JFK</td><td>1045</td><td>1912</td><td>1049</td><td>1851</td><td>⋯</td><td>0</td><td>NA</td><td>NA</td><td>NA</td><td>NA</td><td>NA</td><td> 4</td><td>4</td><td>NA</td><td>NA</td></tr>\n",
              "\t<tr><td> 8</td><td>5</td><td>2015-08-28</td><td>UA</td><td>LAX</td><td>JFK</td><td>0805</td><td>1634</td><td>0757</td><td>1620</td><td>⋯</td><td>0</td><td>NA</td><td>NA</td><td>NA</td><td>NA</td><td>NA</td><td>-8</td><td>0</td><td>NA</td><td>NA</td></tr>\n",
              "</tbody>\n",
              "</table>\n"
            ],
            "text/markdown": "\nA tibble: 3 × 21\n\n| Month &lt;dbl&gt; | DayOfWeek &lt;dbl&gt; | FlightDate &lt;date&gt; | Reporting_Airline &lt;chr&gt; | Origin &lt;chr&gt; | Dest &lt;chr&gt; | CRSDepTime &lt;chr&gt; | CRSArrTime &lt;chr&gt; | DepTime &lt;chr&gt; | ArrTime &lt;chr&gt; | ⋯ ⋯ | ArrDelayMinutes &lt;dbl&gt; | CarrierDelay &lt;dbl&gt; | WeatherDelay &lt;dbl&gt; | NASDelay &lt;dbl&gt; | SecurityDelay &lt;dbl&gt; | LateAircraftDelay &lt;dbl&gt; | DepDelay &lt;dbl&gt; | DepDelayMinutes &lt;dbl&gt; | DivDistance &lt;dbl&gt; | DivArrDelay &lt;dbl&gt; |\n|---|---|---|---|---|---|---|---|---|---|---|---|---|---|---|---|---|---|---|---|---|\n|  3 | 5 | 2003-03-28 | UA | LAX | JFK | 2210 | 0615 | 2209 | 0617 | ⋯ | 2 | NA | NA | NA | NA | NA | -1 | 0 | NA | NA |\n| 11 | 4 | 2018-11-29 | AS | LAX | JFK | 1045 | 1912 | 1049 | 1851 | ⋯ | 0 | NA | NA | NA | NA | NA |  4 | 4 | NA | NA |\n|  8 | 5 | 2015-08-28 | UA | LAX | JFK | 0805 | 1634 | 0757 | 1620 | ⋯ | 0 | NA | NA | NA | NA | NA | -8 | 0 | NA | NA |\n\n",
            "text/latex": "A tibble: 3 × 21\n\\begin{tabular}{lllllllllllllllllllll}\n Month & DayOfWeek & FlightDate & Reporting\\_Airline & Origin & Dest & CRSDepTime & CRSArrTime & DepTime & ArrTime & ⋯ & ArrDelayMinutes & CarrierDelay & WeatherDelay & NASDelay & SecurityDelay & LateAircraftDelay & DepDelay & DepDelayMinutes & DivDistance & DivArrDelay\\\\\n <dbl> & <dbl> & <date> & <chr> & <chr> & <chr> & <chr> & <chr> & <chr> & <chr> & ⋯ & <dbl> & <dbl> & <dbl> & <dbl> & <dbl> & <dbl> & <dbl> & <dbl> & <dbl> & <dbl>\\\\\n\\hline\n\t  3 & 5 & 2003-03-28 & UA & LAX & JFK & 2210 & 0615 & 2209 & 0617 & ⋯ & 2 & NA & NA & NA & NA & NA & -1 & 0 & NA & NA\\\\\n\t 11 & 4 & 2018-11-29 & AS & LAX & JFK & 1045 & 1912 & 1049 & 1851 & ⋯ & 0 & NA & NA & NA & NA & NA &  4 & 4 & NA & NA\\\\\n\t  8 & 5 & 2015-08-28 & UA & LAX & JFK & 0805 & 1634 & 0757 & 1620 & ⋯ & 0 & NA & NA & NA & NA & NA & -8 & 0 & NA & NA\\\\\n\\end{tabular}\n",
            "text/plain": [
              "  Month DayOfWeek FlightDate Reporting_Airline Origin Dest CRSDepTime\n",
              "1  3    5         2003-03-28 UA                LAX    JFK  2210      \n",
              "2 11    4         2018-11-29 AS                LAX    JFK  1045      \n",
              "3  8    5         2015-08-28 UA                LAX    JFK  0805      \n",
              "  CRSArrTime DepTime ArrTime ⋯ ArrDelayMinutes CarrierDelay WeatherDelay\n",
              "1 0615       2209    0617    ⋯ 2               NA           NA          \n",
              "2 1912       1049    1851    ⋯ 0               NA           NA          \n",
              "3 1634       0757    1620    ⋯ 0               NA           NA          \n",
              "  NASDelay SecurityDelay LateAircraftDelay DepDelay DepDelayMinutes DivDistance\n",
              "1 NA       NA            NA                -1       0               NA         \n",
              "2 NA       NA            NA                 4       4               NA         \n",
              "3 NA       NA            NA                -8       0               NA         \n",
              "  DivArrDelay\n",
              "1 NA         \n",
              "2 NA         \n",
              "3 NA         "
            ]
          },
          "metadata": {}
        }
      ],
      "source": [
        "# show the first n = 3 rows\n",
        "head(sub_airline, 3)"
      ]
    },
    {
      "cell_type": "markdown",
      "metadata": {
        "id": "cf8f6b26-e7e5-42f9-b424-012ad39e383c"
      },
      "source": [
        "Or, you can choose to not input `n`, then it will show the first or the last 6 rows as default.\n"
      ]
    },
    {
      "cell_type": "code",
      "execution_count": null,
      "metadata": {
        "id": "443420b9-af59-42ea-8ca4-af3a78401b49",
        "colab": {
          "base_uri": "https://localhost:8080/",
          "height": 306
        },
        "outputId": "dd980a9b-eb80-4e30-9173-fe04f9774e62"
      },
      "outputs": [
        {
          "output_type": "display_data",
          "data": {
            "text/html": [
              "<table class=\"dataframe\">\n",
              "<caption>A tibble: 6 × 21</caption>\n",
              "<thead>\n",
              "\t<tr><th scope=col>Month</th><th scope=col>DayOfWeek</th><th scope=col>FlightDate</th><th scope=col>Reporting_Airline</th><th scope=col>Origin</th><th scope=col>Dest</th><th scope=col>CRSDepTime</th><th scope=col>CRSArrTime</th><th scope=col>DepTime</th><th scope=col>ArrTime</th><th scope=col>⋯</th><th scope=col>ArrDelayMinutes</th><th scope=col>CarrierDelay</th><th scope=col>WeatherDelay</th><th scope=col>NASDelay</th><th scope=col>SecurityDelay</th><th scope=col>LateAircraftDelay</th><th scope=col>DepDelay</th><th scope=col>DepDelayMinutes</th><th scope=col>DivDistance</th><th scope=col>DivArrDelay</th></tr>\n",
              "\t<tr><th scope=col>&lt;dbl&gt;</th><th scope=col>&lt;dbl&gt;</th><th scope=col>&lt;date&gt;</th><th scope=col>&lt;chr&gt;</th><th scope=col>&lt;chr&gt;</th><th scope=col>&lt;chr&gt;</th><th scope=col>&lt;chr&gt;</th><th scope=col>&lt;chr&gt;</th><th scope=col>&lt;chr&gt;</th><th scope=col>&lt;chr&gt;</th><th scope=col>⋯</th><th scope=col>&lt;dbl&gt;</th><th scope=col>&lt;dbl&gt;</th><th scope=col>&lt;dbl&gt;</th><th scope=col>&lt;dbl&gt;</th><th scope=col>&lt;dbl&gt;</th><th scope=col>&lt;dbl&gt;</th><th scope=col>&lt;dbl&gt;</th><th scope=col>&lt;dbl&gt;</th><th scope=col>&lt;dbl&gt;</th><th scope=col>&lt;dbl&gt;</th></tr>\n",
              "</thead>\n",
              "<tbody>\n",
              "\t<tr><td> 3</td><td>5</td><td>2003-03-28</td><td>UA</td><td>LAX</td><td>JFK</td><td>2210</td><td>0615</td><td>2209</td><td>0617</td><td>⋯</td><td>2</td><td>NA</td><td>NA</td><td>NA</td><td>NA</td><td>NA</td><td>-1</td><td>0</td><td>NA</td><td>NA</td></tr>\n",
              "\t<tr><td>11</td><td>4</td><td>2018-11-29</td><td>AS</td><td>LAX</td><td>JFK</td><td>1045</td><td>1912</td><td>1049</td><td>1851</td><td>⋯</td><td>0</td><td>NA</td><td>NA</td><td>NA</td><td>NA</td><td>NA</td><td> 4</td><td>4</td><td>NA</td><td>NA</td></tr>\n",
              "\t<tr><td> 8</td><td>5</td><td>2015-08-28</td><td>UA</td><td>LAX</td><td>JFK</td><td>0805</td><td>1634</td><td>0757</td><td>1620</td><td>⋯</td><td>0</td><td>NA</td><td>NA</td><td>NA</td><td>NA</td><td>NA</td><td>-8</td><td>0</td><td>NA</td><td>NA</td></tr>\n",
              "\t<tr><td> 4</td><td>7</td><td>2003-04-20</td><td>DL</td><td>LAX</td><td>JFK</td><td>2205</td><td>0619</td><td>2212</td><td>0616</td><td>⋯</td><td>0</td><td>NA</td><td>NA</td><td>NA</td><td>NA</td><td>NA</td><td> 7</td><td>7</td><td>NA</td><td>NA</td></tr>\n",
              "\t<tr><td>11</td><td>3</td><td>2005-11-30</td><td>UA</td><td>LAX</td><td>JFK</td><td>0840</td><td>1653</td><td>0836</td><td>1640</td><td>⋯</td><td>0</td><td>NA</td><td>NA</td><td>NA</td><td>NA</td><td>NA</td><td>-4</td><td>0</td><td>NA</td><td>NA</td></tr>\n",
              "\t<tr><td> 4</td><td>1</td><td>1992-04-06</td><td>UA</td><td>LAX</td><td>JFK</td><td>1450</td><td>2308</td><td>1452</td><td>2248</td><td>⋯</td><td>0</td><td>NA</td><td>NA</td><td>NA</td><td>NA</td><td>NA</td><td> 2</td><td>2</td><td>NA</td><td>NA</td></tr>\n",
              "</tbody>\n",
              "</table>\n"
            ],
            "text/markdown": "\nA tibble: 6 × 21\n\n| Month &lt;dbl&gt; | DayOfWeek &lt;dbl&gt; | FlightDate &lt;date&gt; | Reporting_Airline &lt;chr&gt; | Origin &lt;chr&gt; | Dest &lt;chr&gt; | CRSDepTime &lt;chr&gt; | CRSArrTime &lt;chr&gt; | DepTime &lt;chr&gt; | ArrTime &lt;chr&gt; | ⋯ ⋯ | ArrDelayMinutes &lt;dbl&gt; | CarrierDelay &lt;dbl&gt; | WeatherDelay &lt;dbl&gt; | NASDelay &lt;dbl&gt; | SecurityDelay &lt;dbl&gt; | LateAircraftDelay &lt;dbl&gt; | DepDelay &lt;dbl&gt; | DepDelayMinutes &lt;dbl&gt; | DivDistance &lt;dbl&gt; | DivArrDelay &lt;dbl&gt; |\n|---|---|---|---|---|---|---|---|---|---|---|---|---|---|---|---|---|---|---|---|---|\n|  3 | 5 | 2003-03-28 | UA | LAX | JFK | 2210 | 0615 | 2209 | 0617 | ⋯ | 2 | NA | NA | NA | NA | NA | -1 | 0 | NA | NA |\n| 11 | 4 | 2018-11-29 | AS | LAX | JFK | 1045 | 1912 | 1049 | 1851 | ⋯ | 0 | NA | NA | NA | NA | NA |  4 | 4 | NA | NA |\n|  8 | 5 | 2015-08-28 | UA | LAX | JFK | 0805 | 1634 | 0757 | 1620 | ⋯ | 0 | NA | NA | NA | NA | NA | -8 | 0 | NA | NA |\n|  4 | 7 | 2003-04-20 | DL | LAX | JFK | 2205 | 0619 | 2212 | 0616 | ⋯ | 0 | NA | NA | NA | NA | NA |  7 | 7 | NA | NA |\n| 11 | 3 | 2005-11-30 | UA | LAX | JFK | 0840 | 1653 | 0836 | 1640 | ⋯ | 0 | NA | NA | NA | NA | NA | -4 | 0 | NA | NA |\n|  4 | 1 | 1992-04-06 | UA | LAX | JFK | 1450 | 2308 | 1452 | 2248 | ⋯ | 0 | NA | NA | NA | NA | NA |  2 | 2 | NA | NA |\n\n",
            "text/latex": "A tibble: 6 × 21\n\\begin{tabular}{lllllllllllllllllllll}\n Month & DayOfWeek & FlightDate & Reporting\\_Airline & Origin & Dest & CRSDepTime & CRSArrTime & DepTime & ArrTime & ⋯ & ArrDelayMinutes & CarrierDelay & WeatherDelay & NASDelay & SecurityDelay & LateAircraftDelay & DepDelay & DepDelayMinutes & DivDistance & DivArrDelay\\\\\n <dbl> & <dbl> & <date> & <chr> & <chr> & <chr> & <chr> & <chr> & <chr> & <chr> & ⋯ & <dbl> & <dbl> & <dbl> & <dbl> & <dbl> & <dbl> & <dbl> & <dbl> & <dbl> & <dbl>\\\\\n\\hline\n\t  3 & 5 & 2003-03-28 & UA & LAX & JFK & 2210 & 0615 & 2209 & 0617 & ⋯ & 2 & NA & NA & NA & NA & NA & -1 & 0 & NA & NA\\\\\n\t 11 & 4 & 2018-11-29 & AS & LAX & JFK & 1045 & 1912 & 1049 & 1851 & ⋯ & 0 & NA & NA & NA & NA & NA &  4 & 4 & NA & NA\\\\\n\t  8 & 5 & 2015-08-28 & UA & LAX & JFK & 0805 & 1634 & 0757 & 1620 & ⋯ & 0 & NA & NA & NA & NA & NA & -8 & 0 & NA & NA\\\\\n\t  4 & 7 & 2003-04-20 & DL & LAX & JFK & 2205 & 0619 & 2212 & 0616 & ⋯ & 0 & NA & NA & NA & NA & NA &  7 & 7 & NA & NA\\\\\n\t 11 & 3 & 2005-11-30 & UA & LAX & JFK & 0840 & 1653 & 0836 & 1640 & ⋯ & 0 & NA & NA & NA & NA & NA & -4 & 0 & NA & NA\\\\\n\t  4 & 1 & 1992-04-06 & UA & LAX & JFK & 1450 & 2308 & 1452 & 2248 & ⋯ & 0 & NA & NA & NA & NA & NA &  2 & 2 & NA & NA\\\\\n\\end{tabular}\n",
            "text/plain": [
              "  Month DayOfWeek FlightDate Reporting_Airline Origin Dest CRSDepTime\n",
              "1  3    5         2003-03-28 UA                LAX    JFK  2210      \n",
              "2 11    4         2018-11-29 AS                LAX    JFK  1045      \n",
              "3  8    5         2015-08-28 UA                LAX    JFK  0805      \n",
              "4  4    7         2003-04-20 DL                LAX    JFK  2205      \n",
              "5 11    3         2005-11-30 UA                LAX    JFK  0840      \n",
              "6  4    1         1992-04-06 UA                LAX    JFK  1450      \n",
              "  CRSArrTime DepTime ArrTime ⋯ ArrDelayMinutes CarrierDelay WeatherDelay\n",
              "1 0615       2209    0617    ⋯ 2               NA           NA          \n",
              "2 1912       1049    1851    ⋯ 0               NA           NA          \n",
              "3 1634       0757    1620    ⋯ 0               NA           NA          \n",
              "4 0619       2212    0616    ⋯ 0               NA           NA          \n",
              "5 1653       0836    1640    ⋯ 0               NA           NA          \n",
              "6 2308       1452    2248    ⋯ 0               NA           NA          \n",
              "  NASDelay SecurityDelay LateAircraftDelay DepDelay DepDelayMinutes DivDistance\n",
              "1 NA       NA            NA                -1       0               NA         \n",
              "2 NA       NA            NA                 4       4               NA         \n",
              "3 NA       NA            NA                -8       0               NA         \n",
              "4 NA       NA            NA                 7       7               NA         \n",
              "5 NA       NA            NA                -4       0               NA         \n",
              "6 NA       NA            NA                 2       2               NA         \n",
              "  DivArrDelay\n",
              "1 NA         \n",
              "2 NA         \n",
              "3 NA         \n",
              "4 NA         \n",
              "5 NA         \n",
              "6 NA         "
            ]
          },
          "metadata": {}
        }
      ],
      "source": [
        "# show the first 6 rows\n",
        "head(sub_airline)"
      ]
    },
    {
      "cell_type": "code",
      "execution_count": null,
      "metadata": {
        "id": "eaad45e1-0db3-466b-9875-b97fe9905b3d",
        "colab": {
          "base_uri": "https://localhost:8080/",
          "height": 306
        },
        "outputId": "1581c8ab-753c-4999-c021-86cbbc5c718e"
      },
      "outputs": [
        {
          "output_type": "display_data",
          "data": {
            "text/html": [
              "<table class=\"dataframe\">\n",
              "<caption>A tibble: 6 × 21</caption>\n",
              "<thead>\n",
              "\t<tr><th scope=col>Month</th><th scope=col>DayOfWeek</th><th scope=col>FlightDate</th><th scope=col>Reporting_Airline</th><th scope=col>Origin</th><th scope=col>Dest</th><th scope=col>CRSDepTime</th><th scope=col>CRSArrTime</th><th scope=col>DepTime</th><th scope=col>ArrTime</th><th scope=col>⋯</th><th scope=col>ArrDelayMinutes</th><th scope=col>CarrierDelay</th><th scope=col>WeatherDelay</th><th scope=col>NASDelay</th><th scope=col>SecurityDelay</th><th scope=col>LateAircraftDelay</th><th scope=col>DepDelay</th><th scope=col>DepDelayMinutes</th><th scope=col>DivDistance</th><th scope=col>DivArrDelay</th></tr>\n",
              "\t<tr><th scope=col>&lt;dbl&gt;</th><th scope=col>&lt;dbl&gt;</th><th scope=col>&lt;date&gt;</th><th scope=col>&lt;chr&gt;</th><th scope=col>&lt;chr&gt;</th><th scope=col>&lt;chr&gt;</th><th scope=col>&lt;chr&gt;</th><th scope=col>&lt;chr&gt;</th><th scope=col>&lt;chr&gt;</th><th scope=col>&lt;chr&gt;</th><th scope=col>⋯</th><th scope=col>&lt;dbl&gt;</th><th scope=col>&lt;dbl&gt;</th><th scope=col>&lt;dbl&gt;</th><th scope=col>&lt;dbl&gt;</th><th scope=col>&lt;dbl&gt;</th><th scope=col>&lt;dbl&gt;</th><th scope=col>&lt;dbl&gt;</th><th scope=col>&lt;dbl&gt;</th><th scope=col>&lt;dbl&gt;</th><th scope=col>&lt;dbl&gt;</th></tr>\n",
              "</thead>\n",
              "<tbody>\n",
              "\t<tr><td>10</td><td>6</td><td>1996-10-19</td><td>AA</td><td>LAX</td><td>JFK</td><td>0700</td><td>1509</td><td>0700</td><td>1610</td><td>⋯</td><td>61</td><td>NA</td><td>NA</td><td>NA</td><td>NA</td><td>NA</td><td> 0</td><td>0</td><td>NA</td><td>NA</td></tr>\n",
              "\t<tr><td>10</td><td>3</td><td>2015-10-21</td><td>DL</td><td>LAX</td><td>JFK</td><td>2255</td><td>0720</td><td>2254</td><td>0723</td><td>⋯</td><td> 3</td><td>NA</td><td>NA</td><td>NA</td><td>NA</td><td>NA</td><td>-1</td><td>0</td><td>NA</td><td>NA</td></tr>\n",
              "\t<tr><td> 7</td><td>5</td><td>2012-07-06</td><td>UA</td><td>LAX</td><td>JFK</td><td>0605</td><td>1422</td><td>0600</td><td>1427</td><td>⋯</td><td> 5</td><td>NA</td><td>NA</td><td>NA</td><td>NA</td><td>NA</td><td>-5</td><td>0</td><td>NA</td><td>NA</td></tr>\n",
              "\t<tr><td> 1</td><td>3</td><td>2010-01-06</td><td>DL</td><td>LAX</td><td>JFK</td><td>2125</td><td>0543</td><td>2118</td><td>0540</td><td>⋯</td><td> 0</td><td>NA</td><td>NA</td><td>NA</td><td>NA</td><td>NA</td><td>-7</td><td>0</td><td>NA</td><td>NA</td></tr>\n",
              "\t<tr><td> 5</td><td>5</td><td>2009-05-15</td><td>AA</td><td>LAX</td><td>JFK</td><td>2115</td><td>0535</td><td>2119</td><td>0533</td><td>⋯</td><td> 0</td><td>NA</td><td>NA</td><td>NA</td><td>NA</td><td>NA</td><td> 4</td><td>4</td><td>NA</td><td>NA</td></tr>\n",
              "\t<tr><td> 7</td><td>4</td><td>2000-07-06</td><td>AA</td><td>LAX</td><td>JFK</td><td>2200</td><td>0622</td><td>2158</td><td>0610</td><td>⋯</td><td> 0</td><td>NA</td><td>NA</td><td>NA</td><td>NA</td><td>NA</td><td>-2</td><td>0</td><td>NA</td><td>NA</td></tr>\n",
              "</tbody>\n",
              "</table>\n"
            ],
            "text/markdown": "\nA tibble: 6 × 21\n\n| Month &lt;dbl&gt; | DayOfWeek &lt;dbl&gt; | FlightDate &lt;date&gt; | Reporting_Airline &lt;chr&gt; | Origin &lt;chr&gt; | Dest &lt;chr&gt; | CRSDepTime &lt;chr&gt; | CRSArrTime &lt;chr&gt; | DepTime &lt;chr&gt; | ArrTime &lt;chr&gt; | ⋯ ⋯ | ArrDelayMinutes &lt;dbl&gt; | CarrierDelay &lt;dbl&gt; | WeatherDelay &lt;dbl&gt; | NASDelay &lt;dbl&gt; | SecurityDelay &lt;dbl&gt; | LateAircraftDelay &lt;dbl&gt; | DepDelay &lt;dbl&gt; | DepDelayMinutes &lt;dbl&gt; | DivDistance &lt;dbl&gt; | DivArrDelay &lt;dbl&gt; |\n|---|---|---|---|---|---|---|---|---|---|---|---|---|---|---|---|---|---|---|---|---|\n| 10 | 6 | 1996-10-19 | AA | LAX | JFK | 0700 | 1509 | 0700 | 1610 | ⋯ | 61 | NA | NA | NA | NA | NA |  0 | 0 | NA | NA |\n| 10 | 3 | 2015-10-21 | DL | LAX | JFK | 2255 | 0720 | 2254 | 0723 | ⋯ |  3 | NA | NA | NA | NA | NA | -1 | 0 | NA | NA |\n|  7 | 5 | 2012-07-06 | UA | LAX | JFK | 0605 | 1422 | 0600 | 1427 | ⋯ |  5 | NA | NA | NA | NA | NA | -5 | 0 | NA | NA |\n|  1 | 3 | 2010-01-06 | DL | LAX | JFK | 2125 | 0543 | 2118 | 0540 | ⋯ |  0 | NA | NA | NA | NA | NA | -7 | 0 | NA | NA |\n|  5 | 5 | 2009-05-15 | AA | LAX | JFK | 2115 | 0535 | 2119 | 0533 | ⋯ |  0 | NA | NA | NA | NA | NA |  4 | 4 | NA | NA |\n|  7 | 4 | 2000-07-06 | AA | LAX | JFK | 2200 | 0622 | 2158 | 0610 | ⋯ |  0 | NA | NA | NA | NA | NA | -2 | 0 | NA | NA |\n\n",
            "text/latex": "A tibble: 6 × 21\n\\begin{tabular}{lllllllllllllllllllll}\n Month & DayOfWeek & FlightDate & Reporting\\_Airline & Origin & Dest & CRSDepTime & CRSArrTime & DepTime & ArrTime & ⋯ & ArrDelayMinutes & CarrierDelay & WeatherDelay & NASDelay & SecurityDelay & LateAircraftDelay & DepDelay & DepDelayMinutes & DivDistance & DivArrDelay\\\\\n <dbl> & <dbl> & <date> & <chr> & <chr> & <chr> & <chr> & <chr> & <chr> & <chr> & ⋯ & <dbl> & <dbl> & <dbl> & <dbl> & <dbl> & <dbl> & <dbl> & <dbl> & <dbl> & <dbl>\\\\\n\\hline\n\t 10 & 6 & 1996-10-19 & AA & LAX & JFK & 0700 & 1509 & 0700 & 1610 & ⋯ & 61 & NA & NA & NA & NA & NA &  0 & 0 & NA & NA\\\\\n\t 10 & 3 & 2015-10-21 & DL & LAX & JFK & 2255 & 0720 & 2254 & 0723 & ⋯ &  3 & NA & NA & NA & NA & NA & -1 & 0 & NA & NA\\\\\n\t  7 & 5 & 2012-07-06 & UA & LAX & JFK & 0605 & 1422 & 0600 & 1427 & ⋯ &  5 & NA & NA & NA & NA & NA & -5 & 0 & NA & NA\\\\\n\t  1 & 3 & 2010-01-06 & DL & LAX & JFK & 2125 & 0543 & 2118 & 0540 & ⋯ &  0 & NA & NA & NA & NA & NA & -7 & 0 & NA & NA\\\\\n\t  5 & 5 & 2009-05-15 & AA & LAX & JFK & 2115 & 0535 & 2119 & 0533 & ⋯ &  0 & NA & NA & NA & NA & NA &  4 & 4 & NA & NA\\\\\n\t  7 & 4 & 2000-07-06 & AA & LAX & JFK & 2200 & 0622 & 2158 & 0610 & ⋯ &  0 & NA & NA & NA & NA & NA & -2 & 0 & NA & NA\\\\\n\\end{tabular}\n",
            "text/plain": [
              "  Month DayOfWeek FlightDate Reporting_Airline Origin Dest CRSDepTime\n",
              "1 10    6         1996-10-19 AA                LAX    JFK  0700      \n",
              "2 10    3         2015-10-21 DL                LAX    JFK  2255      \n",
              "3  7    5         2012-07-06 UA                LAX    JFK  0605      \n",
              "4  1    3         2010-01-06 DL                LAX    JFK  2125      \n",
              "5  5    5         2009-05-15 AA                LAX    JFK  2115      \n",
              "6  7    4         2000-07-06 AA                LAX    JFK  2200      \n",
              "  CRSArrTime DepTime ArrTime ⋯ ArrDelayMinutes CarrierDelay WeatherDelay\n",
              "1 1509       0700    1610    ⋯ 61              NA           NA          \n",
              "2 0720       2254    0723    ⋯  3              NA           NA          \n",
              "3 1422       0600    1427    ⋯  5              NA           NA          \n",
              "4 0543       2118    0540    ⋯  0              NA           NA          \n",
              "5 0535       2119    0533    ⋯  0              NA           NA          \n",
              "6 0622       2158    0610    ⋯  0              NA           NA          \n",
              "  NASDelay SecurityDelay LateAircraftDelay DepDelay DepDelayMinutes DivDistance\n",
              "1 NA       NA            NA                 0       0               NA         \n",
              "2 NA       NA            NA                -1       0               NA         \n",
              "3 NA       NA            NA                -5       0               NA         \n",
              "4 NA       NA            NA                -7       0               NA         \n",
              "5 NA       NA            NA                 4       4               NA         \n",
              "6 NA       NA            NA                -2       0               NA         \n",
              "  DivArrDelay\n",
              "1 NA         \n",
              "2 NA         \n",
              "3 NA         \n",
              "4 NA         \n",
              "5 NA         \n",
              "6 NA         "
            ]
          },
          "metadata": {}
        }
      ],
      "source": [
        "# show the last 6 rows\n",
        "tail(sub_airline)"
      ]
    },
    {
      "cell_type": "markdown",
      "metadata": {
        "id": "048d9b5e-d7ac-4d24-b4c2-ae2370ef4e5f"
      },
      "source": [
        "<div class=\"alert alert-danger alertdanger\" style=\"margin-top: 20px\">\n",
        "<h1> Question #1: </h1>\n",
        "<b>Check the last 10 rows of data frame \"sub_airline\".</b>\n",
        "</div>\n"
      ]
    },
    {
      "cell_type": "code",
      "execution_count": null,
      "metadata": {
        "id": "1b98630f-95d8-4e15-b278-2cc3ee855d8e",
        "colab": {
          "base_uri": "https://localhost:8080/",
          "height": 431
        },
        "outputId": "d245ef61-47e8-4e16-bf7f-436e36d82258"
      },
      "outputs": [
        {
          "output_type": "display_data",
          "data": {
            "text/html": [
              "<table class=\"dataframe\">\n",
              "<caption>A tibble: 10 × 21</caption>\n",
              "<thead>\n",
              "\t<tr><th scope=col>Month</th><th scope=col>DayOfWeek</th><th scope=col>FlightDate</th><th scope=col>Reporting_Airline</th><th scope=col>Origin</th><th scope=col>Dest</th><th scope=col>CRSDepTime</th><th scope=col>CRSArrTime</th><th scope=col>DepTime</th><th scope=col>ArrTime</th><th scope=col>⋯</th><th scope=col>ArrDelayMinutes</th><th scope=col>CarrierDelay</th><th scope=col>WeatherDelay</th><th scope=col>NASDelay</th><th scope=col>SecurityDelay</th><th scope=col>LateAircraftDelay</th><th scope=col>DepDelay</th><th scope=col>DepDelayMinutes</th><th scope=col>DivDistance</th><th scope=col>DivArrDelay</th></tr>\n",
              "\t<tr><th scope=col>&lt;dbl&gt;</th><th scope=col>&lt;dbl&gt;</th><th scope=col>&lt;date&gt;</th><th scope=col>&lt;chr&gt;</th><th scope=col>&lt;chr&gt;</th><th scope=col>&lt;chr&gt;</th><th scope=col>&lt;chr&gt;</th><th scope=col>&lt;chr&gt;</th><th scope=col>&lt;chr&gt;</th><th scope=col>&lt;chr&gt;</th><th scope=col>⋯</th><th scope=col>&lt;dbl&gt;</th><th scope=col>&lt;dbl&gt;</th><th scope=col>&lt;dbl&gt;</th><th scope=col>&lt;dbl&gt;</th><th scope=col>&lt;dbl&gt;</th><th scope=col>&lt;dbl&gt;</th><th scope=col>&lt;dbl&gt;</th><th scope=col>&lt;dbl&gt;</th><th scope=col>&lt;dbl&gt;</th><th scope=col>&lt;dbl&gt;</th></tr>\n",
              "</thead>\n",
              "<tbody>\n",
              "\t<tr><td> 5</td><td>6</td><td>1988-05-14</td><td>AA</td><td>LAX</td><td>JFK</td><td>0830</td><td>1710</td><td>0829</td><td>1646</td><td>⋯</td><td> 0</td><td>NA</td><td>NA</td><td>NA</td><td>NA</td><td>NA</td><td>-1</td><td>0</td><td>NA</td><td>NA</td></tr>\n",
              "\t<tr><td> 1</td><td>7</td><td>1994-01-02</td><td>UA</td><td>LAX</td><td>JFK</td><td>0730</td><td>1548</td><td>0732</td><td>1549</td><td>⋯</td><td> 1</td><td>NA</td><td>NA</td><td>NA</td><td>NA</td><td>NA</td><td> 2</td><td>2</td><td>NA</td><td>NA</td></tr>\n",
              "\t<tr><td> 4</td><td>1</td><td>2000-04-17</td><td>UA</td><td>LAX</td><td>JFK</td><td>0900</td><td>1721</td><td>0859</td><td>1705</td><td>⋯</td><td> 0</td><td>NA</td><td>NA</td><td>NA</td><td>NA</td><td>NA</td><td>-1</td><td>0</td><td>NA</td><td>NA</td></tr>\n",
              "\t<tr><td> 6</td><td>7</td><td>2003-06-08</td><td>DL</td><td>LAX</td><td>JFK</td><td>1230</td><td>2052</td><td>1228</td><td>2052</td><td>⋯</td><td> 0</td><td>NA</td><td>NA</td><td>NA</td><td>NA</td><td>NA</td><td>-2</td><td>0</td><td>NA</td><td>NA</td></tr>\n",
              "\t<tr><td>10</td><td>6</td><td>1996-10-19</td><td>AA</td><td>LAX</td><td>JFK</td><td>0700</td><td>1509</td><td>0700</td><td>1610</td><td>⋯</td><td>61</td><td>NA</td><td>NA</td><td>NA</td><td>NA</td><td>NA</td><td> 0</td><td>0</td><td>NA</td><td>NA</td></tr>\n",
              "\t<tr><td>10</td><td>3</td><td>2015-10-21</td><td>DL</td><td>LAX</td><td>JFK</td><td>2255</td><td>0720</td><td>2254</td><td>0723</td><td>⋯</td><td> 3</td><td>NA</td><td>NA</td><td>NA</td><td>NA</td><td>NA</td><td>-1</td><td>0</td><td>NA</td><td>NA</td></tr>\n",
              "\t<tr><td> 7</td><td>5</td><td>2012-07-06</td><td>UA</td><td>LAX</td><td>JFK</td><td>0605</td><td>1422</td><td>0600</td><td>1427</td><td>⋯</td><td> 5</td><td>NA</td><td>NA</td><td>NA</td><td>NA</td><td>NA</td><td>-5</td><td>0</td><td>NA</td><td>NA</td></tr>\n",
              "\t<tr><td> 1</td><td>3</td><td>2010-01-06</td><td>DL</td><td>LAX</td><td>JFK</td><td>2125</td><td>0543</td><td>2118</td><td>0540</td><td>⋯</td><td> 0</td><td>NA</td><td>NA</td><td>NA</td><td>NA</td><td>NA</td><td>-7</td><td>0</td><td>NA</td><td>NA</td></tr>\n",
              "\t<tr><td> 5</td><td>5</td><td>2009-05-15</td><td>AA</td><td>LAX</td><td>JFK</td><td>2115</td><td>0535</td><td>2119</td><td>0533</td><td>⋯</td><td> 0</td><td>NA</td><td>NA</td><td>NA</td><td>NA</td><td>NA</td><td> 4</td><td>4</td><td>NA</td><td>NA</td></tr>\n",
              "\t<tr><td> 7</td><td>4</td><td>2000-07-06</td><td>AA</td><td>LAX</td><td>JFK</td><td>2200</td><td>0622</td><td>2158</td><td>0610</td><td>⋯</td><td> 0</td><td>NA</td><td>NA</td><td>NA</td><td>NA</td><td>NA</td><td>-2</td><td>0</td><td>NA</td><td>NA</td></tr>\n",
              "</tbody>\n",
              "</table>\n"
            ],
            "text/markdown": "\nA tibble: 10 × 21\n\n| Month &lt;dbl&gt; | DayOfWeek &lt;dbl&gt; | FlightDate &lt;date&gt; | Reporting_Airline &lt;chr&gt; | Origin &lt;chr&gt; | Dest &lt;chr&gt; | CRSDepTime &lt;chr&gt; | CRSArrTime &lt;chr&gt; | DepTime &lt;chr&gt; | ArrTime &lt;chr&gt; | ⋯ ⋯ | ArrDelayMinutes &lt;dbl&gt; | CarrierDelay &lt;dbl&gt; | WeatherDelay &lt;dbl&gt; | NASDelay &lt;dbl&gt; | SecurityDelay &lt;dbl&gt; | LateAircraftDelay &lt;dbl&gt; | DepDelay &lt;dbl&gt; | DepDelayMinutes &lt;dbl&gt; | DivDistance &lt;dbl&gt; | DivArrDelay &lt;dbl&gt; |\n|---|---|---|---|---|---|---|---|---|---|---|---|---|---|---|---|---|---|---|---|---|\n|  5 | 6 | 1988-05-14 | AA | LAX | JFK | 0830 | 1710 | 0829 | 1646 | ⋯ |  0 | NA | NA | NA | NA | NA | -1 | 0 | NA | NA |\n|  1 | 7 | 1994-01-02 | UA | LAX | JFK | 0730 | 1548 | 0732 | 1549 | ⋯ |  1 | NA | NA | NA | NA | NA |  2 | 2 | NA | NA |\n|  4 | 1 | 2000-04-17 | UA | LAX | JFK | 0900 | 1721 | 0859 | 1705 | ⋯ |  0 | NA | NA | NA | NA | NA | -1 | 0 | NA | NA |\n|  6 | 7 | 2003-06-08 | DL | LAX | JFK | 1230 | 2052 | 1228 | 2052 | ⋯ |  0 | NA | NA | NA | NA | NA | -2 | 0 | NA | NA |\n| 10 | 6 | 1996-10-19 | AA | LAX | JFK | 0700 | 1509 | 0700 | 1610 | ⋯ | 61 | NA | NA | NA | NA | NA |  0 | 0 | NA | NA |\n| 10 | 3 | 2015-10-21 | DL | LAX | JFK | 2255 | 0720 | 2254 | 0723 | ⋯ |  3 | NA | NA | NA | NA | NA | -1 | 0 | NA | NA |\n|  7 | 5 | 2012-07-06 | UA | LAX | JFK | 0605 | 1422 | 0600 | 1427 | ⋯ |  5 | NA | NA | NA | NA | NA | -5 | 0 | NA | NA |\n|  1 | 3 | 2010-01-06 | DL | LAX | JFK | 2125 | 0543 | 2118 | 0540 | ⋯ |  0 | NA | NA | NA | NA | NA | -7 | 0 | NA | NA |\n|  5 | 5 | 2009-05-15 | AA | LAX | JFK | 2115 | 0535 | 2119 | 0533 | ⋯ |  0 | NA | NA | NA | NA | NA |  4 | 4 | NA | NA |\n|  7 | 4 | 2000-07-06 | AA | LAX | JFK | 2200 | 0622 | 2158 | 0610 | ⋯ |  0 | NA | NA | NA | NA | NA | -2 | 0 | NA | NA |\n\n",
            "text/latex": "A tibble: 10 × 21\n\\begin{tabular}{lllllllllllllllllllll}\n Month & DayOfWeek & FlightDate & Reporting\\_Airline & Origin & Dest & CRSDepTime & CRSArrTime & DepTime & ArrTime & ⋯ & ArrDelayMinutes & CarrierDelay & WeatherDelay & NASDelay & SecurityDelay & LateAircraftDelay & DepDelay & DepDelayMinutes & DivDistance & DivArrDelay\\\\\n <dbl> & <dbl> & <date> & <chr> & <chr> & <chr> & <chr> & <chr> & <chr> & <chr> & ⋯ & <dbl> & <dbl> & <dbl> & <dbl> & <dbl> & <dbl> & <dbl> & <dbl> & <dbl> & <dbl>\\\\\n\\hline\n\t  5 & 6 & 1988-05-14 & AA & LAX & JFK & 0830 & 1710 & 0829 & 1646 & ⋯ &  0 & NA & NA & NA & NA & NA & -1 & 0 & NA & NA\\\\\n\t  1 & 7 & 1994-01-02 & UA & LAX & JFK & 0730 & 1548 & 0732 & 1549 & ⋯ &  1 & NA & NA & NA & NA & NA &  2 & 2 & NA & NA\\\\\n\t  4 & 1 & 2000-04-17 & UA & LAX & JFK & 0900 & 1721 & 0859 & 1705 & ⋯ &  0 & NA & NA & NA & NA & NA & -1 & 0 & NA & NA\\\\\n\t  6 & 7 & 2003-06-08 & DL & LAX & JFK & 1230 & 2052 & 1228 & 2052 & ⋯ &  0 & NA & NA & NA & NA & NA & -2 & 0 & NA & NA\\\\\n\t 10 & 6 & 1996-10-19 & AA & LAX & JFK & 0700 & 1509 & 0700 & 1610 & ⋯ & 61 & NA & NA & NA & NA & NA &  0 & 0 & NA & NA\\\\\n\t 10 & 3 & 2015-10-21 & DL & LAX & JFK & 2255 & 0720 & 2254 & 0723 & ⋯ &  3 & NA & NA & NA & NA & NA & -1 & 0 & NA & NA\\\\\n\t  7 & 5 & 2012-07-06 & UA & LAX & JFK & 0605 & 1422 & 0600 & 1427 & ⋯ &  5 & NA & NA & NA & NA & NA & -5 & 0 & NA & NA\\\\\n\t  1 & 3 & 2010-01-06 & DL & LAX & JFK & 2125 & 0543 & 2118 & 0540 & ⋯ &  0 & NA & NA & NA & NA & NA & -7 & 0 & NA & NA\\\\\n\t  5 & 5 & 2009-05-15 & AA & LAX & JFK & 2115 & 0535 & 2119 & 0533 & ⋯ &  0 & NA & NA & NA & NA & NA &  4 & 4 & NA & NA\\\\\n\t  7 & 4 & 2000-07-06 & AA & LAX & JFK & 2200 & 0622 & 2158 & 0610 & ⋯ &  0 & NA & NA & NA & NA & NA & -2 & 0 & NA & NA\\\\\n\\end{tabular}\n",
            "text/plain": [
              "   Month DayOfWeek FlightDate Reporting_Airline Origin Dest CRSDepTime\n",
              "1   5    6         1988-05-14 AA                LAX    JFK  0830      \n",
              "2   1    7         1994-01-02 UA                LAX    JFK  0730      \n",
              "3   4    1         2000-04-17 UA                LAX    JFK  0900      \n",
              "4   6    7         2003-06-08 DL                LAX    JFK  1230      \n",
              "5  10    6         1996-10-19 AA                LAX    JFK  0700      \n",
              "6  10    3         2015-10-21 DL                LAX    JFK  2255      \n",
              "7   7    5         2012-07-06 UA                LAX    JFK  0605      \n",
              "8   1    3         2010-01-06 DL                LAX    JFK  2125      \n",
              "9   5    5         2009-05-15 AA                LAX    JFK  2115      \n",
              "10  7    4         2000-07-06 AA                LAX    JFK  2200      \n",
              "   CRSArrTime DepTime ArrTime ⋯ ArrDelayMinutes CarrierDelay WeatherDelay\n",
              "1  1710       0829    1646    ⋯  0              NA           NA          \n",
              "2  1548       0732    1549    ⋯  1              NA           NA          \n",
              "3  1721       0859    1705    ⋯  0              NA           NA          \n",
              "4  2052       1228    2052    ⋯  0              NA           NA          \n",
              "5  1509       0700    1610    ⋯ 61              NA           NA          \n",
              "6  0720       2254    0723    ⋯  3              NA           NA          \n",
              "7  1422       0600    1427    ⋯  5              NA           NA          \n",
              "8  0543       2118    0540    ⋯  0              NA           NA          \n",
              "9  0535       2119    0533    ⋯  0              NA           NA          \n",
              "10 0622       2158    0610    ⋯  0              NA           NA          \n",
              "   NASDelay SecurityDelay LateAircraftDelay DepDelay DepDelayMinutes\n",
              "1  NA       NA            NA                -1       0              \n",
              "2  NA       NA            NA                 2       2              \n",
              "3  NA       NA            NA                -1       0              \n",
              "4  NA       NA            NA                -2       0              \n",
              "5  NA       NA            NA                 0       0              \n",
              "6  NA       NA            NA                -1       0              \n",
              "7  NA       NA            NA                -5       0              \n",
              "8  NA       NA            NA                -7       0              \n",
              "9  NA       NA            NA                 4       4              \n",
              "10 NA       NA            NA                -2       0              \n",
              "   DivDistance DivArrDelay\n",
              "1  NA          NA         \n",
              "2  NA          NA         \n",
              "3  NA          NA         \n",
              "4  NA          NA         \n",
              "5  NA          NA         \n",
              "6  NA          NA         \n",
              "7  NA          NA         \n",
              "8  NA          NA         \n",
              "9  NA          NA         \n",
              "10 NA          NA         "
            ]
          },
          "metadata": {}
        }
      ],
      "source": [
        "# Write your code below and press Shift+Enter to execute\n",
        "tail(sub_airline, 10)"
      ]
    },
    {
      "cell_type": "markdown",
      "metadata": {
        "id": "4e0fe083-6ac9-4807-86ab-976f6c9a649b"
      },
      "source": [
        "<details>\n",
        "    <summary>Click here for the solution.</summary>\n",
        "\n",
        "```r\n",
        "tail(sub_airline, 10)\n",
        "```\n",
        "    \n",
        "</details>\n"
      ]
    },
    {
      "cell_type": "markdown",
      "metadata": {
        "id": "1cc875a4-808f-4a5b-977b-78a85fd18323"
      },
      "source": [
        "## Preprocess Data\n",
        "\n",
        "Throughout this course, we are going to be focusing on flights from  LAX to JFK and predict the possibility of Amy's flight delays. So we also exclude flights that got cancelled or diverted. The previous example uses the final subset dataset `sub_airline`. However, there was some preprocessing done on the original dataset to get there. You can find the full dataset here: https://developer.ibm.com/technologies/artificial-intelligence/data/airline/.\n",
        "\n",
        "From this original dataset, we will show you how we got the `sub_airline` dataset. After downloading the original data with `download.file()` and reading the file with `read_csv()`:\n",
        "\n",
        "1. Firstly, we use `dplyr::filter()` to filter out all flights from `LAX` to `JFK`, and filter out the cancelled and diverted flights.\n",
        "2. Then, we use `dplyr::select()` to select the columns by a pre-determined headers list. The original dataset contains more than 100 columns, so we are only going to use a few of the columns such as `Month`, `DaysOfWeek`, `FlightDate`, `Reporting_Airline`, and so on.\n",
        "\n",
        "The below code is to show you how to subset a big dataset. The code is here for your reference. Feel free to play around with it and modify the columns. Remember **not** to run the below code in Skills Network Labs. The data size too big and it is better run to run locally so that Skills Network Labs does not freeze or lag.\n"
      ]
    },
    {
      "cell_type": "raw",
      "metadata": {
        "id": "b9fa176d-b469-4711-8468-58aba05589bb"
      },
      "source": [
        "# THIS CELL TAKES LONGER TO RUN\n",
        "# PLEASE RUN THIS LOCALLY, OR IT MAY FREEZE YOUR SKILLS NETWORK LABS KERNEL\n",
        "# Download 2 million dataset\n",
        "\n",
        "# url where the data is located\n",
        "url <- \"https://dax-cdn.cdn.appdomain.cloud/dax-airline/1.0.1/airline_2m.tar.gz\"\n",
        "\n",
        "# download the file\n",
        "download.file(url, destfile = \"airline_2m.tar.gz\")\n",
        "\n",
        "# untar the file so we can get the csv only\n",
        "untar(\"airline_2m.tar.gz\")\n",
        "\n",
        "# read_csv only\n",
        "airlines <- read_csv(\"airline_2m.csv\",\n",
        "                     col_types = cols(\n",
        "                      'DivDistance' = col_number(),\n",
        "                      'Div1Airport' = col_character(),\n",
        "                      'Div1AirportID' = col_character(),\n",
        "                      'Div1AirportSeqID' = col_character(),\n",
        "                      'Div1WheelsOn' = col_character(),\n",
        "                      'Div1TotalGTime' = col_number(),\n",
        "                      'Div1LongestGTime' = col_number(),\n",
        "                      'DivReachedDest' = col_number(),\n",
        "                      'DivActualElapsedTime' = col_number(),\n",
        "                      'DivArrDelay' = col_number(),\n",
        "                      'Div1WheelsOff'= col_character(),\n",
        "                      'Div1TailNum' = col_character(),\n",
        "                      'Div2Airport' = col_character(),\n",
        "                      'Div2AirportID' = col_character(),\n",
        "                      'Div2AirportSeqID' = col_character(),\n",
        "                      'Div2WheelsOn' = col_character(),\n",
        "                      'Div2TotalGTime' = col_number(),\n",
        "                      'Div2LongestGTime' = col_number(),\n",
        "                      'Div2WheelsOff' = col_character(),\n",
        "                      'Div2TailNum' = col_character()\n",
        "                      ))\n",
        "# We are going to be focusing on flights from  LAX to JFK and we will exclude\n",
        "# flights that got cancelled or diverted\n",
        "# we are also going to get only useful columns\n",
        "sub_airline <- airlines %>%\n",
        "  filter(Origin == \"LAX\", Dest == \"JFK\",\n",
        "         Cancelled != 1, Diverted != 1) %>%\n",
        "  select(Month, DayOfWeek, FlightDate,\n",
        "         Reporting_Airline, Origin, Dest,\n",
        "         CRSDepTime, CRSArrTime, DepTime,\n",
        "         ArrTime, ArrDelay, ArrDelayMinutes,\n",
        "         CarrierDelay, WeatherDelay, NASDelay,\n",
        "         SecurityDelay, LateAircraftDelay, DepDelay,\n",
        "         DepDelayMinutes, DivDistance, DivArrDelay)"
      ]
    },
    {
      "cell_type": "markdown",
      "metadata": {
        "id": "ec29218d-468b-44f0-b0a1-a13b2d5c0fee"
      },
      "source": [
        "Print and recheck our subset airline data using `dim()` on `sub_airline`.\n"
      ]
    },
    {
      "cell_type": "markdown",
      "metadata": {
        "id": "a040d9d3-89ec-4ce8-8aa9-3a62ca756e4b"
      },
      "source": [
        "This subset dataframe should include 2855 rows and 21 columns.\n"
      ]
    },
    {
      "cell_type": "code",
      "execution_count": null,
      "metadata": {
        "id": "5006f442-ebff-49f9-bdba-998a57fd67d1",
        "colab": {
          "base_uri": "https://localhost:8080/",
          "height": 34
        },
        "outputId": "38909369-3abd-4382-948d-7afab3b4069a"
      },
      "outputs": [
        {
          "output_type": "display_data",
          "data": {
            "text/html": [
              "<style>\n",
              ".list-inline {list-style: none; margin:0; padding: 0}\n",
              ".list-inline>li {display: inline-block}\n",
              ".list-inline>li:not(:last-child)::after {content: \"\\00b7\"; padding: 0 .5ex}\n",
              "</style>\n",
              "<ol class=list-inline><li>2855</li><li>21</li></ol>\n"
            ],
            "text/markdown": "1. 2855\n2. 21\n\n\n",
            "text/latex": "\\begin{enumerate*}\n\\item 2855\n\\item 21\n\\end{enumerate*}\n",
            "text/plain": [
              "[1] 2855   21"
            ]
          },
          "metadata": {}
        }
      ],
      "source": [
        "# Check dimensions of the dataset\n",
        "dim(sub_airline)"
      ]
    },
    {
      "cell_type": "markdown",
      "metadata": {
        "id": "7bfdcbfc-4b86-4b54-8a50-9d01fed38a27"
      },
      "source": [
        " <div class=\"alert alert-danger alertdanger\" style=\"margin-top: 20px\">\n",
        "<h1> Question #2: </h1>\n",
        "<b>Find the name of the columns of the dataframe</b>\n",
        "</div>\n"
      ]
    },
    {
      "cell_type": "code",
      "execution_count": null,
      "metadata": {
        "id": "6288be61-47e3-4ee2-941d-7245bb1a7c3e",
        "colab": {
          "base_uri": "https://localhost:8080/",
          "height": 52
        },
        "outputId": "a0055140-7266-4c1e-e6ae-f138f0b270f1"
      },
      "outputs": [
        {
          "output_type": "display_data",
          "data": {
            "text/html": [
              "<style>\n",
              ".list-inline {list-style: none; margin:0; padding: 0}\n",
              ".list-inline>li {display: inline-block}\n",
              ".list-inline>li:not(:last-child)::after {content: \"\\00b7\"; padding: 0 .5ex}\n",
              "</style>\n",
              "<ol class=list-inline><li>'Month'</li><li>'DayOfWeek'</li><li>'FlightDate'</li><li>'Reporting_Airline'</li><li>'Origin'</li><li>'Dest'</li><li>'CRSDepTime'</li><li>'CRSArrTime'</li><li>'DepTime'</li><li>'ArrTime'</li><li>'ArrDelay'</li><li>'ArrDelayMinutes'</li><li>'CarrierDelay'</li><li>'WeatherDelay'</li><li>'NASDelay'</li><li>'SecurityDelay'</li><li>'LateAircraftDelay'</li><li>'DepDelay'</li><li>'DepDelayMinutes'</li><li>'DivDistance'</li><li>'DivArrDelay'</li></ol>\n"
            ],
            "text/markdown": "1. 'Month'\n2. 'DayOfWeek'\n3. 'FlightDate'\n4. 'Reporting_Airline'\n5. 'Origin'\n6. 'Dest'\n7. 'CRSDepTime'\n8. 'CRSArrTime'\n9. 'DepTime'\n10. 'ArrTime'\n11. 'ArrDelay'\n12. 'ArrDelayMinutes'\n13. 'CarrierDelay'\n14. 'WeatherDelay'\n15. 'NASDelay'\n16. 'SecurityDelay'\n17. 'LateAircraftDelay'\n18. 'DepDelay'\n19. 'DepDelayMinutes'\n20. 'DivDistance'\n21. 'DivArrDelay'\n\n\n",
            "text/latex": "\\begin{enumerate*}\n\\item 'Month'\n\\item 'DayOfWeek'\n\\item 'FlightDate'\n\\item 'Reporting\\_Airline'\n\\item 'Origin'\n\\item 'Dest'\n\\item 'CRSDepTime'\n\\item 'CRSArrTime'\n\\item 'DepTime'\n\\item 'ArrTime'\n\\item 'ArrDelay'\n\\item 'ArrDelayMinutes'\n\\item 'CarrierDelay'\n\\item 'WeatherDelay'\n\\item 'NASDelay'\n\\item 'SecurityDelay'\n\\item 'LateAircraftDelay'\n\\item 'DepDelay'\n\\item 'DepDelayMinutes'\n\\item 'DivDistance'\n\\item 'DivArrDelay'\n\\end{enumerate*}\n",
            "text/plain": [
              " [1] \"Month\"             \"DayOfWeek\"         \"FlightDate\"       \n",
              " [4] \"Reporting_Airline\" \"Origin\"            \"Dest\"             \n",
              " [7] \"CRSDepTime\"        \"CRSArrTime\"        \"DepTime\"          \n",
              "[10] \"ArrTime\"           \"ArrDelay\"          \"ArrDelayMinutes\"  \n",
              "[13] \"CarrierDelay\"      \"WeatherDelay\"      \"NASDelay\"         \n",
              "[16] \"SecurityDelay\"     \"LateAircraftDelay\" \"DepDelay\"         \n",
              "[19] \"DepDelayMinutes\"   \"DivDistance\"       \"DivArrDelay\"      "
            ]
          },
          "metadata": {}
        }
      ],
      "source": [
        "# Write your code below and press Shift+Enter to execute\n",
        "colnames(sub_airline)"
      ]
    },
    {
      "cell_type": "markdown",
      "metadata": {
        "id": "91ec782e-5648-4ae3-843b-a70be0183758"
      },
      "source": [
        "<details>\n",
        "    <summary>Click here for the solution.</summary>\n",
        "    \n",
        "```r\n",
        "colnames(sub_airline)\n",
        "```\n",
        "    \n",
        "</details>\n"
      ]
    },
    {
      "cell_type": "markdown",
      "metadata": {
        "id": "18826573-26b6-4bee-8dd5-1a3567bb9f50"
      },
      "source": [
        "<h2>Save Dataset</h2>\n",
        "<p>\n",
        "Correspondingly, \"readr\" enables us to save the dataset to csv by using the <code>write_csv()</code> method, you can add the file path and name along with quotation marks in the brackets.\n",
        "</p>\n",
        "<p>\n",
        "For example, if you wanted to save the dataframe <b>sub_airline</b> as <b>lax_to_jfk.csv</b> to your local machine in the current directory, you can use the syntax below:\n",
        "</p>\n"
      ]
    },
    {
      "cell_type": "code",
      "execution_count": null,
      "metadata": {
        "id": "3bb1d264-9756-4a4f-bb70-5ea4f3920720"
      },
      "outputs": [],
      "source": [
        "write_csv(sub_airline, \"lax_to_jfk.csv\")"
      ]
    },
    {
      "cell_type": "markdown",
      "metadata": {
        "id": "d8ff1edd-694f-4ed7-805a-5f7dd91c7803"
      },
      "source": [
        "<h2>Read/Save Other Data Formats</h2>\n",
        "\n",
        "We can also read and save other file formats, we can use similar functions to **`read_csv()`** and **`write_csv()`** for other data formats, the functions are listed in the following table:\n"
      ]
    },
    {
      "cell_type": "markdown",
      "metadata": {
        "id": "c9971698-c0cb-4f3d-8c6b-d5ddbdc0fcf4"
      },
      "source": [
        "| Data Format  | Read           | Save             |\n",
        "| ------------- |:--------------:| ----------------:|\n",
        "| csv           | `read_csv()`  |`write_csv()`     |\n",
        "| tsv           | `read_tsv()`  |`write_tsv()`     |\n",
        "| delimiter     |`read_delim()` |`write_delim()`   |\n",
        "| ...           |   ...          |       ...        |\n",
        "\n",
        "You can find more functions from the \"readr\" documentation [here](https://readr.tidyverse.org/?utm_medium=Exinfluencer&utm_source=Exinfluencer&utm_content=000026UJ&utm_term=10006555&utm_id=NA-SkillsNetwork-Channel-SkillsNetworkCoursesIBMDA0151ENSkillsNetwork926-2022-01-01).\n"
      ]
    },
    {
      "cell_type": "markdown",
      "metadata": {
        "id": "aa9f72f0-9122-49d5-b778-5bd57975d180"
      },
      "source": [
        "<a id=\"cell2\"></a>\n",
        "<h1 id=\"basic_insight\">2. Basic Insights of the Dataset</h1>\n",
        "<p>\n",
        "After reading data into a dataframe, it is time for us to explore the dataset a little more.<br>\n",
        "There are several ways to obtain essential insights of the data to help us better understand our dataset.\n",
        "</p>\n"
      ]
    },
    {
      "cell_type": "markdown",
      "metadata": {
        "id": "92ba8a41-fae9-49e8-ad70-dce8fb7e49a7"
      },
      "source": [
        "## Data Types\n",
        "\n",
        "Data has a variety of types.\n",
        "\n",
        "The main types stored in R are: `numeric`, `integer`, `complex`, `logical`, `character`. In order to better learn about each attribute, it is always good for us to know the data type of each column.\n",
        "\n",
        "Let's check by using `sapply()` to apply  `typeof` to every column in the dataframe `sub_airline`:\n"
      ]
    },
    {
      "cell_type": "code",
      "execution_count": null,
      "metadata": {
        "id": "93584ec6-3995-4b2e-b03b-8da9eefdab40",
        "colab": {
          "base_uri": "https://localhost:8080/",
          "height": 69
        },
        "outputId": "cbeed905-317d-43c5-a785-37d5f80c8265"
      },
      "outputs": [
        {
          "output_type": "display_data",
          "data": {
            "text/html": [
              "<style>\n",
              ".dl-inline {width: auto; margin:0; padding: 0}\n",
              ".dl-inline>dt, .dl-inline>dd {float: none; width: auto; display: inline-block}\n",
              ".dl-inline>dt::after {content: \":\\0020\"; padding-right: .5ex}\n",
              ".dl-inline>dt:not(:first-of-type) {padding-left: .5ex}\n",
              "</style><dl class=dl-inline><dt>Month</dt><dd>'double'</dd><dt>DayOfWeek</dt><dd>'double'</dd><dt>FlightDate</dt><dd>'double'</dd><dt>Reporting_Airline</dt><dd>'character'</dd><dt>Origin</dt><dd>'character'</dd><dt>Dest</dt><dd>'character'</dd><dt>CRSDepTime</dt><dd>'character'</dd><dt>CRSArrTime</dt><dd>'character'</dd><dt>DepTime</dt><dd>'character'</dd><dt>ArrTime</dt><dd>'character'</dd><dt>ArrDelay</dt><dd>'double'</dd><dt>ArrDelayMinutes</dt><dd>'double'</dd><dt>CarrierDelay</dt><dd>'double'</dd><dt>WeatherDelay</dt><dd>'double'</dd><dt>NASDelay</dt><dd>'double'</dd><dt>SecurityDelay</dt><dd>'double'</dd><dt>LateAircraftDelay</dt><dd>'double'</dd><dt>DepDelay</dt><dd>'double'</dd><dt>DepDelayMinutes</dt><dd>'double'</dd><dt>DivDistance</dt><dd>'double'</dd><dt>DivArrDelay</dt><dd>'double'</dd></dl>\n"
            ],
            "text/markdown": "Month\n:   'double'DayOfWeek\n:   'double'FlightDate\n:   'double'Reporting_Airline\n:   'character'Origin\n:   'character'Dest\n:   'character'CRSDepTime\n:   'character'CRSArrTime\n:   'character'DepTime\n:   'character'ArrTime\n:   'character'ArrDelay\n:   'double'ArrDelayMinutes\n:   'double'CarrierDelay\n:   'double'WeatherDelay\n:   'double'NASDelay\n:   'double'SecurityDelay\n:   'double'LateAircraftDelay\n:   'double'DepDelay\n:   'double'DepDelayMinutes\n:   'double'DivDistance\n:   'double'DivArrDelay\n:   'double'\n\n",
            "text/latex": "\\begin{description*}\n\\item[Month] 'double'\n\\item[DayOfWeek] 'double'\n\\item[FlightDate] 'double'\n\\item[Reporting\\textbackslash{}\\_Airline] 'character'\n\\item[Origin] 'character'\n\\item[Dest] 'character'\n\\item[CRSDepTime] 'character'\n\\item[CRSArrTime] 'character'\n\\item[DepTime] 'character'\n\\item[ArrTime] 'character'\n\\item[ArrDelay] 'double'\n\\item[ArrDelayMinutes] 'double'\n\\item[CarrierDelay] 'double'\n\\item[WeatherDelay] 'double'\n\\item[NASDelay] 'double'\n\\item[SecurityDelay] 'double'\n\\item[LateAircraftDelay] 'double'\n\\item[DepDelay] 'double'\n\\item[DepDelayMinutes] 'double'\n\\item[DivDistance] 'double'\n\\item[DivArrDelay] 'double'\n\\end{description*}\n",
            "text/plain": [
              "            Month         DayOfWeek        FlightDate Reporting_Airline \n",
              "         \"double\"          \"double\"          \"double\"       \"character\" \n",
              "           Origin              Dest        CRSDepTime        CRSArrTime \n",
              "      \"character\"       \"character\"       \"character\"       \"character\" \n",
              "          DepTime           ArrTime          ArrDelay   ArrDelayMinutes \n",
              "      \"character\"       \"character\"          \"double\"          \"double\" \n",
              "     CarrierDelay      WeatherDelay          NASDelay     SecurityDelay \n",
              "         \"double\"          \"double\"          \"double\"          \"double\" \n",
              "LateAircraftDelay          DepDelay   DepDelayMinutes       DivDistance \n",
              "         \"double\"          \"double\"          \"double\"          \"double\" \n",
              "      DivArrDelay \n",
              "         \"double\" "
            ]
          },
          "metadata": {}
        }
      ],
      "source": [
        "sapply(sub_airline, typeof)"
      ]
    },
    {
      "cell_type": "markdown",
      "metadata": {
        "id": "54a1e9c2-93e1-4564-80e5-103fcb93f7fc"
      },
      "source": [
        "**Numeric and Integer Types**\n",
        "\n",
        "Decimal values are called `numeric` in R. It is the default computational data type. If we assign a decimal value to a variable x as follows, x will be of numeric type.\n"
      ]
    },
    {
      "cell_type": "code",
      "execution_count": null,
      "metadata": {
        "id": "6718867c-476f-4bb0-a1eb-119c62588717",
        "colab": {
          "base_uri": "https://localhost:8080/",
          "height": 34
        },
        "outputId": "c9c1e129-6e2c-459c-ffc2-633485adc2a6"
      },
      "outputs": [
        {
          "output_type": "display_data",
          "data": {
            "text/html": [
              "'numeric'"
            ],
            "text/markdown": "'numeric'",
            "text/latex": "'numeric'",
            "text/plain": [
              "[1] \"numeric\""
            ]
          },
          "metadata": {}
        }
      ],
      "source": [
        "x = 10.5       # assign a decimal value\n",
        "class(x)       # print the class name of x, which should be numeric"
      ]
    },
    {
      "cell_type": "markdown",
      "metadata": {
        "id": "0e71d1c2-fedc-4f55-a6be-1cc922cfaf9f"
      },
      "source": [
        "Furthermore, even if we assign an integer to a variable k, it is still being saved as a numeric value.\n"
      ]
    },
    {
      "cell_type": "code",
      "execution_count": null,
      "metadata": {
        "id": "ca667855-c13b-49c6-bf7b-877a81c7b7ad",
        "colab": {
          "base_uri": "https://localhost:8080/",
          "height": 34
        },
        "outputId": "e37f8187-4e07-44b8-d0c4-03b843cf1a50"
      },
      "outputs": [
        {
          "output_type": "display_data",
          "data": {
            "text/html": [
              "'numeric'"
            ],
            "text/markdown": "'numeric'",
            "text/latex": "'numeric'",
            "text/plain": [
              "[1] \"numeric\""
            ]
          },
          "metadata": {}
        }
      ],
      "source": [
        "k = 1          # assign an integer value\n",
        "class(x)       # print the class name of x, which should be numeric"
      ]
    },
    {
      "cell_type": "markdown",
      "metadata": {
        "id": "7f373cd2-0808-4e69-9a64-1e77c27aee0a"
      },
      "source": [
        "In order to create an integer variable in R, we invoke the integer function. We can be assured that y is indeed an integer by applying the is.integer function.\n"
      ]
    },
    {
      "cell_type": "code",
      "execution_count": null,
      "metadata": {
        "id": "238fdf6b-38e4-4527-b659-8bf5a2a40436",
        "colab": {
          "base_uri": "https://localhost:8080/",
          "height": 34
        },
        "outputId": "d37e5626-355a-4b97-caa7-bcb430806eb1"
      },
      "outputs": [
        {
          "output_type": "display_data",
          "data": {
            "text/html": [
              "'integer'"
            ],
            "text/markdown": "'integer'",
            "text/latex": "'integer'",
            "text/plain": [
              "[1] \"integer\""
            ]
          },
          "metadata": {}
        }
      ],
      "source": [
        "y = as.integer(3)        # assign a integer value\n",
        "class(y)                 # print the class name of y, which should be integer"
      ]
    },
    {
      "cell_type": "markdown",
      "metadata": {
        "id": "f287d07e-0f23-4192-8e02-dbada9437bea"
      },
      "source": [
        "**Complex Type**\n",
        "\n",
        "A complex value in R is defined via the pure imaginary value $i$ (`0i` in R).\n"
      ]
    },
    {
      "cell_type": "code",
      "execution_count": null,
      "metadata": {
        "id": "dbcb18ae-dfb9-4484-8fc5-1606bc82a216",
        "colab": {
          "base_uri": "https://localhost:8080/",
          "height": 34
        },
        "outputId": "1508539b-89d9-4a94-c3b1-6cb77d4af858"
      },
      "outputs": [
        {
          "output_type": "display_data",
          "data": {
            "text/html": [
              "'complex'"
            ],
            "text/markdown": "'complex'",
            "text/latex": "'complex'",
            "text/plain": [
              "[1] \"complex\""
            ]
          },
          "metadata": {}
        }
      ],
      "source": [
        "z = 0i\n",
        "class(z)"
      ]
    },
    {
      "cell_type": "markdown",
      "metadata": {
        "id": "1d0b585b-7311-495b-86d5-b9d8941c6a5f"
      },
      "source": [
        "**Logical Type**\n",
        "\n",
        "A logical value is often created via comparison between variables, such as True, False.\n"
      ]
    },
    {
      "cell_type": "code",
      "execution_count": null,
      "metadata": {
        "id": "c661f4ba-50de-435f-8020-0329243b2afc",
        "colab": {
          "base_uri": "https://localhost:8080/",
          "height": 34
        },
        "outputId": "9ce00cf3-ebc3-4d85-97d0-39b484c1f4d0"
      },
      "outputs": [
        {
          "output_type": "display_data",
          "data": {
            "text/html": [
              "'logical'"
            ],
            "text/markdown": "'logical'",
            "text/latex": "'logical'",
            "text/plain": [
              "[1] \"logical\""
            ]
          },
          "metadata": {}
        }
      ],
      "source": [
        "logical_values = c(TRUE, T, FALSE, F)\n",
        "class(logical_values)"
      ]
    },
    {
      "cell_type": "markdown",
      "metadata": {
        "id": "4c65aba5-7be0-4e52-810f-f4751a1c2e8c"
      },
      "source": [
        "**Character Type**\n",
        "\n",
        "A character object is used to represent string values in R.\n"
      ]
    },
    {
      "cell_type": "code",
      "execution_count": null,
      "metadata": {
        "id": "4b9207c6-2bd8-4a7e-a7a9-5639b907a46a",
        "colab": {
          "base_uri": "https://localhost:8080/",
          "height": 34
        },
        "outputId": "a69d5287-638d-4aeb-9e45-ba01e8dda2bb"
      },
      "outputs": [
        {
          "output_type": "display_data",
          "data": {
            "text/html": [
              "'character'"
            ],
            "text/markdown": "'character'",
            "text/latex": "'character'",
            "text/plain": [
              "[1] \"character\""
            ]
          },
          "metadata": {}
        }
      ],
      "source": [
        "class('this is a character')"
      ]
    },
    {
      "cell_type": "markdown",
      "metadata": {
        "id": "361c8f10-7400-449d-aec0-0571348108f3"
      },
      "source": [
        "## Dplyr for Data Wrangling and Transformation\n",
        "\n",
        "The dplyr package is very useful to transform data and get basic insights from the dataset. The most important functions are:\n",
        "* `select()`\n",
        "* `filter()`\n",
        "* `summarize()`\n",
        "* `arrange()`\n",
        "* `mutate()`\n",
        "* `group_by()`\n"
      ]
    },
    {
      "cell_type": "markdown",
      "metadata": {
        "id": "fbace745-d918-4bea-99d8-8f4a48d6ae02"
      },
      "source": [
        "### Pipe\n",
        "Before we dive deeper into using some of the functions of dyplr, we first introduce the **pipe** operator **`%>%`**. The pipe operator allows us to chain together dplyr data wrangling functions.\n",
        "\n",
        "An advantage of using pipe is that it replaces having messy nested functions that can be difficult to interpret like:\n"
      ]
    },
    {
      "cell_type": "raw",
      "metadata": {
        "id": "b0a0568d-cf51-4c3a-bc27-73c88041ef3b"
      },
      "source": [
        "summarize(group_by(filter(sub_airline, Month == 1), Reporting_Airline), avg_carrier_delay = mean(CarrierDelay, na.rm = TRUE))"
      ]
    },
    {
      "cell_type": "markdown",
      "metadata": {
        "id": "f7d28555-64f3-426a-99e8-d99e038107b5"
      },
      "source": [
        "The same code can be written using pipe and makes it much easier to understand:\n"
      ]
    },
    {
      "cell_type": "raw",
      "metadata": {
        "id": "ac9a6577-8e62-4056-95b1-ba1b5b3ecb8d"
      },
      "source": [
        "sub_airline %>%\n",
        "  filter(Month == 1) %>%\n",
        "  group_by(Reporting_Airline) %>%\n",
        "  summarize(avg_carrier_delay = mean(CarrierDelay, na.rm = TRUE))"
      ]
    },
    {
      "cell_type": "markdown",
      "metadata": {
        "id": "004a77a6-64b6-4413-b5ae-8ca851eb73b9"
      },
      "source": [
        "When interpreting the above lines of code, the pipe operator can be read as “then”.\n",
        "The **`%>%`** operator allows us to go from one step in dplyr to the next easily, so the above example can clearily be interpreted as:\n",
        "* **`filter`** our data frame for month 1 *then*\n",
        "* **`group_by`** the reporting airline types *then*\n",
        "* **`summarize`** the average `CarrierDelay` for each airline. The final output is the average `CarrierDelay` for each `Reporting_Airline` in month 1.\n"
      ]
    },
    {
      "cell_type": "markdown",
      "metadata": {
        "id": "1e4f883f-849d-4bbd-9dc7-14afee28968a"
      },
      "source": [
        "### Summarize\n",
        "\n",
        "Now, let's go over some examples using basic dplyr functions with pipe.\n",
        "If we would like to get a statistical summary of a column, such as count, column mean value, column standard deviation, etc., we can use the `summarize()` method (can also use `summarise()`).\n"
      ]
    },
    {
      "cell_type": "markdown",
      "metadata": {
        "id": "149e0093-04f8-4c0f-9097-7090e0f93a8d"
      },
      "source": [
        "This method will provide various summary statistics, excluding `NA` (Not Available) values.\n"
      ]
    },
    {
      "cell_type": "code",
      "execution_count": null,
      "metadata": {
        "id": "78bbc321-1762-45c7-a0bc-57c9e8aa7faa",
        "colab": {
          "base_uri": "https://localhost:8080/",
          "height": 380
        },
        "outputId": "4a8c6f6d-92f3-4222-cd09-0aaa77668f78"
      },
      "outputs": [
        {
          "output_type": "display_data",
          "data": {
            "text/html": [
              "<table class=\"dataframe\">\n",
              "<caption>A tibble: 9 × 2</caption>\n",
              "<thead>\n",
              "\t<tr><th scope=col>Reporting_Airline</th><th scope=col>avg_carrier_delay</th></tr>\n",
              "\t<tr><th scope=col>&lt;chr&gt;</th><th scope=col>&lt;dbl&gt;</th></tr>\n",
              "</thead>\n",
              "<tbody>\n",
              "\t<tr><td>AA    </td><td>19.643478</td></tr>\n",
              "\t<tr><td>AS    </td><td>14.833333</td></tr>\n",
              "\t<tr><td>B6    </td><td>11.466667</td></tr>\n",
              "\t<tr><td>DL    </td><td>24.912088</td></tr>\n",
              "\t<tr><td>HP    </td><td> 3.333333</td></tr>\n",
              "\t<tr><td>PA (1)</td><td>      NaN</td></tr>\n",
              "\t<tr><td>TW    </td><td>      NaN</td></tr>\n",
              "\t<tr><td>UA    </td><td>14.509804</td></tr>\n",
              "\t<tr><td>VX    </td><td>14.941176</td></tr>\n",
              "</tbody>\n",
              "</table>\n"
            ],
            "text/markdown": "\nA tibble: 9 × 2\n\n| Reporting_Airline &lt;chr&gt; | avg_carrier_delay &lt;dbl&gt; |\n|---|---|\n| AA     | 19.643478 |\n| AS     | 14.833333 |\n| B6     | 11.466667 |\n| DL     | 24.912088 |\n| HP     |  3.333333 |\n| PA (1) |       NaN |\n| TW     |       NaN |\n| UA     | 14.509804 |\n| VX     | 14.941176 |\n\n",
            "text/latex": "A tibble: 9 × 2\n\\begin{tabular}{ll}\n Reporting\\_Airline & avg\\_carrier\\_delay\\\\\n <chr> & <dbl>\\\\\n\\hline\n\t AA     & 19.643478\\\\\n\t AS     & 14.833333\\\\\n\t B6     & 11.466667\\\\\n\t DL     & 24.912088\\\\\n\t HP     &  3.333333\\\\\n\t PA (1) &       NaN\\\\\n\t TW     &       NaN\\\\\n\t UA     & 14.509804\\\\\n\t VX     & 14.941176\\\\\n\\end{tabular}\n",
            "text/plain": [
              "  Reporting_Airline avg_carrier_delay\n",
              "1 AA                19.643478        \n",
              "2 AS                14.833333        \n",
              "3 B6                11.466667        \n",
              "4 DL                24.912088        \n",
              "5 HP                 3.333333        \n",
              "6 PA (1)                  NaN        \n",
              "7 TW                      NaN        \n",
              "8 UA                14.509804        \n",
              "9 VX                14.941176        "
            ]
          },
          "metadata": {}
        }
      ],
      "source": [
        "# group_by / summarize workflow example\n",
        "sub_airline %>%\n",
        "  group_by(Reporting_Airline) %>%\n",
        "  summarize(avg_carrier_delay = mean(CarrierDelay, na.rm = TRUE)) # use mean value"
      ]
    },
    {
      "cell_type": "markdown",
      "metadata": {
        "id": "791f4206-1ecd-456d-97d0-160ac30c3fca"
      },
      "source": [
        "The statistical metrics can tell the data scientist if there are mathematical issues that may exist in a particular column, such as extreme outliers and large deviations. The data scientist may have to address these issues later. The above example used `mean()` to return the mean value of arrival delay, you may also use `sd` for standard deviation, `median`, etc.\n"
      ]
    },
    {
      "cell_type": "code",
      "execution_count": null,
      "metadata": {
        "id": "cfcb2aee-0cb9-4da0-8d49-7383da598f11",
        "colab": {
          "base_uri": "https://localhost:8080/",
          "height": 380
        },
        "outputId": "2c49012e-e45d-40b3-f1f9-ccbff3fc377d"
      },
      "outputs": [
        {
          "output_type": "display_data",
          "data": {
            "text/html": [
              "<table class=\"dataframe\">\n",
              "<caption>A tibble: 9 × 2</caption>\n",
              "<thead>\n",
              "\t<tr><th scope=col>Reporting_Airline</th><th scope=col>sd_carrier_delay</th></tr>\n",
              "\t<tr><th scope=col>&lt;chr&gt;</th><th scope=col>&lt;dbl&gt;</th></tr>\n",
              "</thead>\n",
              "<tbody>\n",
              "\t<tr><td>AA    </td><td>36.047287</td></tr>\n",
              "\t<tr><td>AS    </td><td>19.039831</td></tr>\n",
              "\t<tr><td>B6    </td><td>29.040280</td></tr>\n",
              "\t<tr><td>DL    </td><td>99.775375</td></tr>\n",
              "\t<tr><td>HP    </td><td> 8.164966</td></tr>\n",
              "\t<tr><td>PA (1)</td><td>       NA</td></tr>\n",
              "\t<tr><td>TW    </td><td>       NA</td></tr>\n",
              "\t<tr><td>UA    </td><td>35.396821</td></tr>\n",
              "\t<tr><td>VX    </td><td>39.813917</td></tr>\n",
              "</tbody>\n",
              "</table>\n"
            ],
            "text/markdown": "\nA tibble: 9 × 2\n\n| Reporting_Airline &lt;chr&gt; | sd_carrier_delay &lt;dbl&gt; |\n|---|---|\n| AA     | 36.047287 |\n| AS     | 19.039831 |\n| B6     | 29.040280 |\n| DL     | 99.775375 |\n| HP     |  8.164966 |\n| PA (1) |        NA |\n| TW     |        NA |\n| UA     | 35.396821 |\n| VX     | 39.813917 |\n\n",
            "text/latex": "A tibble: 9 × 2\n\\begin{tabular}{ll}\n Reporting\\_Airline & sd\\_carrier\\_delay\\\\\n <chr> & <dbl>\\\\\n\\hline\n\t AA     & 36.047287\\\\\n\t AS     & 19.039831\\\\\n\t B6     & 29.040280\\\\\n\t DL     & 99.775375\\\\\n\t HP     &  8.164966\\\\\n\t PA (1) &        NA\\\\\n\t TW     &        NA\\\\\n\t UA     & 35.396821\\\\\n\t VX     & 39.813917\\\\\n\\end{tabular}\n",
            "text/plain": [
              "  Reporting_Airline sd_carrier_delay\n",
              "1 AA                36.047287       \n",
              "2 AS                19.039831       \n",
              "3 B6                29.040280       \n",
              "4 DL                99.775375       \n",
              "5 HP                 8.164966       \n",
              "6 PA (1)                   NA       \n",
              "7 TW                       NA       \n",
              "8 UA                35.396821       \n",
              "9 VX                39.813917       "
            ]
          },
          "metadata": {}
        }
      ],
      "source": [
        "# group_by / summarise workflow example\n",
        "sub_airline %>%\n",
        "  group_by(Reporting_Airline) %>%\n",
        "  summarize(sd_carrier_delay = sd(CarrierDelay, na.rm = TRUE)) # use standard deviation"
      ]
    },
    {
      "cell_type": "markdown",
      "metadata": {
        "id": "8358045b-4e5a-40bc-a0c7-32a02bdb2347"
      },
      "source": [
        "<div class=\"alert alert-danger alertdanger\" style=\"margin-top: 20px\">\n",
        "<h1> Question #3: </h1>\n",
        "\n",
        "Using `sub_airline`, get the mean of `ArrDelay` for each `Reporting_Airline`.\n",
        "In other words, group by `Reporting_Airline` and summarize the mean of `ArrDelay` of each reporting airline. Remember to use `na.rm = TRUE`.\n",
        "</div>\n"
      ]
    },
    {
      "cell_type": "code",
      "source": [
        "sub_airline %>%\n",
        "  group_by(Reporting_Airline) %>%\n",
        "  summarize(airline_Delay = mean(ArrDelay, na.rm = TRUE))"
      ],
      "metadata": {
        "id": "3MGlBqMkShjm",
        "outputId": "b076688f-325d-417f-f04b-f4ea4b8e6340",
        "colab": {
          "base_uri": "https://localhost:8080/",
          "height": 380
        }
      },
      "execution_count": null,
      "outputs": [
        {
          "output_type": "display_data",
          "data": {
            "text/html": [
              "<table class=\"dataframe\">\n",
              "<caption>A tibble: 9 × 2</caption>\n",
              "<thead>\n",
              "\t<tr><th scope=col>Reporting_Airline</th><th scope=col>airline_Delay</th></tr>\n",
              "\t<tr><th scope=col>&lt;chr&gt;</th><th scope=col>&lt;dbl&gt;</th></tr>\n",
              "</thead>\n",
              "<tbody>\n",
              "\t<tr><td>AA    </td><td> 0.5939781</td></tr>\n",
              "\t<tr><td>AS    </td><td>-1.1111111</td></tr>\n",
              "\t<tr><td>B6    </td><td> 7.8139535</td></tr>\n",
              "\t<tr><td>DL    </td><td> 5.0057034</td></tr>\n",
              "\t<tr><td>HP    </td><td>13.2857143</td></tr>\n",
              "\t<tr><td>PA (1)</td><td>27.9696970</td></tr>\n",
              "\t<tr><td>TW    </td><td>10.4270270</td></tr>\n",
              "\t<tr><td>UA    </td><td> 3.8963093</td></tr>\n",
              "\t<tr><td>VX    </td><td> 6.5193798</td></tr>\n",
              "</tbody>\n",
              "</table>\n"
            ],
            "text/markdown": "\nA tibble: 9 × 2\n\n| Reporting_Airline &lt;chr&gt; | airline_Delay &lt;dbl&gt; |\n|---|---|\n| AA     |  0.5939781 |\n| AS     | -1.1111111 |\n| B6     |  7.8139535 |\n| DL     |  5.0057034 |\n| HP     | 13.2857143 |\n| PA (1) | 27.9696970 |\n| TW     | 10.4270270 |\n| UA     |  3.8963093 |\n| VX     |  6.5193798 |\n\n",
            "text/latex": "A tibble: 9 × 2\n\\begin{tabular}{ll}\n Reporting\\_Airline & airline\\_Delay\\\\\n <chr> & <dbl>\\\\\n\\hline\n\t AA     &  0.5939781\\\\\n\t AS     & -1.1111111\\\\\n\t B6     &  7.8139535\\\\\n\t DL     &  5.0057034\\\\\n\t HP     & 13.2857143\\\\\n\t PA (1) & 27.9696970\\\\\n\t TW     & 10.4270270\\\\\n\t UA     &  3.8963093\\\\\n\t VX     &  6.5193798\\\\\n\\end{tabular}\n",
            "text/plain": [
              "  Reporting_Airline airline_Delay\n",
              "1 AA                 0.5939781   \n",
              "2 AS                -1.1111111   \n",
              "3 B6                 7.8139535   \n",
              "4 DL                 5.0057034   \n",
              "5 HP                13.2857143   \n",
              "6 PA (1)            27.9696970   \n",
              "7 TW                10.4270270   \n",
              "8 UA                 3.8963093   \n",
              "9 VX                 6.5193798   "
            ]
          },
          "metadata": {}
        }
      ]
    },
    {
      "cell_type": "markdown",
      "metadata": {
        "id": "6fb27ce3-74be-4263-acfe-e7cf47e6fad5"
      },
      "source": [
        "<details>\n",
        "    <summary>Click here for the solution.</summary>\n",
        "\n",
        "```r\n",
        "sub_airline %>%\n",
        "  group_by(Reporting_Airline) %>%\n",
        "  summarize(airline_Delay = mean(ArrDelay, na.rm = TRUE))\n",
        "```\n",
        "    \n",
        "</details>\n"
      ]
    },
    {
      "cell_type": "markdown",
      "metadata": {
        "id": "75169574-8093-46d7-ac7e-8059584d17f7"
      },
      "source": [
        "### Glimpse\n",
        "Another method you can use to check your dataset is:\n"
      ]
    },
    {
      "cell_type": "raw",
      "metadata": {
        "id": "6711fe63-b1ca-4aa2-9290-4ca0b3894a68"
      },
      "source": [
        "glimpse()"
      ]
    },
    {
      "cell_type": "markdown",
      "metadata": {
        "id": "273c7b22-6e8b-43ec-9c02-3151f87342f5"
      },
      "source": [
        "It provide a concise summary of your DataFrame.\n"
      ]
    },
    {
      "cell_type": "code",
      "execution_count": null,
      "metadata": {
        "id": "37285ee4-7408-41a8-9a29-8ae3f763d447",
        "colab": {
          "base_uri": "https://localhost:8080/"
        },
        "outputId": "8fbf5fb3-b143-4369-9a76-e6fad0be5dab"
      },
      "outputs": [
        {
          "output_type": "stream",
          "name": "stdout",
          "text": [
            "Rows: 2,855\n",
            "Columns: 21\n",
            "$ Month             \u001b[3m\u001b[90m<dbl>\u001b[39m\u001b[23m 3, 11, 8, 4, 11, 4, 12, 12, 2, 3, 10, 8, 6, 2, 8, 3,…\n",
            "$ DayOfWeek         \u001b[3m\u001b[90m<dbl>\u001b[39m\u001b[23m 5, 4, 5, 7, 3, 1, 1, 3, 4, 4, 4, 5, 4, 3, 7, 6, 4, 4…\n",
            "$ FlightDate        \u001b[3m\u001b[90m<date>\u001b[39m\u001b[23m 2003-03-28, 2018-11-29, 2015-08-28, 2003-04-20, 200…\n",
            "$ Reporting_Airline \u001b[3m\u001b[90m<chr>\u001b[39m\u001b[23m \"UA\", \"AS\", \"UA\", \"DL\", \"UA\", \"UA\", \"VX\", \"HP\", \"UA\"…\n",
            "$ Origin            \u001b[3m\u001b[90m<chr>\u001b[39m\u001b[23m \"LAX\", \"LAX\", \"LAX\", \"LAX\", \"LAX\", \"LAX\", \"LAX\", \"LA…\n",
            "$ Dest              \u001b[3m\u001b[90m<chr>\u001b[39m\u001b[23m \"JFK\", \"JFK\", \"JFK\", \"JFK\", \"JFK\", \"JFK\", \"JFK\", \"JF…\n",
            "$ CRSDepTime        \u001b[3m\u001b[90m<chr>\u001b[39m\u001b[23m \"2210\", \"1045\", \"0805\", \"2205\", \"0840\", \"1450\", \"104…\n",
            "$ CRSArrTime        \u001b[3m\u001b[90m<chr>\u001b[39m\u001b[23m \"0615\", \"1912\", \"1634\", \"0619\", \"1653\", \"2308\", \"190…\n",
            "$ DepTime           \u001b[3m\u001b[90m<chr>\u001b[39m\u001b[23m \"2209\", \"1049\", \"0757\", \"2212\", \"0836\", \"1452\", \"103…\n",
            "$ ArrTime           \u001b[3m\u001b[90m<chr>\u001b[39m\u001b[23m \"0617\", \"1851\", \"1620\", \"0616\", \"1640\", \"2248\", \"190…\n",
            "$ ArrDelay          \u001b[3m\u001b[90m<dbl>\u001b[39m\u001b[23m 2, -21, -14, -3, -13, -20, 1, -40, 25, 7, 5, 34, 21,…\n",
            "$ ArrDelayMinutes   \u001b[3m\u001b[90m<dbl>\u001b[39m\u001b[23m 2, 0, 0, 0, 0, 0, 1, 0, 25, 7, 5, 34, 21, 0, 14, 682…\n",
            "$ CarrierDelay      \u001b[3m\u001b[90m<dbl>\u001b[39m\u001b[23m NA, NA, NA, NA, NA, NA, NA, NA, NA, NA, NA, 11, 0, N…\n",
            "$ WeatherDelay      \u001b[3m\u001b[90m<dbl>\u001b[39m\u001b[23m NA, NA, NA, NA, NA, NA, NA, NA, NA, NA, NA, 0, 0, NA…\n",
            "$ NASDelay          \u001b[3m\u001b[90m<dbl>\u001b[39m\u001b[23m NA, NA, NA, NA, NA, NA, NA, NA, NA, NA, NA, 23, 21, …\n",
            "$ SecurityDelay     \u001b[3m\u001b[90m<dbl>\u001b[39m\u001b[23m NA, NA, NA, NA, NA, NA, NA, NA, NA, NA, NA, 0, 0, NA…\n",
            "$ LateAircraftDelay \u001b[3m\u001b[90m<dbl>\u001b[39m\u001b[23m NA, NA, NA, NA, NA, NA, NA, NA, NA, NA, NA, 0, 0, NA…\n",
            "$ DepDelay          \u001b[3m\u001b[90m<dbl>\u001b[39m\u001b[23m -1, 4, -8, 7, -4, 2, -2, -2, 2, 15, 2, 21, -8, -2, -…\n",
            "$ DepDelayMinutes   \u001b[3m\u001b[90m<dbl>\u001b[39m\u001b[23m 0, 4, 0, 7, 0, 2, 0, 0, 2, 15, 2, 21, 0, 0, 0, 395, …\n",
            "$ DivDistance       \u001b[3m\u001b[90m<dbl>\u001b[39m\u001b[23m NA, NA, NA, NA, NA, NA, NA, NA, NA, NA, NA, NA, NA, …\n",
            "$ DivArrDelay       \u001b[3m\u001b[90m<dbl>\u001b[39m\u001b[23m NA, NA, NA, NA, NA, NA, NA, NA, NA, NA, NA, NA, NA, …\n"
          ]
        }
      ],
      "source": [
        "# look at the info of airline dataset\n",
        "glimpse(sub_airline)"
      ]
    },
    {
      "cell_type": "markdown",
      "metadata": {
        "id": "73a96397-712f-4ecf-9169-b7903aaae000"
      },
      "source": [
        "<p>\n",
        "Here we are able to see the information of our dataframe, it prints out column names, column types, and first few values for brief data previews. It also shows us this subset dataset has 2,855 rows and 21 columns.\n",
        "</p>\n",
        "\n",
        "This subset dataset `sub_airline` (\"lax_to_jfk.csv\") will be used throughout the course.\n"
      ]
    },
    {
      "cell_type": "markdown",
      "metadata": {
        "id": "53fc6dc4-94d6-4091-abde-b4370bbb99c6"
      },
      "source": [
        "<h1>Excellent! You have just completed the  Introduction  Notebook!</h1>\n"
      ]
    },
    {
      "cell_type": "markdown",
      "metadata": {
        "id": "5a06eb00-6d5c-4660-864f-077db01da2d6"
      },
      "source": [
        "### About the Authors:\n",
        "\n",
        "This notebook was written by [Yiwen Li](https://developer.ibm.com/profiles/yiwen.li/?utm_medium=Exinfluencer&utm_source=Exinfluencer&utm_content=000026UJ&utm_term=10006555&utm_id=NA-SkillsNetwork-Channel-SkillsNetworkCoursesIBMDA0151ENSkillsNetwork926-2022-01-01) and [Gabriela De Queiroz](https://developer.ibm.com/profiles/gdq/?utm_medium=Exinfluencer&utm_source=Exinfluencer&utm_content=000026UJ&utm_term=10006555&utm_id=NA-SkillsNetwork-Channel-SkillsNetworkCoursesIBMDA0151ENSkillsNetwork926-2022-01-01).\n",
        "\n",
        "<p><a href=\"https://www.linkedin.com/in/yiwen-li-47a019119/?utm_medium=Exinfluencer&utm_source=Exinfluencer&utm_content=000026UJ&utm_term=10006555&utm_id=NA-SkillsNetwork-Channel-SkillsNetworkCoursesIBMDA0151ENSkillsNetwork926-2022-01-01\" target=\"_blank\">Yiwen Li</a> has approximately three year experiences in big tech industry. Currently, she is a developer advocate, a data scientist, a product manager at IBM, where she designs and develops data science solutions and Machine Learning models to solve real world problems. She has delivered talks this year in JupyterCon, PyCon, Pyjamas, CrowdCast.ai, Global AI on Tour 2020 and Belpy 2021 with hundreds of attendants per talk.\n",
        "        \n",
        "<a href=\"https://www.linkedin.com/in/gabrieladequeiroz/?utm_medium=Exinfluencer&utm_source=Exinfluencer&utm_content=000026UJ&utm_term=10006555&utm_id=NA-SkillsNetwork-Channel-SkillsNetworkCoursesIBMDA0151ENSkillsNetwork926-2022-01-01\" target=\"_blank\">Gabriela de Queiroz</a> is a Sr. Engineering & Data Science Manager at IBM where she manages and leads a team of developers working on Data & AI Open Source projects. She works to democratize AI by building tools and launching new open source projects.\n",
        "She is the founder of AI Inclusive, a global organization that is helping increase the representation and participation of gender minorities in Artificial Intelligence. She is also the founder of R-Ladies, a worldwide organization for promoting diversity in the R community with more than 190 chapters in 50+ countries.\n",
        "She has worked in several startups and where she built teams, developed statistical models, and employed a variety of techniques to derive insights and drive data-centric decisions\n"
      ]
    },
    {
      "cell_type": "markdown",
      "metadata": {
        "id": "2303e385-3536-4d62-8e98-2ada2899103c"
      },
      "source": [
        "Copyright © 2021 IBM Corporation. All rights reserved.\n"
      ]
    }
  ],
  "metadata": {
    "kernelspec": {
      "display_name": "R",
      "name": "ir"
    },
    "language_info": {
      "name": "R"
    },
    "colab": {
      "provenance": []
    }
  },
  "nbformat": 4,
  "nbformat_minor": 0
}